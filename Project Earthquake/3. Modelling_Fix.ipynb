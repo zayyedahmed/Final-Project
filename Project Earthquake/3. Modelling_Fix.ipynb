{
 "cells": [
  {
   "cell_type": "markdown",
   "metadata": {},
   "source": [
    "## __MODELING__"
   ]
  },
  {
   "cell_type": "code",
   "execution_count": 1,
   "metadata": {},
   "outputs": [
    {
     "name": "stderr",
     "output_type": "stream",
     "text": [
      "D:\\anaconda3\\lib\\site-packages\\sklearn\\utils\\deprecation.py:143: FutureWarning: The sklearn.feature_selection.univariate_selection module is  deprecated in version 0.22 and will be removed in version 0.24. The corresponding classes / functions should instead be imported from sklearn.feature_selection. Anything that cannot be imported from sklearn.feature_selection is now part of the private API.\n",
      "  warnings.warn(message, FutureWarning)\n"
     ]
    }
   ],
   "source": [
    "import pandas as pd\n",
    "import numpy as np\n",
    "import seaborn as sns\n",
    "import matplotlib.pyplot as plt\n",
    "from sklearn.linear_model import LogisticRegression\n",
    "from sklearn.neighbors import KNeighborsClassifier\n",
    "from sklearn.tree import DecisionTreeClassifier\n",
    "from sklearn.ensemble import RandomForestClassifier\n",
    "from sklearn.model_selection import train_test_split, GridSearchCV, RandomizedSearchCV, StratifiedKFold, cross_val_score\n",
    "from sklearn.pipeline import Pipeline\n",
    "from sklearn.preprocessing import OneHotEncoder, StandardScaler, RobustScaler, MinMaxScaler\n",
    "from sklearn.compose import ColumnTransformer\n",
    "from sklearn.metrics import classification_report, confusion_matrix, accuracy_score, precision_score, recall_score, f1_score,\\\n",
    "plot_confusion_matrix, precision_recall_curve, plot_precision_recall_curve, confusion_matrix, roc_curve, plot_roc_curve\n",
    "import sklearn\n",
    "sklearn.metrics.SCORERS.keys()\n",
    "from imblearn.over_sampling import RandomOverSampler, SMOTE\n",
    "from sklearn.feature_selection import SelectPercentile, univariate_selection, RFE"
   ]
  },
  {
   "cell_type": "code",
   "execution_count": 2,
   "metadata": {},
   "outputs": [],
   "source": [
    "building = pd.read_csv(\"D:\\Project\\Project\\earthquake\\earthquake_sample.csv\")"
   ]
  },
  {
   "cell_type": "code",
   "execution_count": 3,
   "metadata": {},
   "outputs": [
    {
     "data": {
      "text/html": [
       "<div>\n",
       "<style scoped>\n",
       "    .dataframe tbody tr th:only-of-type {\n",
       "        vertical-align: middle;\n",
       "    }\n",
       "\n",
       "    .dataframe tbody tr th {\n",
       "        vertical-align: top;\n",
       "    }\n",
       "\n",
       "    .dataframe thead th {\n",
       "        text-align: right;\n",
       "    }\n",
       "</style>\n",
       "<table border=\"1\" class=\"dataframe\">\n",
       "  <thead>\n",
       "    <tr style=\"text-align: right;\">\n",
       "      <th></th>\n",
       "      <th>damage</th>\n",
       "      <th>Unnamed: 1</th>\n",
       "      <th>Unnamed: 0</th>\n",
       "      <th>building_id</th>\n",
       "      <th>district_id</th>\n",
       "      <th>vdcmun_id</th>\n",
       "      <th>ward_id</th>\n",
       "      <th>count_floors_pre_eq</th>\n",
       "      <th>count_floors_post_eq</th>\n",
       "      <th>age_building</th>\n",
       "      <th>...</th>\n",
       "      <th>has_superstructure_mud_mortar_brick</th>\n",
       "      <th>has_superstructure_cement_mortar_brick</th>\n",
       "      <th>has_superstructure_timber</th>\n",
       "      <th>has_superstructure_bamboo</th>\n",
       "      <th>has_superstructure_rc_non_engineered</th>\n",
       "      <th>has_superstructure_rc_engineered</th>\n",
       "      <th>has_superstructure_other</th>\n",
       "      <th>condition_post_eq</th>\n",
       "      <th>technical_solution_proposed</th>\n",
       "      <th>damage.1</th>\n",
       "    </tr>\n",
       "  </thead>\n",
       "  <tbody>\n",
       "    <tr>\n",
       "      <th>0</th>\n",
       "      <td>High Damage</td>\n",
       "      <td>281158</td>\n",
       "      <td>281158</td>\n",
       "      <td>234607001581</td>\n",
       "      <td>23</td>\n",
       "      <td>2301</td>\n",
       "      <td>230106</td>\n",
       "      <td>3</td>\n",
       "      <td>0</td>\n",
       "      <td>34</td>\n",
       "      <td>...</td>\n",
       "      <td>0</td>\n",
       "      <td>0</td>\n",
       "      <td>0</td>\n",
       "      <td>0</td>\n",
       "      <td>0</td>\n",
       "      <td>0</td>\n",
       "      <td>0</td>\n",
       "      <td>Damaged-Rubble unclear</td>\n",
       "      <td>Reconstruction</td>\n",
       "      <td>High Damage</td>\n",
       "    </tr>\n",
       "    <tr>\n",
       "      <th>1</th>\n",
       "      <td>High Damage</td>\n",
       "      <td>537666</td>\n",
       "      <td>537666</td>\n",
       "      <td>302001000371</td>\n",
       "      <td>30</td>\n",
       "      <td>3004</td>\n",
       "      <td>300401</td>\n",
       "      <td>2</td>\n",
       "      <td>0</td>\n",
       "      <td>25</td>\n",
       "      <td>...</td>\n",
       "      <td>0</td>\n",
       "      <td>0</td>\n",
       "      <td>0</td>\n",
       "      <td>0</td>\n",
       "      <td>0</td>\n",
       "      <td>0</td>\n",
       "      <td>0</td>\n",
       "      <td>Damaged-Rubble unclear</td>\n",
       "      <td>Reconstruction</td>\n",
       "      <td>High Damage</td>\n",
       "    </tr>\n",
       "    <tr>\n",
       "      <th>2</th>\n",
       "      <td>High Damage</td>\n",
       "      <td>519443</td>\n",
       "      <td>519443</td>\n",
       "      <td>300901000841</td>\n",
       "      <td>30</td>\n",
       "      <td>3007</td>\n",
       "      <td>300704</td>\n",
       "      <td>3</td>\n",
       "      <td>0</td>\n",
       "      <td>35</td>\n",
       "      <td>...</td>\n",
       "      <td>0</td>\n",
       "      <td>0</td>\n",
       "      <td>0</td>\n",
       "      <td>0</td>\n",
       "      <td>0</td>\n",
       "      <td>0</td>\n",
       "      <td>0</td>\n",
       "      <td>Damaged-Rubble Clear-New building built</td>\n",
       "      <td>Reconstruction</td>\n",
       "      <td>High Damage</td>\n",
       "    </tr>\n",
       "    <tr>\n",
       "      <th>3</th>\n",
       "      <td>High Damage</td>\n",
       "      <td>147534</td>\n",
       "      <td>147534</td>\n",
       "      <td>213802000481</td>\n",
       "      <td>21</td>\n",
       "      <td>2106</td>\n",
       "      <td>210606</td>\n",
       "      <td>2</td>\n",
       "      <td>1</td>\n",
       "      <td>11</td>\n",
       "      <td>...</td>\n",
       "      <td>0</td>\n",
       "      <td>0</td>\n",
       "      <td>0</td>\n",
       "      <td>0</td>\n",
       "      <td>0</td>\n",
       "      <td>0</td>\n",
       "      <td>0</td>\n",
       "      <td>Damaged-Not used</td>\n",
       "      <td>Reconstruction</td>\n",
       "      <td>High Damage</td>\n",
       "    </tr>\n",
       "    <tr>\n",
       "      <th>4</th>\n",
       "      <td>High Damage</td>\n",
       "      <td>640713</td>\n",
       "      <td>640713</td>\n",
       "      <td>312008081571</td>\n",
       "      <td>31</td>\n",
       "      <td>3104</td>\n",
       "      <td>310408</td>\n",
       "      <td>1</td>\n",
       "      <td>0</td>\n",
       "      <td>15</td>\n",
       "      <td>...</td>\n",
       "      <td>0</td>\n",
       "      <td>1</td>\n",
       "      <td>0</td>\n",
       "      <td>0</td>\n",
       "      <td>0</td>\n",
       "      <td>0</td>\n",
       "      <td>0</td>\n",
       "      <td>Damaged-Rubble clear</td>\n",
       "      <td>Reconstruction</td>\n",
       "      <td>High Damage</td>\n",
       "    </tr>\n",
       "  </tbody>\n",
       "</table>\n",
       "<p>5 rows × 34 columns</p>\n",
       "</div>"
      ],
      "text/plain": [
       "        damage  Unnamed: 1  Unnamed: 0   building_id  district_id  vdcmun_id  \\\n",
       "0  High Damage      281158      281158  234607001581           23       2301   \n",
       "1  High Damage      537666      537666  302001000371           30       3004   \n",
       "2  High Damage      519443      519443  300901000841           30       3007   \n",
       "3  High Damage      147534      147534  213802000481           21       2106   \n",
       "4  High Damage      640713      640713  312008081571           31       3104   \n",
       "\n",
       "   ward_id  count_floors_pre_eq  count_floors_post_eq  age_building  ...  \\\n",
       "0   230106                    3                     0            34  ...   \n",
       "1   300401                    2                     0            25  ...   \n",
       "2   300704                    3                     0            35  ...   \n",
       "3   210606                    2                     1            11  ...   \n",
       "4   310408                    1                     0            15  ...   \n",
       "\n",
       "   has_superstructure_mud_mortar_brick  \\\n",
       "0                                    0   \n",
       "1                                    0   \n",
       "2                                    0   \n",
       "3                                    0   \n",
       "4                                    0   \n",
       "\n",
       "   has_superstructure_cement_mortar_brick  has_superstructure_timber  \\\n",
       "0                                       0                          0   \n",
       "1                                       0                          0   \n",
       "2                                       0                          0   \n",
       "3                                       0                          0   \n",
       "4                                       1                          0   \n",
       "\n",
       "  has_superstructure_bamboo has_superstructure_rc_non_engineered  \\\n",
       "0                         0                                    0   \n",
       "1                         0                                    0   \n",
       "2                         0                                    0   \n",
       "3                         0                                    0   \n",
       "4                         0                                    0   \n",
       "\n",
       "  has_superstructure_rc_engineered has_superstructure_other  \\\n",
       "0                                0                        0   \n",
       "1                                0                        0   \n",
       "2                                0                        0   \n",
       "3                                0                        0   \n",
       "4                                0                        0   \n",
       "\n",
       "                         condition_post_eq technical_solution_proposed  \\\n",
       "0                   Damaged-Rubble unclear              Reconstruction   \n",
       "1                   Damaged-Rubble unclear              Reconstruction   \n",
       "2  Damaged-Rubble Clear-New building built              Reconstruction   \n",
       "3                         Damaged-Not used              Reconstruction   \n",
       "4                     Damaged-Rubble clear              Reconstruction   \n",
       "\n",
       "      damage.1  \n",
       "0  High Damage  \n",
       "1  High Damage  \n",
       "2  High Damage  \n",
       "3  High Damage  \n",
       "4  High Damage  \n",
       "\n",
       "[5 rows x 34 columns]"
      ]
     },
     "execution_count": 3,
     "metadata": {},
     "output_type": "execute_result"
    }
   ],
   "source": [
    "building.head()"
   ]
  },
  {
   "cell_type": "code",
   "execution_count": 80,
   "metadata": {},
   "outputs": [
    {
     "ename": "KeyError",
     "evalue": "'district_id'",
     "output_type": "error",
     "traceback": [
      "\u001b[1;31m---------------------------------------------------------------------------\u001b[0m",
      "\u001b[1;31mKeyError\u001b[0m                                  Traceback (most recent call last)",
      "\u001b[1;32mD:\\anaconda3\\lib\\site-packages\\pandas\\core\\indexes\\base.py\u001b[0m in \u001b[0;36mget_loc\u001b[1;34m(self, key, method, tolerance)\u001b[0m\n\u001b[0;32m   2645\u001b[0m             \u001b[1;32mtry\u001b[0m\u001b[1;33m:\u001b[0m\u001b[1;33m\u001b[0m\u001b[1;33m\u001b[0m\u001b[0m\n\u001b[1;32m-> 2646\u001b[1;33m                 \u001b[1;32mreturn\u001b[0m \u001b[0mself\u001b[0m\u001b[1;33m.\u001b[0m\u001b[0m_engine\u001b[0m\u001b[1;33m.\u001b[0m\u001b[0mget_loc\u001b[0m\u001b[1;33m(\u001b[0m\u001b[0mkey\u001b[0m\u001b[1;33m)\u001b[0m\u001b[1;33m\u001b[0m\u001b[1;33m\u001b[0m\u001b[0m\n\u001b[0m\u001b[0;32m   2647\u001b[0m             \u001b[1;32mexcept\u001b[0m \u001b[0mKeyError\u001b[0m\u001b[1;33m:\u001b[0m\u001b[1;33m\u001b[0m\u001b[1;33m\u001b[0m\u001b[0m\n",
      "\u001b[1;32mpandas\\_libs\\index.pyx\u001b[0m in \u001b[0;36mpandas._libs.index.IndexEngine.get_loc\u001b[1;34m()\u001b[0m\n",
      "\u001b[1;32mpandas\\_libs\\index.pyx\u001b[0m in \u001b[0;36mpandas._libs.index.IndexEngine.get_loc\u001b[1;34m()\u001b[0m\n",
      "\u001b[1;32mpandas\\_libs\\hashtable_class_helper.pxi\u001b[0m in \u001b[0;36mpandas._libs.hashtable.PyObjectHashTable.get_item\u001b[1;34m()\u001b[0m\n",
      "\u001b[1;32mpandas\\_libs\\hashtable_class_helper.pxi\u001b[0m in \u001b[0;36mpandas._libs.hashtable.PyObjectHashTable.get_item\u001b[1;34m()\u001b[0m\n",
      "\u001b[1;31mKeyError\u001b[0m: 'district_id'",
      "\nDuring handling of the above exception, another exception occurred:\n",
      "\u001b[1;31mKeyError\u001b[0m                                  Traceback (most recent call last)",
      "\u001b[1;32m<ipython-input-80-7822ea543335>\u001b[0m in \u001b[0;36m<module>\u001b[1;34m\u001b[0m\n\u001b[1;32m----> 1\u001b[1;33m \u001b[0mbuilding\u001b[0m\u001b[1;33m[\u001b[0m\u001b[1;34m'district_id'\u001b[0m\u001b[1;33m]\u001b[0m\u001b[1;33m.\u001b[0m\u001b[0mnunique\u001b[0m\u001b[1;33m(\u001b[0m\u001b[1;33m)\u001b[0m\u001b[1;33m\u001b[0m\u001b[1;33m\u001b[0m\u001b[0m\n\u001b[0m",
      "\u001b[1;32mD:\\anaconda3\\lib\\site-packages\\pandas\\core\\frame.py\u001b[0m in \u001b[0;36m__getitem__\u001b[1;34m(self, key)\u001b[0m\n\u001b[0;32m   2798\u001b[0m             \u001b[1;32mif\u001b[0m \u001b[0mself\u001b[0m\u001b[1;33m.\u001b[0m\u001b[0mcolumns\u001b[0m\u001b[1;33m.\u001b[0m\u001b[0mnlevels\u001b[0m \u001b[1;33m>\u001b[0m \u001b[1;36m1\u001b[0m\u001b[1;33m:\u001b[0m\u001b[1;33m\u001b[0m\u001b[1;33m\u001b[0m\u001b[0m\n\u001b[0;32m   2799\u001b[0m                 \u001b[1;32mreturn\u001b[0m \u001b[0mself\u001b[0m\u001b[1;33m.\u001b[0m\u001b[0m_getitem_multilevel\u001b[0m\u001b[1;33m(\u001b[0m\u001b[0mkey\u001b[0m\u001b[1;33m)\u001b[0m\u001b[1;33m\u001b[0m\u001b[1;33m\u001b[0m\u001b[0m\n\u001b[1;32m-> 2800\u001b[1;33m             \u001b[0mindexer\u001b[0m \u001b[1;33m=\u001b[0m \u001b[0mself\u001b[0m\u001b[1;33m.\u001b[0m\u001b[0mcolumns\u001b[0m\u001b[1;33m.\u001b[0m\u001b[0mget_loc\u001b[0m\u001b[1;33m(\u001b[0m\u001b[0mkey\u001b[0m\u001b[1;33m)\u001b[0m\u001b[1;33m\u001b[0m\u001b[1;33m\u001b[0m\u001b[0m\n\u001b[0m\u001b[0;32m   2801\u001b[0m             \u001b[1;32mif\u001b[0m \u001b[0mis_integer\u001b[0m\u001b[1;33m(\u001b[0m\u001b[0mindexer\u001b[0m\u001b[1;33m)\u001b[0m\u001b[1;33m:\u001b[0m\u001b[1;33m\u001b[0m\u001b[1;33m\u001b[0m\u001b[0m\n\u001b[0;32m   2802\u001b[0m                 \u001b[0mindexer\u001b[0m \u001b[1;33m=\u001b[0m \u001b[1;33m[\u001b[0m\u001b[0mindexer\u001b[0m\u001b[1;33m]\u001b[0m\u001b[1;33m\u001b[0m\u001b[1;33m\u001b[0m\u001b[0m\n",
      "\u001b[1;32mD:\\anaconda3\\lib\\site-packages\\pandas\\core\\indexes\\base.py\u001b[0m in \u001b[0;36mget_loc\u001b[1;34m(self, key, method, tolerance)\u001b[0m\n\u001b[0;32m   2646\u001b[0m                 \u001b[1;32mreturn\u001b[0m \u001b[0mself\u001b[0m\u001b[1;33m.\u001b[0m\u001b[0m_engine\u001b[0m\u001b[1;33m.\u001b[0m\u001b[0mget_loc\u001b[0m\u001b[1;33m(\u001b[0m\u001b[0mkey\u001b[0m\u001b[1;33m)\u001b[0m\u001b[1;33m\u001b[0m\u001b[1;33m\u001b[0m\u001b[0m\n\u001b[0;32m   2647\u001b[0m             \u001b[1;32mexcept\u001b[0m \u001b[0mKeyError\u001b[0m\u001b[1;33m:\u001b[0m\u001b[1;33m\u001b[0m\u001b[1;33m\u001b[0m\u001b[0m\n\u001b[1;32m-> 2648\u001b[1;33m                 \u001b[1;32mreturn\u001b[0m \u001b[0mself\u001b[0m\u001b[1;33m.\u001b[0m\u001b[0m_engine\u001b[0m\u001b[1;33m.\u001b[0m\u001b[0mget_loc\u001b[0m\u001b[1;33m(\u001b[0m\u001b[0mself\u001b[0m\u001b[1;33m.\u001b[0m\u001b[0m_maybe_cast_indexer\u001b[0m\u001b[1;33m(\u001b[0m\u001b[0mkey\u001b[0m\u001b[1;33m)\u001b[0m\u001b[1;33m)\u001b[0m\u001b[1;33m\u001b[0m\u001b[1;33m\u001b[0m\u001b[0m\n\u001b[0m\u001b[0;32m   2649\u001b[0m         \u001b[0mindexer\u001b[0m \u001b[1;33m=\u001b[0m \u001b[0mself\u001b[0m\u001b[1;33m.\u001b[0m\u001b[0mget_indexer\u001b[0m\u001b[1;33m(\u001b[0m\u001b[1;33m[\u001b[0m\u001b[0mkey\u001b[0m\u001b[1;33m]\u001b[0m\u001b[1;33m,\u001b[0m \u001b[0mmethod\u001b[0m\u001b[1;33m=\u001b[0m\u001b[0mmethod\u001b[0m\u001b[1;33m,\u001b[0m \u001b[0mtolerance\u001b[0m\u001b[1;33m=\u001b[0m\u001b[0mtolerance\u001b[0m\u001b[1;33m)\u001b[0m\u001b[1;33m\u001b[0m\u001b[1;33m\u001b[0m\u001b[0m\n\u001b[0;32m   2650\u001b[0m         \u001b[1;32mif\u001b[0m \u001b[0mindexer\u001b[0m\u001b[1;33m.\u001b[0m\u001b[0mndim\u001b[0m \u001b[1;33m>\u001b[0m \u001b[1;36m1\u001b[0m \u001b[1;32mor\u001b[0m \u001b[0mindexer\u001b[0m\u001b[1;33m.\u001b[0m\u001b[0msize\u001b[0m \u001b[1;33m>\u001b[0m \u001b[1;36m1\u001b[0m\u001b[1;33m:\u001b[0m\u001b[1;33m\u001b[0m\u001b[1;33m\u001b[0m\u001b[0m\n",
      "\u001b[1;32mpandas\\_libs\\index.pyx\u001b[0m in \u001b[0;36mpandas._libs.index.IndexEngine.get_loc\u001b[1;34m()\u001b[0m\n",
      "\u001b[1;32mpandas\\_libs\\index.pyx\u001b[0m in \u001b[0;36mpandas._libs.index.IndexEngine.get_loc\u001b[1;34m()\u001b[0m\n",
      "\u001b[1;32mpandas\\_libs\\hashtable_class_helper.pxi\u001b[0m in \u001b[0;36mpandas._libs.hashtable.PyObjectHashTable.get_item\u001b[1;34m()\u001b[0m\n",
      "\u001b[1;32mpandas\\_libs\\hashtable_class_helper.pxi\u001b[0m in \u001b[0;36mpandas._libs.hashtable.PyObjectHashTable.get_item\u001b[1;34m()\u001b[0m\n",
      "\u001b[1;31mKeyError\u001b[0m: 'district_id'"
     ]
    }
   ],
   "source": [
    "building['district_id'].nunique()"
   ]
  },
  {
   "cell_type": "code",
   "execution_count": 4,
   "metadata": {},
   "outputs": [
    {
     "name": "stdout",
     "output_type": "stream",
     "text": [
      "<class 'pandas.core.frame.DataFrame'>\n",
      "RangeIndex: 37930 entries, 0 to 37929\n",
      "Data columns (total 34 columns):\n",
      " #   Column                                  Non-Null Count  Dtype  \n",
      "---  ------                                  --------------  -----  \n",
      " 0   damage                                  37930 non-null  object \n",
      " 1   Unnamed: 1                              37930 non-null  int64  \n",
      " 2   Unnamed: 0                              37930 non-null  int64  \n",
      " 3   building_id                             37930 non-null  int64  \n",
      " 4   district_id                             37930 non-null  int64  \n",
      " 5   vdcmun_id                               37930 non-null  int64  \n",
      " 6   ward_id                                 37930 non-null  int64  \n",
      " 7   count_floors_pre_eq                     37930 non-null  int64  \n",
      " 8   count_floors_post_eq                    37930 non-null  int64  \n",
      " 9   age_building                            37930 non-null  int64  \n",
      " 10  plinth_area_sq_ft                       37930 non-null  float64\n",
      " 11  height_ft_pre_eq                        37930 non-null  float64\n",
      " 12  height_ft_post_eq                       37930 non-null  float64\n",
      " 13  land_surface_condition                  37930 non-null  object \n",
      " 14  foundation_type                         37930 non-null  object \n",
      " 15  roof_type                               37930 non-null  object \n",
      " 16  ground_floor_type                       37930 non-null  object \n",
      " 17  other_floor_type                        37930 non-null  object \n",
      " 18  position                                37930 non-null  object \n",
      " 19  plan_configuration                      37930 non-null  object \n",
      " 20  has_superstructure_adobe_mud            37930 non-null  int64  \n",
      " 21  has_superstructure_mud_mortar_stone     37930 non-null  int64  \n",
      " 22  has_superstructure_stone_flag           37930 non-null  int64  \n",
      " 23  has_superstructure_cement_mortar_stone  37930 non-null  int64  \n",
      " 24  has_superstructure_mud_mortar_brick     37930 non-null  int64  \n",
      " 25  has_superstructure_cement_mortar_brick  37930 non-null  int64  \n",
      " 26  has_superstructure_timber               37930 non-null  int64  \n",
      " 27  has_superstructure_bamboo               37930 non-null  int64  \n",
      " 28  has_superstructure_rc_non_engineered    37930 non-null  int64  \n",
      " 29  has_superstructure_rc_engineered        37930 non-null  int64  \n",
      " 30  has_superstructure_other                37930 non-null  int64  \n",
      " 31  condition_post_eq                       37930 non-null  object \n",
      " 32  technical_solution_proposed             37930 non-null  object \n",
      " 33  damage.1                                37930 non-null  object \n",
      "dtypes: float64(3), int64(20), object(11)\n",
      "memory usage: 9.8+ MB\n"
     ]
    }
   ],
   "source": [
    "building.info()"
   ]
  },
  {
   "cell_type": "code",
   "execution_count": 5,
   "metadata": {},
   "outputs": [
    {
     "data": {
      "text/plain": [
       "(37930, 34)"
      ]
     },
     "execution_count": 5,
     "metadata": {},
     "output_type": "execute_result"
    }
   ],
   "source": [
    "building.shape"
   ]
  },
  {
   "cell_type": "code",
   "execution_count": 6,
   "metadata": {},
   "outputs": [],
   "source": [
    "building.drop([\"Unnamed: 0\",\"Unnamed: 1\", \"building_id\", \"district_id\", \"vdcmun_id\", \"ward_id\", \"has_superstructure_adobe_mud\", \"has_superstructure_mud_mortar_stone\", \"has_superstructure_stone_flag\", \"has_superstructure_cement_mortar_stone\", \"has_superstructure_mud_mortar_brick\", \"has_superstructure_cement_mortar_brick\", \"has_superstructure_timber\", \"has_superstructure_bamboo\", \"has_superstructure_rc_non_engineered\", \"has_superstructure_rc_engineered\", \"has_superstructure_other\" ], axis=1, inplace=True)"
   ]
  },
  {
   "cell_type": "code",
   "execution_count": 7,
   "metadata": {},
   "outputs": [
    {
     "data": {
      "text/html": [
       "<div>\n",
       "<style scoped>\n",
       "    .dataframe tbody tr th:only-of-type {\n",
       "        vertical-align: middle;\n",
       "    }\n",
       "\n",
       "    .dataframe tbody tr th {\n",
       "        vertical-align: top;\n",
       "    }\n",
       "\n",
       "    .dataframe thead th {\n",
       "        text-align: right;\n",
       "    }\n",
       "</style>\n",
       "<table border=\"1\" class=\"dataframe\">\n",
       "  <thead>\n",
       "    <tr style=\"text-align: right;\">\n",
       "      <th></th>\n",
       "      <th>damage</th>\n",
       "      <th>count_floors_pre_eq</th>\n",
       "      <th>count_floors_post_eq</th>\n",
       "      <th>age_building</th>\n",
       "      <th>plinth_area_sq_ft</th>\n",
       "      <th>height_ft_pre_eq</th>\n",
       "      <th>height_ft_post_eq</th>\n",
       "      <th>land_surface_condition</th>\n",
       "      <th>foundation_type</th>\n",
       "      <th>roof_type</th>\n",
       "      <th>ground_floor_type</th>\n",
       "      <th>other_floor_type</th>\n",
       "      <th>position</th>\n",
       "      <th>plan_configuration</th>\n",
       "      <th>condition_post_eq</th>\n",
       "      <th>technical_solution_proposed</th>\n",
       "      <th>damage.1</th>\n",
       "    </tr>\n",
       "  </thead>\n",
       "  <tbody>\n",
       "    <tr>\n",
       "      <th>0</th>\n",
       "      <td>High Damage</td>\n",
       "      <td>3</td>\n",
       "      <td>0</td>\n",
       "      <td>34</td>\n",
       "      <td>32.52</td>\n",
       "      <td>5.49</td>\n",
       "      <td>0.00</td>\n",
       "      <td>Flat</td>\n",
       "      <td>Mud mortar-Stone/Brick</td>\n",
       "      <td>Bamboo/Timber-Heavy roof</td>\n",
       "      <td>Mud</td>\n",
       "      <td>TImber/Bamboo-Mud</td>\n",
       "      <td>Not attached</td>\n",
       "      <td>Rectangular</td>\n",
       "      <td>Damaged-Rubble unclear</td>\n",
       "      <td>Reconstruction</td>\n",
       "      <td>High Damage</td>\n",
       "    </tr>\n",
       "    <tr>\n",
       "      <th>1</th>\n",
       "      <td>High Damage</td>\n",
       "      <td>2</td>\n",
       "      <td>0</td>\n",
       "      <td>25</td>\n",
       "      <td>29.26</td>\n",
       "      <td>4.27</td>\n",
       "      <td>0.00</td>\n",
       "      <td>Flat</td>\n",
       "      <td>Mud mortar-Stone/Brick</td>\n",
       "      <td>Bamboo/Timber-Light roof</td>\n",
       "      <td>Mud</td>\n",
       "      <td>TImber/Bamboo-Mud</td>\n",
       "      <td>Not attached</td>\n",
       "      <td>Rectangular</td>\n",
       "      <td>Damaged-Rubble unclear</td>\n",
       "      <td>Reconstruction</td>\n",
       "      <td>High Damage</td>\n",
       "    </tr>\n",
       "    <tr>\n",
       "      <th>2</th>\n",
       "      <td>High Damage</td>\n",
       "      <td>3</td>\n",
       "      <td>0</td>\n",
       "      <td>35</td>\n",
       "      <td>98.10</td>\n",
       "      <td>9.14</td>\n",
       "      <td>0.00</td>\n",
       "      <td>Flat</td>\n",
       "      <td>Mud mortar-Stone/Brick</td>\n",
       "      <td>Bamboo/Timber-Heavy roof</td>\n",
       "      <td>Brick/Stone</td>\n",
       "      <td>Timber-Planck</td>\n",
       "      <td>Not attached</td>\n",
       "      <td>Rectangular</td>\n",
       "      <td>Damaged-Rubble Clear-New building built</td>\n",
       "      <td>Reconstruction</td>\n",
       "      <td>High Damage</td>\n",
       "    </tr>\n",
       "    <tr>\n",
       "      <th>3</th>\n",
       "      <td>High Damage</td>\n",
       "      <td>2</td>\n",
       "      <td>1</td>\n",
       "      <td>11</td>\n",
       "      <td>27.87</td>\n",
       "      <td>3.66</td>\n",
       "      <td>1.83</td>\n",
       "      <td>Flat</td>\n",
       "      <td>Mud mortar-Stone/Brick</td>\n",
       "      <td>Bamboo/Timber-Light roof</td>\n",
       "      <td>Mud</td>\n",
       "      <td>TImber/Bamboo-Mud</td>\n",
       "      <td>Not attached</td>\n",
       "      <td>Rectangular</td>\n",
       "      <td>Damaged-Not used</td>\n",
       "      <td>Reconstruction</td>\n",
       "      <td>High Damage</td>\n",
       "    </tr>\n",
       "    <tr>\n",
       "      <th>4</th>\n",
       "      <td>High Damage</td>\n",
       "      <td>1</td>\n",
       "      <td>0</td>\n",
       "      <td>15</td>\n",
       "      <td>41.81</td>\n",
       "      <td>2.44</td>\n",
       "      <td>0.00</td>\n",
       "      <td>Flat</td>\n",
       "      <td>Mud mortar-Stone/Brick</td>\n",
       "      <td>RCC/RB/RBC</td>\n",
       "      <td>RC</td>\n",
       "      <td>Not applicable</td>\n",
       "      <td>Not attached</td>\n",
       "      <td>Rectangular</td>\n",
       "      <td>Damaged-Rubble clear</td>\n",
       "      <td>Reconstruction</td>\n",
       "      <td>High Damage</td>\n",
       "    </tr>\n",
       "  </tbody>\n",
       "</table>\n",
       "</div>"
      ],
      "text/plain": [
       "        damage  count_floors_pre_eq  count_floors_post_eq  age_building  \\\n",
       "0  High Damage                    3                     0            34   \n",
       "1  High Damage                    2                     0            25   \n",
       "2  High Damage                    3                     0            35   \n",
       "3  High Damage                    2                     1            11   \n",
       "4  High Damage                    1                     0            15   \n",
       "\n",
       "   plinth_area_sq_ft  height_ft_pre_eq  height_ft_post_eq  \\\n",
       "0              32.52              5.49               0.00   \n",
       "1              29.26              4.27               0.00   \n",
       "2              98.10              9.14               0.00   \n",
       "3              27.87              3.66               1.83   \n",
       "4              41.81              2.44               0.00   \n",
       "\n",
       "  land_surface_condition         foundation_type                 roof_type  \\\n",
       "0                   Flat  Mud mortar-Stone/Brick  Bamboo/Timber-Heavy roof   \n",
       "1                   Flat  Mud mortar-Stone/Brick  Bamboo/Timber-Light roof   \n",
       "2                   Flat  Mud mortar-Stone/Brick  Bamboo/Timber-Heavy roof   \n",
       "3                   Flat  Mud mortar-Stone/Brick  Bamboo/Timber-Light roof   \n",
       "4                   Flat  Mud mortar-Stone/Brick                RCC/RB/RBC   \n",
       "\n",
       "  ground_floor_type   other_floor_type      position plan_configuration  \\\n",
       "0               Mud  TImber/Bamboo-Mud  Not attached        Rectangular   \n",
       "1               Mud  TImber/Bamboo-Mud  Not attached        Rectangular   \n",
       "2       Brick/Stone      Timber-Planck  Not attached        Rectangular   \n",
       "3               Mud  TImber/Bamboo-Mud  Not attached        Rectangular   \n",
       "4                RC     Not applicable  Not attached        Rectangular   \n",
       "\n",
       "                         condition_post_eq technical_solution_proposed  \\\n",
       "0                   Damaged-Rubble unclear              Reconstruction   \n",
       "1                   Damaged-Rubble unclear              Reconstruction   \n",
       "2  Damaged-Rubble Clear-New building built              Reconstruction   \n",
       "3                         Damaged-Not used              Reconstruction   \n",
       "4                     Damaged-Rubble clear              Reconstruction   \n",
       "\n",
       "      damage.1  \n",
       "0  High Damage  \n",
       "1  High Damage  \n",
       "2  High Damage  \n",
       "3  High Damage  \n",
       "4  High Damage  "
      ]
     },
     "execution_count": 7,
     "metadata": {},
     "output_type": "execute_result"
    }
   ],
   "source": [
    "building.head()"
   ]
  },
  {
   "cell_type": "code",
   "execution_count": 8,
   "metadata": {},
   "outputs": [
    {
     "name": "stdout",
     "output_type": "stream",
     "text": [
      "<class 'pandas.core.frame.DataFrame'>\n",
      "RangeIndex: 37930 entries, 0 to 37929\n",
      "Data columns (total 17 columns):\n",
      " #   Column                       Non-Null Count  Dtype  \n",
      "---  ------                       --------------  -----  \n",
      " 0   damage                       37930 non-null  object \n",
      " 1   count_floors_pre_eq          37930 non-null  int64  \n",
      " 2   count_floors_post_eq         37930 non-null  int64  \n",
      " 3   age_building                 37930 non-null  int64  \n",
      " 4   plinth_area_sq_ft            37930 non-null  float64\n",
      " 5   height_ft_pre_eq             37930 non-null  float64\n",
      " 6   height_ft_post_eq            37930 non-null  float64\n",
      " 7   land_surface_condition       37930 non-null  object \n",
      " 8   foundation_type              37930 non-null  object \n",
      " 9   roof_type                    37930 non-null  object \n",
      " 10  ground_floor_type            37930 non-null  object \n",
      " 11  other_floor_type             37930 non-null  object \n",
      " 12  position                     37930 non-null  object \n",
      " 13  plan_configuration           37930 non-null  object \n",
      " 14  condition_post_eq            37930 non-null  object \n",
      " 15  technical_solution_proposed  37930 non-null  object \n",
      " 16  damage.1                     37930 non-null  object \n",
      "dtypes: float64(3), int64(3), object(11)\n",
      "memory usage: 4.9+ MB\n"
     ]
    }
   ],
   "source": [
    "building.info()"
   ]
  },
  {
   "cell_type": "code",
   "execution_count": 9,
   "metadata": {},
   "outputs": [],
   "source": [
    "bu = building[[\"age_building\", \"count_floors_pre_eq\", \"plinth_area_sq_ft\",\"height_ft_pre_eq\", \"foundation_type\", \"roof_type\", \"ground_floor_type\",'other_floor_type', \"damage\"]]"
   ]
  },
  {
   "cell_type": "code",
   "execution_count": 10,
   "metadata": {},
   "outputs": [
    {
     "data": {
      "text/html": [
       "<div>\n",
       "<style scoped>\n",
       "    .dataframe tbody tr th:only-of-type {\n",
       "        vertical-align: middle;\n",
       "    }\n",
       "\n",
       "    .dataframe tbody tr th {\n",
       "        vertical-align: top;\n",
       "    }\n",
       "\n",
       "    .dataframe thead th {\n",
       "        text-align: right;\n",
       "    }\n",
       "</style>\n",
       "<table border=\"1\" class=\"dataframe\">\n",
       "  <thead>\n",
       "    <tr style=\"text-align: right;\">\n",
       "      <th></th>\n",
       "      <th>age_building</th>\n",
       "      <th>count_floors_pre_eq</th>\n",
       "      <th>plinth_area_sq_ft</th>\n",
       "      <th>height_ft_pre_eq</th>\n",
       "      <th>foundation_type</th>\n",
       "      <th>roof_type</th>\n",
       "      <th>ground_floor_type</th>\n",
       "      <th>other_floor_type</th>\n",
       "      <th>damage</th>\n",
       "    </tr>\n",
       "  </thead>\n",
       "  <tbody>\n",
       "    <tr>\n",
       "      <th>0</th>\n",
       "      <td>34</td>\n",
       "      <td>3</td>\n",
       "      <td>32.52</td>\n",
       "      <td>5.49</td>\n",
       "      <td>Mud mortar-Stone/Brick</td>\n",
       "      <td>Bamboo/Timber-Heavy roof</td>\n",
       "      <td>Mud</td>\n",
       "      <td>TImber/Bamboo-Mud</td>\n",
       "      <td>High Damage</td>\n",
       "    </tr>\n",
       "    <tr>\n",
       "      <th>1</th>\n",
       "      <td>25</td>\n",
       "      <td>2</td>\n",
       "      <td>29.26</td>\n",
       "      <td>4.27</td>\n",
       "      <td>Mud mortar-Stone/Brick</td>\n",
       "      <td>Bamboo/Timber-Light roof</td>\n",
       "      <td>Mud</td>\n",
       "      <td>TImber/Bamboo-Mud</td>\n",
       "      <td>High Damage</td>\n",
       "    </tr>\n",
       "    <tr>\n",
       "      <th>2</th>\n",
       "      <td>35</td>\n",
       "      <td>3</td>\n",
       "      <td>98.10</td>\n",
       "      <td>9.14</td>\n",
       "      <td>Mud mortar-Stone/Brick</td>\n",
       "      <td>Bamboo/Timber-Heavy roof</td>\n",
       "      <td>Brick/Stone</td>\n",
       "      <td>Timber-Planck</td>\n",
       "      <td>High Damage</td>\n",
       "    </tr>\n",
       "    <tr>\n",
       "      <th>3</th>\n",
       "      <td>11</td>\n",
       "      <td>2</td>\n",
       "      <td>27.87</td>\n",
       "      <td>3.66</td>\n",
       "      <td>Mud mortar-Stone/Brick</td>\n",
       "      <td>Bamboo/Timber-Light roof</td>\n",
       "      <td>Mud</td>\n",
       "      <td>TImber/Bamboo-Mud</td>\n",
       "      <td>High Damage</td>\n",
       "    </tr>\n",
       "    <tr>\n",
       "      <th>4</th>\n",
       "      <td>15</td>\n",
       "      <td>1</td>\n",
       "      <td>41.81</td>\n",
       "      <td>2.44</td>\n",
       "      <td>Mud mortar-Stone/Brick</td>\n",
       "      <td>RCC/RB/RBC</td>\n",
       "      <td>RC</td>\n",
       "      <td>Not applicable</td>\n",
       "      <td>High Damage</td>\n",
       "    </tr>\n",
       "    <tr>\n",
       "      <th>...</th>\n",
       "      <td>...</td>\n",
       "      <td>...</td>\n",
       "      <td>...</td>\n",
       "      <td>...</td>\n",
       "      <td>...</td>\n",
       "      <td>...</td>\n",
       "      <td>...</td>\n",
       "      <td>...</td>\n",
       "      <td>...</td>\n",
       "    </tr>\n",
       "    <tr>\n",
       "      <th>37925</th>\n",
       "      <td>22</td>\n",
       "      <td>3</td>\n",
       "      <td>53.51</td>\n",
       "      <td>7.32</td>\n",
       "      <td>Mud mortar-Stone/Brick</td>\n",
       "      <td>Bamboo/Timber-Heavy roof</td>\n",
       "      <td>Mud</td>\n",
       "      <td>TImber/Bamboo-Mud</td>\n",
       "      <td>Low Damage</td>\n",
       "    </tr>\n",
       "    <tr>\n",
       "      <th>37926</th>\n",
       "      <td>7</td>\n",
       "      <td>2</td>\n",
       "      <td>37.90</td>\n",
       "      <td>3.66</td>\n",
       "      <td>Mud mortar-Stone/Brick</td>\n",
       "      <td>Bamboo/Timber-Heavy roof</td>\n",
       "      <td>Mud</td>\n",
       "      <td>TImber/Bamboo-Mud</td>\n",
       "      <td>Low Damage</td>\n",
       "    </tr>\n",
       "    <tr>\n",
       "      <th>37927</th>\n",
       "      <td>20</td>\n",
       "      <td>2</td>\n",
       "      <td>55.74</td>\n",
       "      <td>3.96</td>\n",
       "      <td>Mud mortar-Stone/Brick</td>\n",
       "      <td>Bamboo/Timber-Heavy roof</td>\n",
       "      <td>Mud</td>\n",
       "      <td>TImber/Bamboo-Mud</td>\n",
       "      <td>Low Damage</td>\n",
       "    </tr>\n",
       "    <tr>\n",
       "      <th>37928</th>\n",
       "      <td>15</td>\n",
       "      <td>2</td>\n",
       "      <td>32.52</td>\n",
       "      <td>4.88</td>\n",
       "      <td>Bamboo/Timber</td>\n",
       "      <td>Bamboo/Timber-Heavy roof</td>\n",
       "      <td>Mud</td>\n",
       "      <td>Timber-Planck</td>\n",
       "      <td>Low Damage</td>\n",
       "    </tr>\n",
       "    <tr>\n",
       "      <th>37929</th>\n",
       "      <td>5</td>\n",
       "      <td>1</td>\n",
       "      <td>10.22</td>\n",
       "      <td>3.05</td>\n",
       "      <td>Other</td>\n",
       "      <td>Bamboo/Timber-Light roof</td>\n",
       "      <td>Mud</td>\n",
       "      <td>Not applicable</td>\n",
       "      <td>Low Damage</td>\n",
       "    </tr>\n",
       "  </tbody>\n",
       "</table>\n",
       "<p>37930 rows × 9 columns</p>\n",
       "</div>"
      ],
      "text/plain": [
       "       age_building  count_floors_pre_eq  plinth_area_sq_ft  height_ft_pre_eq  \\\n",
       "0                34                    3              32.52              5.49   \n",
       "1                25                    2              29.26              4.27   \n",
       "2                35                    3              98.10              9.14   \n",
       "3                11                    2              27.87              3.66   \n",
       "4                15                    1              41.81              2.44   \n",
       "...             ...                  ...                ...               ...   \n",
       "37925            22                    3              53.51              7.32   \n",
       "37926             7                    2              37.90              3.66   \n",
       "37927            20                    2              55.74              3.96   \n",
       "37928            15                    2              32.52              4.88   \n",
       "37929             5                    1              10.22              3.05   \n",
       "\n",
       "              foundation_type                 roof_type ground_floor_type  \\\n",
       "0      Mud mortar-Stone/Brick  Bamboo/Timber-Heavy roof               Mud   \n",
       "1      Mud mortar-Stone/Brick  Bamboo/Timber-Light roof               Mud   \n",
       "2      Mud mortar-Stone/Brick  Bamboo/Timber-Heavy roof       Brick/Stone   \n",
       "3      Mud mortar-Stone/Brick  Bamboo/Timber-Light roof               Mud   \n",
       "4      Mud mortar-Stone/Brick                RCC/RB/RBC                RC   \n",
       "...                       ...                       ...               ...   \n",
       "37925  Mud mortar-Stone/Brick  Bamboo/Timber-Heavy roof               Mud   \n",
       "37926  Mud mortar-Stone/Brick  Bamboo/Timber-Heavy roof               Mud   \n",
       "37927  Mud mortar-Stone/Brick  Bamboo/Timber-Heavy roof               Mud   \n",
       "37928           Bamboo/Timber  Bamboo/Timber-Heavy roof               Mud   \n",
       "37929                   Other  Bamboo/Timber-Light roof               Mud   \n",
       "\n",
       "        other_floor_type       damage  \n",
       "0      TImber/Bamboo-Mud  High Damage  \n",
       "1      TImber/Bamboo-Mud  High Damage  \n",
       "2          Timber-Planck  High Damage  \n",
       "3      TImber/Bamboo-Mud  High Damage  \n",
       "4         Not applicable  High Damage  \n",
       "...                  ...          ...  \n",
       "37925  TImber/Bamboo-Mud   Low Damage  \n",
       "37926  TImber/Bamboo-Mud   Low Damage  \n",
       "37927  TImber/Bamboo-Mud   Low Damage  \n",
       "37928      Timber-Planck   Low Damage  \n",
       "37929     Not applicable   Low Damage  \n",
       "\n",
       "[37930 rows x 9 columns]"
      ]
     },
     "execution_count": 10,
     "metadata": {},
     "output_type": "execute_result"
    }
   ],
   "source": [
    "bu"
   ]
  },
  {
   "cell_type": "code",
   "execution_count": 11,
   "metadata": {},
   "outputs": [],
   "source": [
    "cat_building = [\"foundation_type\", \"roof_type\", \"ground_floor_type\", 'other_floor_type']\n",
    "num_building = [\"age_building\", \"count_floors_pre_eq\", \"plinth_area_sq_ft\",\"height_ft_pre_eq\"]"
   ]
  },
  {
   "cell_type": "code",
   "execution_count": 12,
   "metadata": {},
   "outputs": [
    {
     "name": "stderr",
     "output_type": "stream",
     "text": [
      "<ipython-input-12-5c422f57ed58>:1: SettingWithCopyWarning: \n",
      "A value is trying to be set on a copy of a slice from a DataFrame.\n",
      "Try using .loc[row_indexer,col_indexer] = value instead\n",
      "\n",
      "See the caveats in the documentation: https://pandas.pydata.org/pandas-docs/stable/user_guide/indexing.html#returning-a-view-versus-a-copy\n",
      "  bu['damage'] = bu['damage'].map({'Low Damage' : 0, 'High Damage' : 1})\n"
     ]
    }
   ],
   "source": [
    "bu['damage'] = bu['damage'].map({'Low Damage' : 0, 'High Damage' : 1})"
   ]
  },
  {
   "cell_type": "code",
   "execution_count": 13,
   "metadata": {},
   "outputs": [
    {
     "data": {
      "text/plain": [
       "1    22877\n",
       "0    15053\n",
       "Name: damage, dtype: int64"
      ]
     },
     "execution_count": 13,
     "metadata": {},
     "output_type": "execute_result"
    }
   ],
   "source": [
    "bu['damage'].value_counts()"
   ]
  },
  {
   "cell_type": "code",
   "execution_count": 14,
   "metadata": {},
   "outputs": [
    {
     "data": {
      "text/plain": [
       "1    60.313736\n",
       "0    39.686264\n",
       "Name: damage, dtype: float64"
      ]
     },
     "execution_count": 14,
     "metadata": {},
     "output_type": "execute_result"
    }
   ],
   "source": [
    "bu['damage'].value_counts(normalize=True)*100"
   ]
  },
  {
   "cell_type": "markdown",
   "metadata": {},
   "source": [
    "Dari presentase data High damage dan Low damage, data tersebut sudah cukup balance, sehingga saya tidak akan melakukan resampling"
   ]
  },
  {
   "cell_type": "markdown",
   "metadata": {},
   "source": [
    "## __TRAIN TEST SPLIT__"
   ]
  },
  {
   "cell_type": "code",
   "execution_count": 15,
   "metadata": {},
   "outputs": [],
   "source": [
    "X = bu.drop('damage', axis=1)\n",
    "y = bu['damage']\n",
    "\n",
    "X_train, X_test, y_train, y_test = train_test_split(X, y, stratify=y, test_size =0.2, random_state=1510)"
   ]
  },
  {
   "cell_type": "code",
   "execution_count": 16,
   "metadata": {},
   "outputs": [
    {
     "data": {
      "text/html": [
       "<div>\n",
       "<style scoped>\n",
       "    .dataframe tbody tr th:only-of-type {\n",
       "        vertical-align: middle;\n",
       "    }\n",
       "\n",
       "    .dataframe tbody tr th {\n",
       "        vertical-align: top;\n",
       "    }\n",
       "\n",
       "    .dataframe thead th {\n",
       "        text-align: right;\n",
       "    }\n",
       "</style>\n",
       "<table border=\"1\" class=\"dataframe\">\n",
       "  <thead>\n",
       "    <tr style=\"text-align: right;\">\n",
       "      <th></th>\n",
       "      <th>age_building</th>\n",
       "      <th>count_floors_pre_eq</th>\n",
       "      <th>plinth_area_sq_ft</th>\n",
       "      <th>height_ft_pre_eq</th>\n",
       "      <th>foundation_type</th>\n",
       "      <th>roof_type</th>\n",
       "      <th>ground_floor_type</th>\n",
       "      <th>other_floor_type</th>\n",
       "    </tr>\n",
       "  </thead>\n",
       "  <tbody>\n",
       "    <tr>\n",
       "      <th>14415</th>\n",
       "      <td>56</td>\n",
       "      <td>3</td>\n",
       "      <td>40.97</td>\n",
       "      <td>6.10</td>\n",
       "      <td>Mud mortar-Stone/Brick</td>\n",
       "      <td>Bamboo/Timber-Light roof</td>\n",
       "      <td>Mud</td>\n",
       "      <td>Timber-Planck</td>\n",
       "    </tr>\n",
       "    <tr>\n",
       "      <th>11761</th>\n",
       "      <td>30</td>\n",
       "      <td>3</td>\n",
       "      <td>38.09</td>\n",
       "      <td>6.10</td>\n",
       "      <td>Mud mortar-Stone/Brick</td>\n",
       "      <td>Bamboo/Timber-Heavy roof</td>\n",
       "      <td>Mud</td>\n",
       "      <td>TImber/Bamboo-Mud</td>\n",
       "    </tr>\n",
       "    <tr>\n",
       "      <th>19761</th>\n",
       "      <td>28</td>\n",
       "      <td>3</td>\n",
       "      <td>38.65</td>\n",
       "      <td>6.40</td>\n",
       "      <td>Mud mortar-Stone/Brick</td>\n",
       "      <td>Bamboo/Timber-Light roof</td>\n",
       "      <td>Brick/Stone</td>\n",
       "      <td>TImber/Bamboo-Mud</td>\n",
       "    </tr>\n",
       "    <tr>\n",
       "      <th>6003</th>\n",
       "      <td>10</td>\n",
       "      <td>3</td>\n",
       "      <td>30.10</td>\n",
       "      <td>4.88</td>\n",
       "      <td>Mud mortar-Stone/Brick</td>\n",
       "      <td>Bamboo/Timber-Heavy roof</td>\n",
       "      <td>Mud</td>\n",
       "      <td>TImber/Bamboo-Mud</td>\n",
       "    </tr>\n",
       "    <tr>\n",
       "      <th>7903</th>\n",
       "      <td>20</td>\n",
       "      <td>2</td>\n",
       "      <td>35.67</td>\n",
       "      <td>6.40</td>\n",
       "      <td>Mud mortar-Stone/Brick</td>\n",
       "      <td>Bamboo/Timber-Heavy roof</td>\n",
       "      <td>Mud</td>\n",
       "      <td>TImber/Bamboo-Mud</td>\n",
       "    </tr>\n",
       "  </tbody>\n",
       "</table>\n",
       "</div>"
      ],
      "text/plain": [
       "       age_building  count_floors_pre_eq  plinth_area_sq_ft  height_ft_pre_eq  \\\n",
       "14415            56                    3              40.97              6.10   \n",
       "11761            30                    3              38.09              6.10   \n",
       "19761            28                    3              38.65              6.40   \n",
       "6003             10                    3              30.10              4.88   \n",
       "7903             20                    2              35.67              6.40   \n",
       "\n",
       "              foundation_type                 roof_type ground_floor_type  \\\n",
       "14415  Mud mortar-Stone/Brick  Bamboo/Timber-Light roof               Mud   \n",
       "11761  Mud mortar-Stone/Brick  Bamboo/Timber-Heavy roof               Mud   \n",
       "19761  Mud mortar-Stone/Brick  Bamboo/Timber-Light roof       Brick/Stone   \n",
       "6003   Mud mortar-Stone/Brick  Bamboo/Timber-Heavy roof               Mud   \n",
       "7903   Mud mortar-Stone/Brick  Bamboo/Timber-Heavy roof               Mud   \n",
       "\n",
       "        other_floor_type  \n",
       "14415      Timber-Planck  \n",
       "11761  TImber/Bamboo-Mud  \n",
       "19761  TImber/Bamboo-Mud  \n",
       "6003   TImber/Bamboo-Mud  \n",
       "7903   TImber/Bamboo-Mud  "
      ]
     },
     "execution_count": 16,
     "metadata": {},
     "output_type": "execute_result"
    }
   ],
   "source": [
    "X_train.head()"
   ]
  },
  {
   "cell_type": "code",
   "execution_count": 17,
   "metadata": {},
   "outputs": [
    {
     "data": {
      "text/html": [
       "<div>\n",
       "<style scoped>\n",
       "    .dataframe tbody tr th:only-of-type {\n",
       "        vertical-align: middle;\n",
       "    }\n",
       "\n",
       "    .dataframe tbody tr th {\n",
       "        vertical-align: top;\n",
       "    }\n",
       "\n",
       "    .dataframe thead th {\n",
       "        text-align: right;\n",
       "    }\n",
       "</style>\n",
       "<table border=\"1\" class=\"dataframe\">\n",
       "  <thead>\n",
       "    <tr style=\"text-align: right;\">\n",
       "      <th></th>\n",
       "      <th>age_building</th>\n",
       "      <th>count_floors_pre_eq</th>\n",
       "      <th>plinth_area_sq_ft</th>\n",
       "      <th>height_ft_pre_eq</th>\n",
       "      <th>foundation_type</th>\n",
       "      <th>roof_type</th>\n",
       "      <th>ground_floor_type</th>\n",
       "      <th>other_floor_type</th>\n",
       "    </tr>\n",
       "  </thead>\n",
       "  <tbody>\n",
       "    <tr>\n",
       "      <th>12974</th>\n",
       "      <td>15</td>\n",
       "      <td>3</td>\n",
       "      <td>42.74</td>\n",
       "      <td>7.32</td>\n",
       "      <td>Mud mortar-Stone/Brick</td>\n",
       "      <td>Bamboo/Timber-Heavy roof</td>\n",
       "      <td>Mud</td>\n",
       "      <td>TImber/Bamboo-Mud</td>\n",
       "    </tr>\n",
       "    <tr>\n",
       "      <th>16644</th>\n",
       "      <td>15</td>\n",
       "      <td>2</td>\n",
       "      <td>27.87</td>\n",
       "      <td>6.40</td>\n",
       "      <td>Mud mortar-Stone/Brick</td>\n",
       "      <td>Bamboo/Timber-Light roof</td>\n",
       "      <td>Mud</td>\n",
       "      <td>TImber/Bamboo-Mud</td>\n",
       "    </tr>\n",
       "    <tr>\n",
       "      <th>12651</th>\n",
       "      <td>9</td>\n",
       "      <td>1</td>\n",
       "      <td>37.90</td>\n",
       "      <td>6.10</td>\n",
       "      <td>Mud mortar-Stone/Brick</td>\n",
       "      <td>Bamboo/Timber-Light roof</td>\n",
       "      <td>Mud</td>\n",
       "      <td>Not applicable</td>\n",
       "    </tr>\n",
       "    <tr>\n",
       "      <th>8368</th>\n",
       "      <td>8</td>\n",
       "      <td>2</td>\n",
       "      <td>14.40</td>\n",
       "      <td>9.14</td>\n",
       "      <td>Bamboo/Timber</td>\n",
       "      <td>Bamboo/Timber-Light roof</td>\n",
       "      <td>Mud</td>\n",
       "      <td>TImber/Bamboo-Mud</td>\n",
       "    </tr>\n",
       "    <tr>\n",
       "      <th>36684</th>\n",
       "      <td>17</td>\n",
       "      <td>1</td>\n",
       "      <td>37.16</td>\n",
       "      <td>2.44</td>\n",
       "      <td>Mud mortar-Stone/Brick</td>\n",
       "      <td>Bamboo/Timber-Light roof</td>\n",
       "      <td>Other</td>\n",
       "      <td>Not applicable</td>\n",
       "    </tr>\n",
       "  </tbody>\n",
       "</table>\n",
       "</div>"
      ],
      "text/plain": [
       "       age_building  count_floors_pre_eq  plinth_area_sq_ft  height_ft_pre_eq  \\\n",
       "12974            15                    3              42.74              7.32   \n",
       "16644            15                    2              27.87              6.40   \n",
       "12651             9                    1              37.90              6.10   \n",
       "8368              8                    2              14.40              9.14   \n",
       "36684            17                    1              37.16              2.44   \n",
       "\n",
       "              foundation_type                 roof_type ground_floor_type  \\\n",
       "12974  Mud mortar-Stone/Brick  Bamboo/Timber-Heavy roof               Mud   \n",
       "16644  Mud mortar-Stone/Brick  Bamboo/Timber-Light roof               Mud   \n",
       "12651  Mud mortar-Stone/Brick  Bamboo/Timber-Light roof               Mud   \n",
       "8368            Bamboo/Timber  Bamboo/Timber-Light roof               Mud   \n",
       "36684  Mud mortar-Stone/Brick  Bamboo/Timber-Light roof             Other   \n",
       "\n",
       "        other_floor_type  \n",
       "12974  TImber/Bamboo-Mud  \n",
       "16644  TImber/Bamboo-Mud  \n",
       "12651     Not applicable  \n",
       "8368   TImber/Bamboo-Mud  \n",
       "36684     Not applicable  "
      ]
     },
     "execution_count": 17,
     "metadata": {},
     "output_type": "execute_result"
    }
   ],
   "source": [
    "X_test.head()"
   ]
  },
  {
   "cell_type": "code",
   "execution_count": 18,
   "metadata": {},
   "outputs": [
    {
     "data": {
      "text/plain": [
       "12974    1\n",
       "16644    1\n",
       "12651    1\n",
       "8368     1\n",
       "36684    0\n",
       "Name: damage, dtype: int64"
      ]
     },
     "execution_count": 18,
     "metadata": {},
     "output_type": "execute_result"
    }
   ],
   "source": [
    "y_test.head()"
   ]
  },
  {
   "cell_type": "code",
   "execution_count": 19,
   "metadata": {},
   "outputs": [],
   "source": [
    "knn = KNeighborsClassifier()\n",
    "dtc = DecisionTreeClassifier()\n",
    "rfc = RandomForestClassifier()"
   ]
  },
  {
   "cell_type": "markdown",
   "metadata": {},
   "source": [
    "Untuk pemilihan modeling, saya memilih 3 yaitu KNN, Decision Tree dan Random forest"
   ]
  },
  {
   "cell_type": "markdown",
   "metadata": {},
   "source": [
    "## __K NEAREST NEIGHBORS__"
   ]
  },
  {
   "cell_type": "code",
   "execution_count": 20,
   "metadata": {},
   "outputs": [],
   "source": [
    "knn_pipe_num = Pipeline([\n",
    "    ('scaler', RobustScaler()),\n",
    "])\n",
    "\n",
    "# for all object columns\n",
    "knn_pipe_cat = Pipeline([\n",
    "    ('encoder', OneHotEncoder(drop='first')),\n",
    "])\n",
    "\n",
    "# transforming all columns\n",
    "knn_transformer = ColumnTransformer([\n",
    "    ('pipe_numeric', knn_pipe_num, num_building),\n",
    "    ('pipe_cat', knn_pipe_cat, cat_building)\n",
    "])\n",
    "\n",
    "# combine all pipeline\n",
    "knn_pipe = Pipeline([\n",
    "    ('transformer', knn_transformer),\n",
    "    ('knn', knn)\n",
    "])"
   ]
  },
  {
   "cell_type": "code",
   "execution_count": 21,
   "metadata": {},
   "outputs": [
    {
     "data": {
      "text/plain": [
       "Pipeline(steps=[('transformer',\n",
       "                 ColumnTransformer(transformers=[('pipe_numeric',\n",
       "                                                  Pipeline(steps=[('scaler',\n",
       "                                                                   RobustScaler())]),\n",
       "                                                  ['age_building',\n",
       "                                                   'count_floors_pre_eq',\n",
       "                                                   'plinth_area_sq_ft',\n",
       "                                                   'height_ft_pre_eq']),\n",
       "                                                 ('pipe_cat',\n",
       "                                                  Pipeline(steps=[('encoder',\n",
       "                                                                   OneHotEncoder(drop='first'))]),\n",
       "                                                  ['foundation_type',\n",
       "                                                   'roof_type',\n",
       "                                                   'ground_floor_type',\n",
       "                                                   'other_floor_type'])])),\n",
       "                ('knn', KNeighborsClassifier())])"
      ]
     },
     "execution_count": 21,
     "metadata": {},
     "output_type": "execute_result"
    }
   ],
   "source": [
    "knn_pipe.fit(X_train, y_train)"
   ]
  },
  {
   "cell_type": "markdown",
   "metadata": {},
   "source": [
    "## __DECISION TREE CLASSIFICATION__"
   ]
  },
  {
   "cell_type": "code",
   "execution_count": 22,
   "metadata": {},
   "outputs": [],
   "source": [
    "dtc_pipe_num = Pipeline([\n",
    "    ('scaler', RobustScaler()),\n",
    "])\n",
    "#DTC RFC gak perlu discaller\n",
    "# for all object columns\n",
    "dtc_pipe_cat = Pipeline([\n",
    "    ('encoder', OneHotEncoder(drop='first')),\n",
    "])\n",
    "\n",
    "# transforming all columns\n",
    "dtc_transformer = ColumnTransformer([\n",
    "    ('pipe_numeric', dtc_pipe_num, num_building),\n",
    "    ('pipe_cat', dtc_pipe_cat, cat_building)\n",
    "])\n",
    "\n",
    "# combine all pipeline\n",
    "dtc_pipe = Pipeline([\n",
    "    ('transformer', dtc_transformer),\n",
    "    ('dtc', dtc)\n",
    "])"
   ]
  },
  {
   "cell_type": "code",
   "execution_count": 23,
   "metadata": {},
   "outputs": [
    {
     "data": {
      "text/plain": [
       "Pipeline(steps=[('transformer',\n",
       "                 ColumnTransformer(transformers=[('pipe_numeric',\n",
       "                                                  Pipeline(steps=[('scaler',\n",
       "                                                                   RobustScaler())]),\n",
       "                                                  ['age_building',\n",
       "                                                   'count_floors_pre_eq',\n",
       "                                                   'plinth_area_sq_ft',\n",
       "                                                   'height_ft_pre_eq']),\n",
       "                                                 ('pipe_cat',\n",
       "                                                  Pipeline(steps=[('encoder',\n",
       "                                                                   OneHotEncoder(drop='first'))]),\n",
       "                                                  ['foundation_type',\n",
       "                                                   'roof_type',\n",
       "                                                   'ground_floor_type',\n",
       "                                                   'other_floor_type'])])),\n",
       "                ('dtc', DecisionTreeClassifier())])"
      ]
     },
     "execution_count": 23,
     "metadata": {},
     "output_type": "execute_result"
    }
   ],
   "source": [
    "dtc_pipe.fit(X_train, y_train)"
   ]
  },
  {
   "cell_type": "markdown",
   "metadata": {},
   "source": [
    "## __RANDOM FOREST CLASSIFICATION__"
   ]
  },
  {
   "cell_type": "code",
   "execution_count": 24,
   "metadata": {},
   "outputs": [],
   "source": [
    "rfc_pipe_num = Pipeline([\n",
    "    ('scaler', RobustScaler()),\n",
    "])\n",
    "\n",
    "# for all object columns\n",
    "rfc_pipe_cat = Pipeline([\n",
    "    ('encoder', OneHotEncoder(drop='first')),\n",
    "])\n",
    "\n",
    "# transforming all columns\n",
    "rfc_transformer = ColumnTransformer([\n",
    "    ('pipe_numeric', rfc_pipe_num, num_building),\n",
    "    ('pipe_cat', rfc_pipe_cat, cat_building)\n",
    "])\n",
    "\n",
    "# combine all pipeline\n",
    "rfc_pipe = Pipeline([\n",
    "    ('transformer', rfc_transformer),\n",
    "    ('rfc', rfc)\n",
    "])"
   ]
  },
  {
   "cell_type": "code",
   "execution_count": 25,
   "metadata": {},
   "outputs": [
    {
     "data": {
      "text/plain": [
       "Pipeline(steps=[('transformer',\n",
       "                 ColumnTransformer(transformers=[('pipe_numeric',\n",
       "                                                  Pipeline(steps=[('scaler',\n",
       "                                                                   RobustScaler())]),\n",
       "                                                  ['age_building',\n",
       "                                                   'count_floors_pre_eq',\n",
       "                                                   'plinth_area_sq_ft',\n",
       "                                                   'height_ft_pre_eq']),\n",
       "                                                 ('pipe_cat',\n",
       "                                                  Pipeline(steps=[('encoder',\n",
       "                                                                   OneHotEncoder(drop='first'))]),\n",
       "                                                  ['foundation_type',\n",
       "                                                   'roof_type',\n",
       "                                                   'ground_floor_type',\n",
       "                                                   'other_floor_type'])])),\n",
       "                ('rfc', RandomForestClassifier())])"
      ]
     },
     "execution_count": 25,
     "metadata": {},
     "output_type": "execute_result"
    }
   ],
   "source": [
    "rfc_pipe.fit(X_train, y_train)"
   ]
  },
  {
   "cell_type": "markdown",
   "metadata": {},
   "source": [
    "## __CROSS VALIDATION SCORE__"
   ]
  },
  {
   "cell_type": "code",
   "execution_count": 26,
   "metadata": {},
   "outputs": [
    {
     "name": "stderr",
     "output_type": "stream",
     "text": [
      "[Parallel(n_jobs=-1)]: Using backend LokyBackend with 8 concurrent workers.\n",
      "[Parallel(n_jobs=-1)]: Done   2 out of   5 | elapsed:    4.8s remaining:    7.2s\n",
      "[Parallel(n_jobs=-1)]: Done   5 out of   5 | elapsed:    4.8s finished\n",
      "[Parallel(n_jobs=-1)]: Using backend LokyBackend with 8 concurrent workers.\n",
      "[Parallel(n_jobs=-1)]: Done   2 out of   5 | elapsed:    0.3s remaining:    0.5s\n",
      "[Parallel(n_jobs=-1)]: Done   5 out of   5 | elapsed:    1.5s finished\n",
      "[Parallel(n_jobs=-1)]: Using backend LokyBackend with 8 concurrent workers.\n",
      "[Parallel(n_jobs=-1)]: Done   2 out of   5 | elapsed:    3.8s remaining:    5.7s\n",
      "[Parallel(n_jobs=-1)]: Done   5 out of   5 | elapsed:    3.9s finished\n"
     ]
    }
   ],
   "source": [
    "skfold = StratifiedKFold(n_splits=5, random_state=1510, shuffle=True)\n",
    "\n",
    "knn_score = cross_val_score(knn_pipe, X_train, y_train, scoring='recall', cv=skfold, n_jobs=-1, verbose=1)\n",
    "dtc_score = cross_val_score(dtc_pipe, X_train, y_train, scoring='recall', cv=skfold, n_jobs=-1, verbose=1)\n",
    "rfc_score = cross_val_score(rfc_pipe, X_train, y_train, scoring='recall', cv=skfold, n_jobs=-1, verbose=1)"
   ]
  },
  {
   "cell_type": "markdown",
   "metadata": {},
   "source": [
    "Pada kasus ini saya fokus untuk menekan hasil predik low damage tetapi actualnya adalah high damage, sehingga saya menekan FN, oleh karena itu saya fokus di score recall"
   ]
  },
  {
   "cell_type": "code",
   "execution_count": 27,
   "metadata": {},
   "outputs": [
    {
     "name": "stdout",
     "output_type": "stream",
     "text": [
      "KNN Val Score: [0.80524447 0.81343895 0.79644809 0.7920765  0.79535519]\n",
      "DTC Val Score: [0.68014204 0.67413275 0.68306011 0.67431694 0.66393443]\n",
      "RFC Val Score: [0.78229992 0.78830921 0.78579235 0.77650273 0.7773224 ]\n"
     ]
    }
   ],
   "source": [
    "print('KNN Val Score:', knn_score)\n",
    "print('DTC Val Score:', dtc_score)\n",
    "print('RFC Val Score:', rfc_score)"
   ]
  },
  {
   "cell_type": "code",
   "execution_count": 28,
   "metadata": {},
   "outputs": [
    {
     "name": "stdout",
     "output_type": "stream",
     "text": [
      "KNN Val Score: 0.8005126402502825\n",
      "DTC Val Score: 0.6751172527438083\n",
      "RFC Val Score: 0.7820453219058366\n"
     ]
    }
   ],
   "source": [
    "print('KNN Val Score:', knn_score.mean())\n",
    "print('DTC Val Score:', dtc_score.mean())\n",
    "print('RFC Val Score:', rfc_score.mean())"
   ]
  },
  {
   "cell_type": "code",
   "execution_count": null,
   "metadata": {},
   "outputs": [],
   "source": [
    "#Cek stabilitas bisa pakai std, semakin kecil model semakin stabil\n",
    "#pakai line plot di val score"
   ]
  },
  {
   "cell_type": "code",
   "execution_count": 29,
   "metadata": {},
   "outputs": [
    {
     "data": {
      "text/html": [
       "<div>\n",
       "<style scoped>\n",
       "    .dataframe tbody tr th:only-of-type {\n",
       "        vertical-align: middle;\n",
       "    }\n",
       "\n",
       "    .dataframe tbody tr th {\n",
       "        vertical-align: top;\n",
       "    }\n",
       "\n",
       "    .dataframe thead th {\n",
       "        text-align: right;\n",
       "    }\n",
       "</style>\n",
       "<table border=\"1\" class=\"dataframe\">\n",
       "  <thead>\n",
       "    <tr style=\"text-align: right;\">\n",
       "      <th></th>\n",
       "      <th>KNearest Neighbors</th>\n",
       "      <th>Decision Tree CV Score</th>\n",
       "      <th>Random Forest CV Score</th>\n",
       "    </tr>\n",
       "  </thead>\n",
       "  <tbody>\n",
       "    <tr>\n",
       "      <th>0</th>\n",
       "      <td>0.800513</td>\n",
       "      <td>0.675117</td>\n",
       "      <td>0.782045</td>\n",
       "    </tr>\n",
       "  </tbody>\n",
       "</table>\n",
       "</div>"
      ],
      "text/plain": [
       "   KNearest Neighbors  Decision Tree CV Score  Random Forest CV Score\n",
       "0            0.800513                0.675117                0.782045"
      ]
     },
     "execution_count": 29,
     "metadata": {},
     "output_type": "execute_result"
    }
   ],
   "source": [
    "dtcs = dtc_score.mean()\n",
    "rfcs = rfc_score.mean()\n",
    "kncs = knn_score.mean()\n",
    "df = pd.DataFrame({'KNearest Neighbors': [kncs], 'Decision Tree CV Score': [dtcs], 'Random Forest CV Score': [rfcs]})\n",
    "df"
   ]
  },
  {
   "cell_type": "markdown",
   "metadata": {},
   "source": [
    "Perbandingan nilai CV score sebelum dilakukan hyperparameter tunning antara 3 model ini terlihat KNN bernilai paling besar, yakni 0.8"
   ]
  },
  {
   "cell_type": "markdown",
   "metadata": {},
   "source": [
    "## __HYPERPARAMETER TUNNING__"
   ]
  },
  {
   "cell_type": "markdown",
   "metadata": {},
   "source": [
    "> ## KNN HYPERPARAM"
   ]
  },
  {
   "cell_type": "code",
   "execution_count": 30,
   "metadata": {},
   "outputs": [
    {
     "data": {
      "text/plain": [
       "{'memory': None,\n",
       " 'steps': [('transformer',\n",
       "   ColumnTransformer(transformers=[('pipe_numeric',\n",
       "                                    Pipeline(steps=[('scaler', RobustScaler())]),\n",
       "                                    ['age_building', 'count_floors_pre_eq',\n",
       "                                     'plinth_area_sq_ft', 'height_ft_pre_eq']),\n",
       "                                   ('pipe_cat',\n",
       "                                    Pipeline(steps=[('encoder',\n",
       "                                                     OneHotEncoder(drop='first'))]),\n",
       "                                    ['foundation_type', 'roof_type',\n",
       "                                     'ground_floor_type', 'other_floor_type'])])),\n",
       "  ('knn', KNeighborsClassifier())],\n",
       " 'verbose': False,\n",
       " 'transformer': ColumnTransformer(transformers=[('pipe_numeric',\n",
       "                                  Pipeline(steps=[('scaler', RobustScaler())]),\n",
       "                                  ['age_building', 'count_floors_pre_eq',\n",
       "                                   'plinth_area_sq_ft', 'height_ft_pre_eq']),\n",
       "                                 ('pipe_cat',\n",
       "                                  Pipeline(steps=[('encoder',\n",
       "                                                   OneHotEncoder(drop='first'))]),\n",
       "                                  ['foundation_type', 'roof_type',\n",
       "                                   'ground_floor_type', 'other_floor_type'])]),\n",
       " 'knn': KNeighborsClassifier(),\n",
       " 'transformer__n_jobs': None,\n",
       " 'transformer__remainder': 'drop',\n",
       " 'transformer__sparse_threshold': 0.3,\n",
       " 'transformer__transformer_weights': None,\n",
       " 'transformer__transformers': [('pipe_numeric',\n",
       "   Pipeline(steps=[('scaler', RobustScaler())]),\n",
       "   ['age_building',\n",
       "    'count_floors_pre_eq',\n",
       "    'plinth_area_sq_ft',\n",
       "    'height_ft_pre_eq']),\n",
       "  ('pipe_cat',\n",
       "   Pipeline(steps=[('encoder', OneHotEncoder(drop='first'))]),\n",
       "   ['foundation_type', 'roof_type', 'ground_floor_type', 'other_floor_type'])],\n",
       " 'transformer__verbose': False,\n",
       " 'transformer__pipe_numeric': Pipeline(steps=[('scaler', RobustScaler())]),\n",
       " 'transformer__pipe_cat': Pipeline(steps=[('encoder', OneHotEncoder(drop='first'))]),\n",
       " 'transformer__pipe_numeric__memory': None,\n",
       " 'transformer__pipe_numeric__steps': [('scaler', RobustScaler())],\n",
       " 'transformer__pipe_numeric__verbose': False,\n",
       " 'transformer__pipe_numeric__scaler': RobustScaler(),\n",
       " 'transformer__pipe_numeric__scaler__copy': True,\n",
       " 'transformer__pipe_numeric__scaler__quantile_range': (25.0, 75.0),\n",
       " 'transformer__pipe_numeric__scaler__with_centering': True,\n",
       " 'transformer__pipe_numeric__scaler__with_scaling': True,\n",
       " 'transformer__pipe_cat__memory': None,\n",
       " 'transformer__pipe_cat__steps': [('encoder', OneHotEncoder(drop='first'))],\n",
       " 'transformer__pipe_cat__verbose': False,\n",
       " 'transformer__pipe_cat__encoder': OneHotEncoder(drop='first'),\n",
       " 'transformer__pipe_cat__encoder__categories': 'auto',\n",
       " 'transformer__pipe_cat__encoder__drop': 'first',\n",
       " 'transformer__pipe_cat__encoder__dtype': numpy.float64,\n",
       " 'transformer__pipe_cat__encoder__handle_unknown': 'error',\n",
       " 'transformer__pipe_cat__encoder__sparse': True,\n",
       " 'knn__algorithm': 'auto',\n",
       " 'knn__leaf_size': 30,\n",
       " 'knn__metric': 'minkowski',\n",
       " 'knn__metric_params': None,\n",
       " 'knn__n_jobs': None,\n",
       " 'knn__n_neighbors': 5,\n",
       " 'knn__p': 2,\n",
       " 'knn__weights': 'uniform'}"
      ]
     },
     "execution_count": 30,
     "metadata": {},
     "output_type": "execute_result"
    }
   ],
   "source": [
    "knn_pipe.get_params()"
   ]
  },
  {
   "cell_type": "code",
   "execution_count": 31,
   "metadata": {},
   "outputs": [
    {
     "data": {
      "text/plain": [
       "dict_keys(['memory', 'steps', 'verbose', 'transformer', 'knn', 'transformer__n_jobs', 'transformer__remainder', 'transformer__sparse_threshold', 'transformer__transformer_weights', 'transformer__transformers', 'transformer__verbose', 'transformer__pipe_numeric', 'transformer__pipe_cat', 'transformer__pipe_numeric__memory', 'transformer__pipe_numeric__steps', 'transformer__pipe_numeric__verbose', 'transformer__pipe_numeric__scaler', 'transformer__pipe_numeric__scaler__copy', 'transformer__pipe_numeric__scaler__quantile_range', 'transformer__pipe_numeric__scaler__with_centering', 'transformer__pipe_numeric__scaler__with_scaling', 'transformer__pipe_cat__memory', 'transformer__pipe_cat__steps', 'transformer__pipe_cat__verbose', 'transformer__pipe_cat__encoder', 'transformer__pipe_cat__encoder__categories', 'transformer__pipe_cat__encoder__drop', 'transformer__pipe_cat__encoder__dtype', 'transformer__pipe_cat__encoder__handle_unknown', 'transformer__pipe_cat__encoder__sparse', 'knn__algorithm', 'knn__leaf_size', 'knn__metric', 'knn__metric_params', 'knn__n_jobs', 'knn__n_neighbors', 'knn__p', 'knn__weights'])"
      ]
     },
     "execution_count": 31,
     "metadata": {},
     "output_type": "execute_result"
    }
   ],
   "source": [
    "knn_pipe.get_params().keys()"
   ]
  },
  {
   "cell_type": "code",
   "execution_count": 32,
   "metadata": {},
   "outputs": [],
   "source": [
    "knn_param = {'knn__n_neighbors': [5, 10, 20, 30, 40 ,50, 60 ,70, 80, 90, 100, 110, 120, 130], \n",
    "             'knn__p': [1,2], \n",
    "             'knn__leaf_size': [10, 20, 30, 40, 50, 60, 70, 80, 90, 100]}\n",
    "\n",
    "knn_tuned = GridSearchCV(estimator=knn_pipe,\n",
    "                          param_grid=knn_param, \n",
    "                          cv=skfold,\n",
    "                          n_jobs=-1,\n",
    "                          scoring='recall',\n",
    "                          verbose=1\n",
    "                          )"
   ]
  },
  {
   "cell_type": "code",
   "execution_count": 33,
   "metadata": {},
   "outputs": [
    {
     "name": "stdout",
     "output_type": "stream",
     "text": [
      "Fitting 5 folds for each of 280 candidates, totalling 1400 fits\n"
     ]
    },
    {
     "name": "stderr",
     "output_type": "stream",
     "text": [
      "[Parallel(n_jobs=-1)]: Using backend LokyBackend with 8 concurrent workers.\n",
      "[Parallel(n_jobs=-1)]: Done  34 tasks      | elapsed:   10.6s\n",
      "[Parallel(n_jobs=-1)]: Done 184 tasks      | elapsed:  1.4min\n",
      "[Parallel(n_jobs=-1)]: Done 434 tasks      | elapsed:  3.6min\n",
      "[Parallel(n_jobs=-1)]: Done 784 tasks      | elapsed:  6.8min\n",
      "[Parallel(n_jobs=-1)]: Done 1234 tasks      | elapsed: 11.2min\n",
      "[Parallel(n_jobs=-1)]: Done 1400 out of 1400 | elapsed: 13.0min finished\n"
     ]
    },
    {
     "data": {
      "text/plain": [
       "GridSearchCV(cv=StratifiedKFold(n_splits=5, random_state=1510, shuffle=True),\n",
       "             estimator=Pipeline(steps=[('transformer',\n",
       "                                        ColumnTransformer(transformers=[('pipe_numeric',\n",
       "                                                                         Pipeline(steps=[('scaler',\n",
       "                                                                                          RobustScaler())]),\n",
       "                                                                         ['age_building',\n",
       "                                                                          'count_floors_pre_eq',\n",
       "                                                                          'plinth_area_sq_ft',\n",
       "                                                                          'height_ft_pre_eq']),\n",
       "                                                                        ('pipe_cat',\n",
       "                                                                         Pipeline(steps=[('encoder',\n",
       "                                                                                          OneHotEncoder(drop='first'))]),\n",
       "                                                                         ['foundation_type',\n",
       "                                                                          'roof_type',\n",
       "                                                                          'ground_floor_type',\n",
       "                                                                          'other_floor_type'])])),\n",
       "                                       ('knn', KNeighborsClassifier())]),\n",
       "             n_jobs=-1,\n",
       "             param_grid={'knn__leaf_size': [10, 20, 30, 40, 50, 60, 70, 80, 90,\n",
       "                                            100],\n",
       "                         'knn__n_neighbors': [5, 10, 20, 30, 40, 50, 60, 70, 80,\n",
       "                                              90, 100, 110, 120, 130],\n",
       "                         'knn__p': [1, 2]},\n",
       "             scoring='recall', verbose=1)"
      ]
     },
     "execution_count": 33,
     "metadata": {},
     "output_type": "execute_result"
    }
   ],
   "source": [
    "knn_tuned.fit(X_train, y_train)"
   ]
  },
  {
   "cell_type": "code",
   "execution_count": 34,
   "metadata": {},
   "outputs": [
    {
     "data": {
      "text/html": [
       "<div>\n",
       "<style scoped>\n",
       "    .dataframe tbody tr th:only-of-type {\n",
       "        vertical-align: middle;\n",
       "    }\n",
       "\n",
       "    .dataframe tbody tr th {\n",
       "        vertical-align: top;\n",
       "    }\n",
       "\n",
       "    .dataframe thead th {\n",
       "        text-align: right;\n",
       "    }\n",
       "</style>\n",
       "<table border=\"1\" class=\"dataframe\">\n",
       "  <thead>\n",
       "    <tr style=\"text-align: right;\">\n",
       "      <th></th>\n",
       "      <th>mean_fit_time</th>\n",
       "      <th>std_fit_time</th>\n",
       "      <th>mean_score_time</th>\n",
       "      <th>std_score_time</th>\n",
       "      <th>param_knn__leaf_size</th>\n",
       "      <th>param_knn__n_neighbors</th>\n",
       "      <th>param_knn__p</th>\n",
       "      <th>params</th>\n",
       "      <th>split0_test_score</th>\n",
       "      <th>split1_test_score</th>\n",
       "      <th>split2_test_score</th>\n",
       "      <th>split3_test_score</th>\n",
       "      <th>split4_test_score</th>\n",
       "      <th>mean_test_score</th>\n",
       "      <th>std_test_score</th>\n",
       "      <th>rank_test_score</th>\n",
       "    </tr>\n",
       "  </thead>\n",
       "  <tbody>\n",
       "    <tr>\n",
       "      <th>278</th>\n",
       "      <td>0.465933</td>\n",
       "      <td>0.010734</td>\n",
       "      <td>7.445137</td>\n",
       "      <td>0.431884</td>\n",
       "      <td>100</td>\n",
       "      <td>130</td>\n",
       "      <td>1</td>\n",
       "      <td>{'knn__leaf_size': 100, 'knn__n_neighbors': 13...</td>\n",
       "      <td>0.944551</td>\n",
       "      <td>0.939634</td>\n",
       "      <td>0.94153</td>\n",
       "      <td>0.933607</td>\n",
       "      <td>0.942077</td>\n",
       "      <td>0.94028</td>\n",
       "      <td>0.003687</td>\n",
       "      <td>1</td>\n",
       "    </tr>\n",
       "    <tr>\n",
       "      <th>82</th>\n",
       "      <td>0.450942</td>\n",
       "      <td>0.026134</td>\n",
       "      <td>5.873437</td>\n",
       "      <td>0.020091</td>\n",
       "      <td>30</td>\n",
       "      <td>130</td>\n",
       "      <td>1</td>\n",
       "      <td>{'knn__leaf_size': 30, 'knn__n_neighbors': 130...</td>\n",
       "      <td>0.944551</td>\n",
       "      <td>0.939634</td>\n",
       "      <td>0.94153</td>\n",
       "      <td>0.933607</td>\n",
       "      <td>0.942077</td>\n",
       "      <td>0.94028</td>\n",
       "      <td>0.003687</td>\n",
       "      <td>1</td>\n",
       "    </tr>\n",
       "    <tr>\n",
       "      <th>110</th>\n",
       "      <td>0.478526</td>\n",
       "      <td>0.034734</td>\n",
       "      <td>6.026348</td>\n",
       "      <td>0.100338</td>\n",
       "      <td>40</td>\n",
       "      <td>130</td>\n",
       "      <td>1</td>\n",
       "      <td>{'knn__leaf_size': 40, 'knn__n_neighbors': 130...</td>\n",
       "      <td>0.944551</td>\n",
       "      <td>0.939634</td>\n",
       "      <td>0.94153</td>\n",
       "      <td>0.933607</td>\n",
       "      <td>0.942077</td>\n",
       "      <td>0.94028</td>\n",
       "      <td>0.003687</td>\n",
       "      <td>1</td>\n",
       "    </tr>\n",
       "  </tbody>\n",
       "</table>\n",
       "</div>"
      ],
      "text/plain": [
       "     mean_fit_time  std_fit_time  mean_score_time  std_score_time  \\\n",
       "278       0.465933      0.010734         7.445137        0.431884   \n",
       "82        0.450942      0.026134         5.873437        0.020091   \n",
       "110       0.478526      0.034734         6.026348        0.100338   \n",
       "\n",
       "    param_knn__leaf_size param_knn__n_neighbors param_knn__p  \\\n",
       "278                  100                    130            1   \n",
       "82                    30                    130            1   \n",
       "110                   40                    130            1   \n",
       "\n",
       "                                                params  split0_test_score  \\\n",
       "278  {'knn__leaf_size': 100, 'knn__n_neighbors': 13...           0.944551   \n",
       "82   {'knn__leaf_size': 30, 'knn__n_neighbors': 130...           0.944551   \n",
       "110  {'knn__leaf_size': 40, 'knn__n_neighbors': 130...           0.944551   \n",
       "\n",
       "     split1_test_score  split2_test_score  split3_test_score  \\\n",
       "278           0.939634            0.94153           0.933607   \n",
       "82            0.939634            0.94153           0.933607   \n",
       "110           0.939634            0.94153           0.933607   \n",
       "\n",
       "     split4_test_score  mean_test_score  std_test_score  rank_test_score  \n",
       "278           0.942077          0.94028        0.003687                1  \n",
       "82            0.942077          0.94028        0.003687                1  \n",
       "110           0.942077          0.94028        0.003687                1  "
      ]
     },
     "execution_count": 34,
     "metadata": {},
     "output_type": "execute_result"
    }
   ],
   "source": [
    "report_grid = pd.DataFrame(knn_tuned.cv_results_).sort_values('rank_test_score', ascending=True)\n",
    "report_grid[report_grid['rank_test_score'] == 1]"
   ]
  },
  {
   "cell_type": "code",
   "execution_count": 35,
   "metadata": {},
   "outputs": [
    {
     "data": {
      "text/plain": [
       "{'knn__leaf_size': 30, 'knn__n_neighbors': 130, 'knn__p': 1}"
      ]
     },
     "execution_count": 35,
     "metadata": {},
     "output_type": "execute_result"
    }
   ],
   "source": [
    "knn_tuned.best_params_"
   ]
  },
  {
   "cell_type": "code",
   "execution_count": 36,
   "metadata": {},
   "outputs": [],
   "source": [
    "knn_tun = knn_tuned.best_estimator_"
   ]
  },
  {
   "cell_type": "code",
   "execution_count": 37,
   "metadata": {},
   "outputs": [
    {
     "data": {
      "text/plain": [
       "Pipeline(steps=[('transformer',\n",
       "                 ColumnTransformer(transformers=[('pipe_numeric',\n",
       "                                                  Pipeline(steps=[('scaler',\n",
       "                                                                   RobustScaler())]),\n",
       "                                                  ['age_building',\n",
       "                                                   'count_floors_pre_eq',\n",
       "                                                   'plinth_area_sq_ft',\n",
       "                                                   'height_ft_pre_eq']),\n",
       "                                                 ('pipe_cat',\n",
       "                                                  Pipeline(steps=[('encoder',\n",
       "                                                                   OneHotEncoder(drop='first'))]),\n",
       "                                                  ['foundation_type',\n",
       "                                                   'roof_type',\n",
       "                                                   'ground_floor_type',\n",
       "                                                   'other_floor_type'])])),\n",
       "                ('knn', KNeighborsClassifier(n_neighbors=130, p=1))])"
      ]
     },
     "execution_count": 37,
     "metadata": {},
     "output_type": "execute_result"
    }
   ],
   "source": [
    "knn_tun"
   ]
  },
  {
   "cell_type": "code",
   "execution_count": 38,
   "metadata": {},
   "outputs": [
    {
     "name": "stderr",
     "output_type": "stream",
     "text": [
      "[Parallel(n_jobs=-1)]: Using backend LokyBackend with 8 concurrent workers.\n",
      "[Parallel(n_jobs=-1)]: Done   2 out of   5 | elapsed:    4.3s remaining:    6.5s\n",
      "[Parallel(n_jobs=-1)]: Done   5 out of   5 | elapsed:    4.6s finished\n"
     ]
    },
    {
     "data": {
      "text/plain": [
       "array([0.94455067, 0.93963398, 0.94153005, 0.93360656, 0.9420765 ])"
      ]
     },
     "execution_count": 38,
     "metadata": {},
     "output_type": "execute_result"
    }
   ],
   "source": [
    "knn_tuned_score = cross_val_score(knn_tun, X_train, y_train, scoring='recall', cv=skfold, n_jobs=-1, verbose=1)\n",
    "knn_tuned_score"
   ]
  },
  {
   "cell_type": "code",
   "execution_count": 39,
   "metadata": {},
   "outputs": [
    {
     "name": "stdout",
     "output_type": "stream",
     "text": [
      "0.9402795527514206\n"
     ]
    }
   ],
   "source": [
    "print(knn_tuned_score.mean())"
   ]
  },
  {
   "cell_type": "markdown",
   "metadata": {},
   "source": [
    "> ## DTC HYPERPARAM"
   ]
  },
  {
   "cell_type": "code",
   "execution_count": 40,
   "metadata": {},
   "outputs": [
    {
     "data": {
      "text/plain": [
       "dict_keys(['memory', 'steps', 'verbose', 'transformer', 'dtc', 'transformer__n_jobs', 'transformer__remainder', 'transformer__sparse_threshold', 'transformer__transformer_weights', 'transformer__transformers', 'transformer__verbose', 'transformer__pipe_numeric', 'transformer__pipe_cat', 'transformer__pipe_numeric__memory', 'transformer__pipe_numeric__steps', 'transformer__pipe_numeric__verbose', 'transformer__pipe_numeric__scaler', 'transformer__pipe_numeric__scaler__copy', 'transformer__pipe_numeric__scaler__quantile_range', 'transformer__pipe_numeric__scaler__with_centering', 'transformer__pipe_numeric__scaler__with_scaling', 'transformer__pipe_cat__memory', 'transformer__pipe_cat__steps', 'transformer__pipe_cat__verbose', 'transformer__pipe_cat__encoder', 'transformer__pipe_cat__encoder__categories', 'transformer__pipe_cat__encoder__drop', 'transformer__pipe_cat__encoder__dtype', 'transformer__pipe_cat__encoder__handle_unknown', 'transformer__pipe_cat__encoder__sparse', 'dtc__ccp_alpha', 'dtc__class_weight', 'dtc__criterion', 'dtc__max_depth', 'dtc__max_features', 'dtc__max_leaf_nodes', 'dtc__min_impurity_decrease', 'dtc__min_impurity_split', 'dtc__min_samples_leaf', 'dtc__min_samples_split', 'dtc__min_weight_fraction_leaf', 'dtc__presort', 'dtc__random_state', 'dtc__splitter'])"
      ]
     },
     "execution_count": 40,
     "metadata": {},
     "output_type": "execute_result"
    }
   ],
   "source": [
    "dtc_pipe.get_params().keys()"
   ]
  },
  {
   "cell_type": "code",
   "execution_count": 41,
   "metadata": {},
   "outputs": [],
   "source": [
    "dtc_param = {\n",
    "    'dtc__criterion': ['gini', 'entropy'],\n",
    "    'dtc__max_depth':[5,10,15,20,25,30],\n",
    "    'dtc__min_samples_split':[2,5,10],\n",
    "    'dtc__min_samples_leaf':[1,2,5,7],\n",
    "}\n",
    "\n",
    "dtc_tuned = GridSearchCV(estimator=dtc_pipe, \n",
    "                            param_grid=dtc_param, \n",
    "                            cv=skfold, \n",
    "                            n_jobs=-1, \n",
    "                            scoring='recall',\n",
    "                           verbose=1)"
   ]
  },
  {
   "cell_type": "code",
   "execution_count": 42,
   "metadata": {},
   "outputs": [
    {
     "name": "stdout",
     "output_type": "stream",
     "text": [
      "Fitting 5 folds for each of 144 candidates, totalling 720 fits\n"
     ]
    },
    {
     "name": "stderr",
     "output_type": "stream",
     "text": [
      "[Parallel(n_jobs=-1)]: Using backend LokyBackend with 8 concurrent workers.\n",
      "[Parallel(n_jobs=-1)]: Done  34 tasks      | elapsed:    1.3s\n",
      "[Parallel(n_jobs=-1)]: Done 184 tasks      | elapsed:    7.0s\n",
      "[Parallel(n_jobs=-1)]: Done 434 tasks      | elapsed:   17.1s\n",
      "[Parallel(n_jobs=-1)]: Done 720 out of 720 | elapsed:   29.7s finished\n"
     ]
    },
    {
     "data": {
      "text/plain": [
       "GridSearchCV(cv=StratifiedKFold(n_splits=5, random_state=1510, shuffle=True),\n",
       "             estimator=Pipeline(steps=[('transformer',\n",
       "                                        ColumnTransformer(transformers=[('pipe_numeric',\n",
       "                                                                         Pipeline(steps=[('scaler',\n",
       "                                                                                          RobustScaler())]),\n",
       "                                                                         ['age_building',\n",
       "                                                                          'count_floors_pre_eq',\n",
       "                                                                          'plinth_area_sq_ft',\n",
       "                                                                          'height_ft_pre_eq']),\n",
       "                                                                        ('pipe_cat',\n",
       "                                                                         Pipeline(steps=[('encoder',\n",
       "                                                                                          OneHotEncoder(drop='first'))]),\n",
       "                                                                         ['foundation_type',\n",
       "                                                                          'roof_type',\n",
       "                                                                          'ground_floor_type',\n",
       "                                                                          'other_floor_type'])])),\n",
       "                                       ('dtc', DecisionTreeClassifier())]),\n",
       "             n_jobs=-1,\n",
       "             param_grid={'dtc__criterion': ['gini', 'entropy'],\n",
       "                         'dtc__max_depth': [5, 10, 15, 20, 25, 30],\n",
       "                         'dtc__min_samples_leaf': [1, 2, 5, 7],\n",
       "                         'dtc__min_samples_split': [2, 5, 10]},\n",
       "             scoring='recall', verbose=1)"
      ]
     },
     "execution_count": 42,
     "metadata": {},
     "output_type": "execute_result"
    }
   ],
   "source": [
    "dtc_tuned.fit(X_train, y_train)"
   ]
  },
  {
   "cell_type": "code",
   "execution_count": 43,
   "metadata": {},
   "outputs": [
    {
     "data": {
      "text/html": [
       "<div>\n",
       "<style scoped>\n",
       "    .dataframe tbody tr th:only-of-type {\n",
       "        vertical-align: middle;\n",
       "    }\n",
       "\n",
       "    .dataframe tbody tr th {\n",
       "        vertical-align: top;\n",
       "    }\n",
       "\n",
       "    .dataframe thead th {\n",
       "        text-align: right;\n",
       "    }\n",
       "</style>\n",
       "<table border=\"1\" class=\"dataframe\">\n",
       "  <thead>\n",
       "    <tr style=\"text-align: right;\">\n",
       "      <th></th>\n",
       "      <th>mean_fit_time</th>\n",
       "      <th>std_fit_time</th>\n",
       "      <th>mean_score_time</th>\n",
       "      <th>std_score_time</th>\n",
       "      <th>param_dtc__criterion</th>\n",
       "      <th>param_dtc__max_depth</th>\n",
       "      <th>param_dtc__min_samples_leaf</th>\n",
       "      <th>param_dtc__min_samples_split</th>\n",
       "      <th>params</th>\n",
       "      <th>split0_test_score</th>\n",
       "      <th>split1_test_score</th>\n",
       "      <th>split2_test_score</th>\n",
       "      <th>split3_test_score</th>\n",
       "      <th>split4_test_score</th>\n",
       "      <th>mean_test_score</th>\n",
       "      <th>std_test_score</th>\n",
       "      <th>rank_test_score</th>\n",
       "    </tr>\n",
       "  </thead>\n",
       "  <tbody>\n",
       "    <tr>\n",
       "      <th>82</th>\n",
       "      <td>0.205881</td>\n",
       "      <td>0.021135</td>\n",
       "      <td>0.031783</td>\n",
       "      <td>0.001720</td>\n",
       "      <td>entropy</td>\n",
       "      <td>5</td>\n",
       "      <td>7</td>\n",
       "      <td>5</td>\n",
       "      <td>{'dtc__criterion': 'entropy', 'dtc__max_depth'...</td>\n",
       "      <td>0.950014</td>\n",
       "      <td>0.951653</td>\n",
       "      <td>0.946448</td>\n",
       "      <td>0.925683</td>\n",
       "      <td>0.931421</td>\n",
       "      <td>0.941044</td>\n",
       "      <td>0.010495</td>\n",
       "      <td>1</td>\n",
       "    </tr>\n",
       "    <tr>\n",
       "      <th>81</th>\n",
       "      <td>0.199686</td>\n",
       "      <td>0.013915</td>\n",
       "      <td>0.030980</td>\n",
       "      <td>0.002279</td>\n",
       "      <td>entropy</td>\n",
       "      <td>5</td>\n",
       "      <td>7</td>\n",
       "      <td>2</td>\n",
       "      <td>{'dtc__criterion': 'entropy', 'dtc__max_depth'...</td>\n",
       "      <td>0.950014</td>\n",
       "      <td>0.951653</td>\n",
       "      <td>0.946448</td>\n",
       "      <td>0.925683</td>\n",
       "      <td>0.931421</td>\n",
       "      <td>0.941044</td>\n",
       "      <td>0.010495</td>\n",
       "      <td>1</td>\n",
       "    </tr>\n",
       "    <tr>\n",
       "      <th>83</th>\n",
       "      <td>0.199284</td>\n",
       "      <td>0.017409</td>\n",
       "      <td>0.032583</td>\n",
       "      <td>0.001959</td>\n",
       "      <td>entropy</td>\n",
       "      <td>5</td>\n",
       "      <td>7</td>\n",
       "      <td>10</td>\n",
       "      <td>{'dtc__criterion': 'entropy', 'dtc__max_depth'...</td>\n",
       "      <td>0.950014</td>\n",
       "      <td>0.951653</td>\n",
       "      <td>0.946448</td>\n",
       "      <td>0.925683</td>\n",
       "      <td>0.931421</td>\n",
       "      <td>0.941044</td>\n",
       "      <td>0.010495</td>\n",
       "      <td>1</td>\n",
       "    </tr>\n",
       "  </tbody>\n",
       "</table>\n",
       "</div>"
      ],
      "text/plain": [
       "    mean_fit_time  std_fit_time  mean_score_time  std_score_time  \\\n",
       "82       0.205881      0.021135         0.031783        0.001720   \n",
       "81       0.199686      0.013915         0.030980        0.002279   \n",
       "83       0.199284      0.017409         0.032583        0.001959   \n",
       "\n",
       "   param_dtc__criterion param_dtc__max_depth param_dtc__min_samples_leaf  \\\n",
       "82              entropy                    5                           7   \n",
       "81              entropy                    5                           7   \n",
       "83              entropy                    5                           7   \n",
       "\n",
       "   param_dtc__min_samples_split  \\\n",
       "82                            5   \n",
       "81                            2   \n",
       "83                           10   \n",
       "\n",
       "                                               params  split0_test_score  \\\n",
       "82  {'dtc__criterion': 'entropy', 'dtc__max_depth'...           0.950014   \n",
       "81  {'dtc__criterion': 'entropy', 'dtc__max_depth'...           0.950014   \n",
       "83  {'dtc__criterion': 'entropy', 'dtc__max_depth'...           0.950014   \n",
       "\n",
       "    split1_test_score  split2_test_score  split3_test_score  \\\n",
       "82           0.951653           0.946448           0.925683   \n",
       "81           0.951653           0.946448           0.925683   \n",
       "83           0.951653           0.946448           0.925683   \n",
       "\n",
       "    split4_test_score  mean_test_score  std_test_score  rank_test_score  \n",
       "82           0.931421         0.941044        0.010495                1  \n",
       "81           0.931421         0.941044        0.010495                1  \n",
       "83           0.931421         0.941044        0.010495                1  "
      ]
     },
     "execution_count": 43,
     "metadata": {},
     "output_type": "execute_result"
    }
   ],
   "source": [
    "report_grid = pd.DataFrame(dtc_tuned.cv_results_).sort_values('rank_test_score', ascending=True)\n",
    "report_grid[report_grid['rank_test_score'] == 1]"
   ]
  },
  {
   "cell_type": "code",
   "execution_count": 44,
   "metadata": {},
   "outputs": [
    {
     "data": {
      "text/plain": [
       "{'dtc__criterion': 'entropy',\n",
       " 'dtc__max_depth': 5,\n",
       " 'dtc__min_samples_leaf': 7,\n",
       " 'dtc__min_samples_split': 2}"
      ]
     },
     "execution_count": 44,
     "metadata": {},
     "output_type": "execute_result"
    }
   ],
   "source": [
    "dtc_tuned.best_params_"
   ]
  },
  {
   "cell_type": "code",
   "execution_count": 45,
   "metadata": {},
   "outputs": [
    {
     "data": {
      "text/plain": [
       "0.9410436247971903"
      ]
     },
     "execution_count": 45,
     "metadata": {},
     "output_type": "execute_result"
    }
   ],
   "source": [
    "dtc_tuned.best_score_"
   ]
  },
  {
   "cell_type": "code",
   "execution_count": 46,
   "metadata": {},
   "outputs": [
    {
     "data": {
      "text/plain": [
       "Pipeline(steps=[('transformer',\n",
       "                 ColumnTransformer(transformers=[('pipe_numeric',\n",
       "                                                  Pipeline(steps=[('scaler',\n",
       "                                                                   RobustScaler())]),\n",
       "                                                  ['age_building',\n",
       "                                                   'count_floors_pre_eq',\n",
       "                                                   'plinth_area_sq_ft',\n",
       "                                                   'height_ft_pre_eq']),\n",
       "                                                 ('pipe_cat',\n",
       "                                                  Pipeline(steps=[('encoder',\n",
       "                                                                   OneHotEncoder(drop='first'))]),\n",
       "                                                  ['foundation_type',\n",
       "                                                   'roof_type',\n",
       "                                                   'ground_floor_type',\n",
       "                                                   'other_floor_type'])])),\n",
       "                ('dtc',\n",
       "                 DecisionTreeClassifier(criterion='entropy', max_depth=5,\n",
       "                                        min_samples_leaf=7))])"
      ]
     },
     "execution_count": 46,
     "metadata": {},
     "output_type": "execute_result"
    }
   ],
   "source": [
    "dtc_tuned.best_estimator_"
   ]
  },
  {
   "cell_type": "code",
   "execution_count": 47,
   "metadata": {},
   "outputs": [],
   "source": [
    "dtc_tun = dtc_tuned.best_estimator_"
   ]
  },
  {
   "cell_type": "code",
   "execution_count": 48,
   "metadata": {},
   "outputs": [
    {
     "name": "stderr",
     "output_type": "stream",
     "text": [
      "[Parallel(n_jobs=-1)]: Using backend LokyBackend with 8 concurrent workers.\n",
      "[Parallel(n_jobs=-1)]: Done   2 out of   5 | elapsed:    0.1s remaining:    0.3s\n",
      "[Parallel(n_jobs=-1)]: Done   5 out of   5 | elapsed:    0.2s finished\n"
     ]
    },
    {
     "data": {
      "text/plain": [
       "array([0.95001366, 0.95165255, 0.94644809, 0.92568306, 0.93142077])"
      ]
     },
     "execution_count": 48,
     "metadata": {},
     "output_type": "execute_result"
    }
   ],
   "source": [
    "dtc_tuned_score = cross_val_score(dtc_tun, X_train, y_train, scoring='recall', cv=skfold, n_jobs=-1, verbose=1)\n",
    "dtc_tuned_score"
   ]
  },
  {
   "cell_type": "code",
   "execution_count": 49,
   "metadata": {},
   "outputs": [
    {
     "data": {
      "text/plain": [
       "0.9410436247971903"
      ]
     },
     "execution_count": 49,
     "metadata": {},
     "output_type": "execute_result"
    }
   ],
   "source": [
    "dtc_tuned_score.mean()"
   ]
  },
  {
   "cell_type": "markdown",
   "metadata": {},
   "source": [
    "> ## RFC HYPERPARAM"
   ]
  },
  {
   "cell_type": "code",
   "execution_count": 50,
   "metadata": {},
   "outputs": [
    {
     "data": {
      "text/plain": [
       "dict_keys(['memory', 'steps', 'verbose', 'transformer', 'rfc', 'transformer__n_jobs', 'transformer__remainder', 'transformer__sparse_threshold', 'transformer__transformer_weights', 'transformer__transformers', 'transformer__verbose', 'transformer__pipe_numeric', 'transformer__pipe_cat', 'transformer__pipe_numeric__memory', 'transformer__pipe_numeric__steps', 'transformer__pipe_numeric__verbose', 'transformer__pipe_numeric__scaler', 'transformer__pipe_numeric__scaler__copy', 'transformer__pipe_numeric__scaler__quantile_range', 'transformer__pipe_numeric__scaler__with_centering', 'transformer__pipe_numeric__scaler__with_scaling', 'transformer__pipe_cat__memory', 'transformer__pipe_cat__steps', 'transformer__pipe_cat__verbose', 'transformer__pipe_cat__encoder', 'transformer__pipe_cat__encoder__categories', 'transformer__pipe_cat__encoder__drop', 'transformer__pipe_cat__encoder__dtype', 'transformer__pipe_cat__encoder__handle_unknown', 'transformer__pipe_cat__encoder__sparse', 'rfc__bootstrap', 'rfc__ccp_alpha', 'rfc__class_weight', 'rfc__criterion', 'rfc__max_depth', 'rfc__max_features', 'rfc__max_leaf_nodes', 'rfc__max_samples', 'rfc__min_impurity_decrease', 'rfc__min_impurity_split', 'rfc__min_samples_leaf', 'rfc__min_samples_split', 'rfc__min_weight_fraction_leaf', 'rfc__n_estimators', 'rfc__n_jobs', 'rfc__oob_score', 'rfc__random_state', 'rfc__verbose', 'rfc__warm_start'])"
      ]
     },
     "execution_count": 50,
     "metadata": {},
     "output_type": "execute_result"
    }
   ],
   "source": [
    "rfc_pipe.get_params().keys()"
   ]
  },
  {
   "cell_type": "code",
   "execution_count": 51,
   "metadata": {},
   "outputs": [],
   "source": [
    "rfc_param = {'rfc__n_estimators': [400, 800, 1100, 1500, 2000],\n",
    "            'rfc__max_depth': [None,5, 10, 20, 30, 50, 70, 90],\n",
    "            'rfc__min_samples_split': [2, 5, 10],\n",
    "            'rfc__max_features': ['auto', 'sqrt'],\n",
    "            'rfc__min_samples_leaf' : [2, 4, 6]\n",
    "           }\n",
    "\n",
    "\n",
    "rfc_tuned = RandomizedSearchCV(estimator=rfc_pipe, \n",
    "                            param_distributions=rfc_param,\n",
    "                            n_iter=100,\n",
    "                            cv=skfold, \n",
    "                            n_jobs=-1, \n",
    "                            scoring='recall',\n",
    "                           verbose=1)"
   ]
  },
  {
   "cell_type": "code",
   "execution_count": 52,
   "metadata": {},
   "outputs": [
    {
     "name": "stdout",
     "output_type": "stream",
     "text": [
      "Fitting 5 folds for each of 100 candidates, totalling 500 fits\n"
     ]
    },
    {
     "name": "stderr",
     "output_type": "stream",
     "text": [
      "[Parallel(n_jobs=-1)]: Using backend LokyBackend with 8 concurrent workers.\n",
      "[Parallel(n_jobs=-1)]: Done  34 tasks      | elapsed:  3.0min\n",
      "[Parallel(n_jobs=-1)]: Done 184 tasks      | elapsed: 17.5min\n",
      "[Parallel(n_jobs=-1)]: Done 434 tasks      | elapsed: 40.9min\n",
      "[Parallel(n_jobs=-1)]: Done 500 out of 500 | elapsed: 48.0min finished\n"
     ]
    },
    {
     "data": {
      "text/plain": [
       "RandomizedSearchCV(cv=StratifiedKFold(n_splits=5, random_state=1510, shuffle=True),\n",
       "                   estimator=Pipeline(steps=[('transformer',\n",
       "                                              ColumnTransformer(transformers=[('pipe_numeric',\n",
       "                                                                               Pipeline(steps=[('scaler',\n",
       "                                                                                                RobustScaler())]),\n",
       "                                                                               ['age_building',\n",
       "                                                                                'count_floors_pre_eq',\n",
       "                                                                                'plinth_area_sq_ft',\n",
       "                                                                                'height_ft_pre_eq']),\n",
       "                                                                              ('pipe_cat',\n",
       "                                                                               Pipeline(steps=[('encoder',\n",
       "                                                                                                OneHotEncoder(drop...\n",
       "                                                                                'roof_type',\n",
       "                                                                                'ground_floor_type',\n",
       "                                                                                'other_floor_type'])])),\n",
       "                                             ('rfc',\n",
       "                                              RandomForestClassifier())]),\n",
       "                   n_iter=100, n_jobs=-1,\n",
       "                   param_distributions={'rfc__max_depth': [None, 5, 10, 20, 30,\n",
       "                                                           50, 70, 90],\n",
       "                                        'rfc__max_features': ['auto', 'sqrt'],\n",
       "                                        'rfc__min_samples_leaf': [2, 4, 6],\n",
       "                                        'rfc__min_samples_split': [2, 5, 10],\n",
       "                                        'rfc__n_estimators': [400, 800, 1100,\n",
       "                                                              1500, 2000]},\n",
       "                   scoring='recall', verbose=1)"
      ]
     },
     "execution_count": 52,
     "metadata": {},
     "output_type": "execute_result"
    }
   ],
   "source": [
    "rfc_tuned.fit(X_train, y_train)"
   ]
  },
  {
   "cell_type": "code",
   "execution_count": 53,
   "metadata": {},
   "outputs": [
    {
     "data": {
      "text/html": [
       "<div>\n",
       "<style scoped>\n",
       "    .dataframe tbody tr th:only-of-type {\n",
       "        vertical-align: middle;\n",
       "    }\n",
       "\n",
       "    .dataframe tbody tr th {\n",
       "        vertical-align: top;\n",
       "    }\n",
       "\n",
       "    .dataframe thead th {\n",
       "        text-align: right;\n",
       "    }\n",
       "</style>\n",
       "<table border=\"1\" class=\"dataframe\">\n",
       "  <thead>\n",
       "    <tr style=\"text-align: right;\">\n",
       "      <th></th>\n",
       "      <th>mean_fit_time</th>\n",
       "      <th>std_fit_time</th>\n",
       "      <th>mean_score_time</th>\n",
       "      <th>std_score_time</th>\n",
       "      <th>param_rfc__n_estimators</th>\n",
       "      <th>param_rfc__min_samples_split</th>\n",
       "      <th>param_rfc__min_samples_leaf</th>\n",
       "      <th>param_rfc__max_features</th>\n",
       "      <th>param_rfc__max_depth</th>\n",
       "      <th>params</th>\n",
       "      <th>split0_test_score</th>\n",
       "      <th>split1_test_score</th>\n",
       "      <th>split2_test_score</th>\n",
       "      <th>split3_test_score</th>\n",
       "      <th>split4_test_score</th>\n",
       "      <th>mean_test_score</th>\n",
       "      <th>std_test_score</th>\n",
       "      <th>rank_test_score</th>\n",
       "    </tr>\n",
       "  </thead>\n",
       "  <tbody>\n",
       "    <tr>\n",
       "      <th>99</th>\n",
       "      <td>48.879416</td>\n",
       "      <td>4.292714</td>\n",
       "      <td>1.722011</td>\n",
       "      <td>0.319868</td>\n",
       "      <td>2000</td>\n",
       "      <td>10</td>\n",
       "      <td>6</td>\n",
       "      <td>sqrt</td>\n",
       "      <td>10</td>\n",
       "      <td>{'rfc__n_estimators': 2000, 'rfc__min_samples_...</td>\n",
       "      <td>0.945643</td>\n",
       "      <td>0.947009</td>\n",
       "      <td>0.94153</td>\n",
       "      <td>0.940984</td>\n",
       "      <td>0.945082</td>\n",
       "      <td>0.94405</td>\n",
       "      <td>0.002371</td>\n",
       "      <td>1</td>\n",
       "    </tr>\n",
       "  </tbody>\n",
       "</table>\n",
       "</div>"
      ],
      "text/plain": [
       "    mean_fit_time  std_fit_time  mean_score_time  std_score_time  \\\n",
       "99      48.879416      4.292714         1.722011        0.319868   \n",
       "\n",
       "   param_rfc__n_estimators param_rfc__min_samples_split  \\\n",
       "99                    2000                           10   \n",
       "\n",
       "   param_rfc__min_samples_leaf param_rfc__max_features param_rfc__max_depth  \\\n",
       "99                           6                    sqrt                   10   \n",
       "\n",
       "                                               params  split0_test_score  \\\n",
       "99  {'rfc__n_estimators': 2000, 'rfc__min_samples_...           0.945643   \n",
       "\n",
       "    split1_test_score  split2_test_score  split3_test_score  \\\n",
       "99           0.947009            0.94153           0.940984   \n",
       "\n",
       "    split4_test_score  mean_test_score  std_test_score  rank_test_score  \n",
       "99           0.945082          0.94405        0.002371                1  "
      ]
     },
     "execution_count": 53,
     "metadata": {},
     "output_type": "execute_result"
    }
   ],
   "source": [
    "report_grid = pd.DataFrame(rfc_tuned.cv_results_).sort_values('rank_test_score', ascending=True)\n",
    "report_grid[report_grid['rank_test_score'] == 1]"
   ]
  },
  {
   "cell_type": "code",
   "execution_count": 54,
   "metadata": {},
   "outputs": [
    {
     "data": {
      "text/plain": [
       "{'rfc__n_estimators': 2000,\n",
       " 'rfc__min_samples_split': 10,\n",
       " 'rfc__min_samples_leaf': 6,\n",
       " 'rfc__max_features': 'sqrt',\n",
       " 'rfc__max_depth': 10}"
      ]
     },
     "execution_count": 54,
     "metadata": {},
     "output_type": "execute_result"
    }
   ],
   "source": [
    "rfc_tuned.best_params_"
   ]
  },
  {
   "cell_type": "code",
   "execution_count": 55,
   "metadata": {},
   "outputs": [
    {
     "data": {
      "text/plain": [
       "0.9440495818425794"
      ]
     },
     "execution_count": 55,
     "metadata": {},
     "output_type": "execute_result"
    }
   ],
   "source": [
    "rfc_tuned.best_score_"
   ]
  },
  {
   "cell_type": "code",
   "execution_count": 56,
   "metadata": {},
   "outputs": [
    {
     "data": {
      "text/plain": [
       "Pipeline(steps=[('transformer',\n",
       "                 ColumnTransformer(transformers=[('pipe_numeric',\n",
       "                                                  Pipeline(steps=[('scaler',\n",
       "                                                                   RobustScaler())]),\n",
       "                                                  ['age_building',\n",
       "                                                   'count_floors_pre_eq',\n",
       "                                                   'plinth_area_sq_ft',\n",
       "                                                   'height_ft_pre_eq']),\n",
       "                                                 ('pipe_cat',\n",
       "                                                  Pipeline(steps=[('encoder',\n",
       "                                                                   OneHotEncoder(drop='first'))]),\n",
       "                                                  ['foundation_type',\n",
       "                                                   'roof_type',\n",
       "                                                   'ground_floor_type',\n",
       "                                                   'other_floor_type'])])),\n",
       "                ('rfc',\n",
       "                 RandomForestClassifier(max_depth=10, max_features='sqrt',\n",
       "                                        min_samples_leaf=6,\n",
       "                                        min_samples_split=10,\n",
       "                                        n_estimators=2000))])"
      ]
     },
     "execution_count": 56,
     "metadata": {},
     "output_type": "execute_result"
    }
   ],
   "source": [
    "rfc_tuned.best_estimator_"
   ]
  },
  {
   "cell_type": "code",
   "execution_count": 57,
   "metadata": {},
   "outputs": [],
   "source": [
    "rfc_tun = rfc_tuned.best_estimator_"
   ]
  },
  {
   "cell_type": "code",
   "execution_count": 58,
   "metadata": {},
   "outputs": [
    {
     "name": "stderr",
     "output_type": "stream",
     "text": [
      "[Parallel(n_jobs=-1)]: Using backend LokyBackend with 8 concurrent workers.\n",
      "[Parallel(n_jobs=-1)]: Done   2 out of   5 | elapsed:   40.7s remaining:  1.0min\n",
      "[Parallel(n_jobs=-1)]: Done   5 out of   5 | elapsed:   41.5s finished\n"
     ]
    },
    {
     "data": {
      "text/plain": [
       "array([0.94618957, 0.94700901, 0.94098361, 0.94098361, 0.94508197])"
      ]
     },
     "execution_count": 58,
     "metadata": {},
     "output_type": "execute_result"
    }
   ],
   "source": [
    "rfc_tuned_score = cross_val_score(rfc_tun, X_train, y_train, scoring='recall', cv=skfold, n_jobs=-1, verbose=1)\n",
    "rfc_tuned_score"
   ]
  },
  {
   "cell_type": "code",
   "execution_count": 59,
   "metadata": {},
   "outputs": [
    {
     "data": {
      "text/plain": [
       "0.9440495519901845"
      ]
     },
     "execution_count": 59,
     "metadata": {},
     "output_type": "execute_result"
    }
   ],
   "source": [
    "rfc_tuned_score.mean()"
   ]
  },
  {
   "cell_type": "code",
   "execution_count": 60,
   "metadata": {},
   "outputs": [
    {
     "data": {
      "text/html": [
       "<div>\n",
       "<style scoped>\n",
       "    .dataframe tbody tr th:only-of-type {\n",
       "        vertical-align: middle;\n",
       "    }\n",
       "\n",
       "    .dataframe tbody tr th {\n",
       "        vertical-align: top;\n",
       "    }\n",
       "\n",
       "    .dataframe thead th {\n",
       "        text-align: right;\n",
       "    }\n",
       "</style>\n",
       "<table border=\"1\" class=\"dataframe\">\n",
       "  <thead>\n",
       "    <tr style=\"text-align: right;\">\n",
       "      <th></th>\n",
       "      <th>KNearest Neighbors</th>\n",
       "      <th>Decision Tree CV Score</th>\n",
       "      <th>Random Forest CV Score</th>\n",
       "    </tr>\n",
       "  </thead>\n",
       "  <tbody>\n",
       "    <tr>\n",
       "      <th>0</th>\n",
       "      <td>0.94028</td>\n",
       "      <td>0.941044</td>\n",
       "      <td>0.94405</td>\n",
       "    </tr>\n",
       "  </tbody>\n",
       "</table>\n",
       "</div>"
      ],
      "text/plain": [
       "   KNearest Neighbors  Decision Tree CV Score  Random Forest CV Score\n",
       "0             0.94028                0.941044                 0.94405"
      ]
     },
     "execution_count": 60,
     "metadata": {},
     "output_type": "execute_result"
    }
   ],
   "source": [
    "knncst = knn_tuned_score.mean()\n",
    "dtcst = dtc_tuned_score.mean()\n",
    "rfcst = rfc_tuned_score.mean()\n",
    "\n",
    "dft = pd.DataFrame({'KNearest Neighbors':[knncst], 'Decision Tree CV Score': [dtcst], 'Random Forest CV Score': [rfcst]})\n",
    "dft"
   ]
  },
  {
   "cell_type": "code",
   "execution_count": 61,
   "metadata": {},
   "outputs": [
    {
     "data": {
      "text/html": [
       "<div>\n",
       "<style scoped>\n",
       "    .dataframe tbody tr th:only-of-type {\n",
       "        vertical-align: middle;\n",
       "    }\n",
       "\n",
       "    .dataframe tbody tr th {\n",
       "        vertical-align: top;\n",
       "    }\n",
       "\n",
       "    .dataframe thead th {\n",
       "        text-align: right;\n",
       "    }\n",
       "</style>\n",
       "<table border=\"1\" class=\"dataframe\">\n",
       "  <thead>\n",
       "    <tr style=\"text-align: right;\">\n",
       "      <th></th>\n",
       "      <th>Before Tuned</th>\n",
       "      <th>After Tuned</th>\n",
       "    </tr>\n",
       "  </thead>\n",
       "  <tbody>\n",
       "    <tr>\n",
       "      <th>KNearest Neighbors</th>\n",
       "      <td>0.800513</td>\n",
       "      <td>0.940280</td>\n",
       "    </tr>\n",
       "    <tr>\n",
       "      <th>Decision Tree</th>\n",
       "      <td>0.675117</td>\n",
       "      <td>0.941044</td>\n",
       "    </tr>\n",
       "    <tr>\n",
       "      <th>Random Forest</th>\n",
       "      <td>0.782045</td>\n",
       "      <td>0.944050</td>\n",
       "    </tr>\n",
       "  </tbody>\n",
       "</table>\n",
       "</div>"
      ],
      "text/plain": [
       "                    Before Tuned  After Tuned\n",
       "KNearest Neighbors      0.800513     0.940280\n",
       "Decision Tree           0.675117     0.941044\n",
       "Random Forest           0.782045     0.944050"
      ]
     },
     "execution_count": 61,
     "metadata": {},
     "output_type": "execute_result"
    }
   ],
   "source": [
    "knncv = knn_score.mean()\n",
    "knncv2 = knn_tuned_score.mean()\n",
    "sdtcv = dtc_score.mean()\n",
    "sdtcv2 = dtc_tuned_score.mean()\n",
    "srfcv = rfc_score.mean()\n",
    "srfcv2 = rfc_tuned_score.mean()\n",
    "\n",
    "\n",
    "cc = {\n",
    "    'Before Tuned' : [knncv, sdtcv, srfcv],\n",
    "    'After Tuned': [knncv2, sdtcv2, srfcv2]\n",
    "}\n",
    "\n",
    "_score = pd.DataFrame(data=cc, index=[\"KNearest Neighbors\", 'Decision Tree', 'Random Forest'])\n",
    "_score\n"
   ]
  },
  {
   "cell_type": "markdown",
   "metadata": {},
   "source": [
    "Untuk hasil perbandingan antara 3 model ini, KNN sebelum dilakukan tunning mendapat nilai 0.8, lebih besar dibandingkan DTC dan RFC, namun setelah dilakukan Hyper parameter tuning, model RFC lebih besar yaitu diangka 0.943 sehingga model yang saya pilih adalah RFC"
   ]
  },
  {
   "cell_type": "markdown",
   "metadata": {},
   "source": [
    "> ## Best Model RANDOM FOREST"
   ]
  },
  {
   "cell_type": "code",
   "execution_count": 62,
   "metadata": {},
   "outputs": [
    {
     "data": {
      "text/plain": [
       "<sklearn.metrics._plot.precision_recall_curve.PrecisionRecallDisplay at 0x110e345dfa0>"
      ]
     },
     "execution_count": 62,
     "metadata": {},
     "output_type": "execute_result"
    },
    {
     "data": {
      "image/png": "[encoded data removed]",
      "text/plain": [
       "<Figure size 432x288 with 1 Axes>"
      ]
     },
     "metadata": {
      "needs_background": "light"
     },
     "output_type": "display_data"
    }
   ],
   "source": [
    "plot_precision_recall_curve(rfc_tun, X_test, y_test)"
   ]
  },
  {
   "cell_type": "code",
   "execution_count": 63,
   "metadata": {},
   "outputs": [
    {
     "data": {
      "text/html": [
       "<div>\n",
       "<style scoped>\n",
       "    .dataframe tbody tr th:only-of-type {\n",
       "        vertical-align: middle;\n",
       "    }\n",
       "\n",
       "    .dataframe tbody tr th {\n",
       "        vertical-align: top;\n",
       "    }\n",
       "\n",
       "    .dataframe thead th {\n",
       "        text-align: right;\n",
       "    }\n",
       "</style>\n",
       "<table border=\"1\" class=\"dataframe\">\n",
       "  <thead>\n",
       "    <tr style=\"text-align: right;\">\n",
       "      <th></th>\n",
       "      <th>precision</th>\n",
       "      <th>recall</th>\n",
       "      <th>threshold</th>\n",
       "    </tr>\n",
       "  </thead>\n",
       "  <tbody>\n",
       "    <tr>\n",
       "      <th>0</th>\n",
       "      <td>0.603244</td>\n",
       "      <td>1.000000</td>\n",
       "      <td>0.011079</td>\n",
       "    </tr>\n",
       "    <tr>\n",
       "      <th>1</th>\n",
       "      <td>0.603191</td>\n",
       "      <td>0.999781</td>\n",
       "      <td>0.011199</td>\n",
       "    </tr>\n",
       "    <tr>\n",
       "      <th>2</th>\n",
       "      <td>0.603350</td>\n",
       "      <td>0.999781</td>\n",
       "      <td>0.011286</td>\n",
       "    </tr>\n",
       "    <tr>\n",
       "      <th>3</th>\n",
       "      <td>0.603430</td>\n",
       "      <td>0.999781</td>\n",
       "      <td>0.011447</td>\n",
       "    </tr>\n",
       "    <tr>\n",
       "      <th>4</th>\n",
       "      <td>0.603510</td>\n",
       "      <td>0.999781</td>\n",
       "      <td>0.011505</td>\n",
       "    </tr>\n",
       "    <tr>\n",
       "      <th>...</th>\n",
       "      <td>...</td>\n",
       "      <td>...</td>\n",
       "      <td>...</td>\n",
       "    </tr>\n",
       "    <tr>\n",
       "      <th>7451</th>\n",
       "      <td>0.600000</td>\n",
       "      <td>0.000656</td>\n",
       "      <td>0.872082</td>\n",
       "    </tr>\n",
       "    <tr>\n",
       "      <th>7452</th>\n",
       "      <td>0.500000</td>\n",
       "      <td>0.000437</td>\n",
       "      <td>0.872164</td>\n",
       "    </tr>\n",
       "    <tr>\n",
       "      <th>7453</th>\n",
       "      <td>0.333333</td>\n",
       "      <td>0.000219</td>\n",
       "      <td>0.872550</td>\n",
       "    </tr>\n",
       "    <tr>\n",
       "      <th>7454</th>\n",
       "      <td>0.500000</td>\n",
       "      <td>0.000219</td>\n",
       "      <td>0.881010</td>\n",
       "    </tr>\n",
       "    <tr>\n",
       "      <th>7455</th>\n",
       "      <td>1.000000</td>\n",
       "      <td>0.000219</td>\n",
       "      <td>0.881619</td>\n",
       "    </tr>\n",
       "  </tbody>\n",
       "</table>\n",
       "<p>7456 rows × 3 columns</p>\n",
       "</div>"
      ],
      "text/plain": [
       "      precision    recall  threshold\n",
       "0      0.603244  1.000000   0.011079\n",
       "1      0.603191  0.999781   0.011199\n",
       "2      0.603350  0.999781   0.011286\n",
       "3      0.603430  0.999781   0.011447\n",
       "4      0.603510  0.999781   0.011505\n",
       "...         ...       ...        ...\n",
       "7451   0.600000  0.000656   0.872082\n",
       "7452   0.500000  0.000437   0.872164\n",
       "7453   0.333333  0.000219   0.872550\n",
       "7454   0.500000  0.000219   0.881010\n",
       "7455   1.000000  0.000219   0.881619\n",
       "\n",
       "[7456 rows x 3 columns]"
      ]
     },
     "execution_count": 63,
     "metadata": {},
     "output_type": "execute_result"
    }
   ],
   "source": [
    "p, r, t = precision_recall_curve(y_test, rfc_tun.predict_proba(X_test)[:,1])\n",
    "len(p[:-1]), len(r[:-1]), len(t)\n",
    "pr_df = pd.DataFrame({'precision': p[:-1], 'recall': r[:-1], 'threshold': t})\n",
    "pr_df"
   ]
  },
  {
   "cell_type": "code",
   "execution_count": 64,
   "metadata": {},
   "outputs": [
    {
     "data": {
      "text/plain": [
       "<sklearn.metrics._plot.confusion_matrix.ConfusionMatrixDisplay at 0x110e3a8b970>"
      ]
     },
     "execution_count": 64,
     "metadata": {},
     "output_type": "execute_result"
    },
    {
     "data": {
      "image/png": "[encoded data removed]",
      "text/plain": [
       "<Figure size 432x288 with 2 Axes>"
      ]
     },
     "metadata": {
      "needs_background": "light"
     },
     "output_type": "display_data"
    }
   ],
   "source": [
    "rfc_pipe.fit(X_train, y_train)\n",
    "plot_confusion_matrix(rfc_pipe, X_test, y_test)"
   ]
  },
  {
   "cell_type": "code",
   "execution_count": 65,
   "metadata": {},
   "outputs": [
    {
     "data": {
      "text/plain": [
       "<sklearn.metrics._plot.confusion_matrix.ConfusionMatrixDisplay at 0x110e3402190>"
      ]
     },
     "execution_count": 65,
     "metadata": {},
     "output_type": "execute_result"
    },
    {
     "data": {
      "image/png": "[encoded data removed]",
      "text/plain": [
       "<Figure size 432x288 with 2 Axes>"
      ]
     },
     "metadata": {
      "needs_background": "light"
     },
     "output_type": "display_data"
    }
   ],
   "source": [
    "rfc_tun.fit(X_train, y_train)\n",
    "plot_confusion_matrix(rfc_tun, X_test, y_test)"
   ]
  },
  {
   "cell_type": "code",
   "execution_count": 66,
   "metadata": {},
   "outputs": [
    {
     "data": {
      "text/plain": [
       "0.699349593495935"
      ]
     },
     "execution_count": 66,
     "metadata": {},
     "output_type": "execute_result"
    }
   ],
   "source": [
    "precision_score(y_test, rfc_tun.predict(X_test))"
   ]
  },
  {
   "cell_type": "code",
   "execution_count": 67,
   "metadata": {},
   "outputs": [
    {
     "data": {
      "text/plain": [
       "0.9401092896174863"
      ]
     },
     "execution_count": 67,
     "metadata": {},
     "output_type": "execute_result"
    }
   ],
   "source": [
    "recall_score(y_test, rfc_tun.predict(X_test))"
   ]
  },
  {
   "cell_type": "code",
   "execution_count": 77,
   "metadata": {},
   "outputs": [
    {
     "name": "stdout",
     "output_type": "stream",
     "text": [
      "ratio predik yang memberikan kerugian: 19.080779944289695\n"
     ]
    }
   ],
   "source": [
    "print('ratio predik yang memberikan kerugian:', 274/1436*100)"
   ]
  },
  {
   "cell_type": "code",
   "execution_count": 78,
   "metadata": {},
   "outputs": [
    {
     "name": "stdout",
     "output_type": "stream",
     "text": [
      "ratio kerugian yang dapat dihindari: 69.9349593495935\n"
     ]
    }
   ],
   "source": [
    "print('ratio kerugian yang dapat dihindari:', 4301/6150*100)"
   ]
  },
  {
   "cell_type": "markdown",
   "metadata": {},
   "source": [
    "Setelah dilakukan scoring, didapat bahwa RFC merupakan best model dengan skor 0.94\n",
    "saya memberi fokus disini untuk menekan nilai FN yaitu mengurangi predik low damage(0) tetapi kenyataanya adalah high damage(1)\n",
    "alasanya adalah disini bertujuan untuk mengurangi biaya akibat kerusakan infrastruktur, sehingga jika nilai jumlah FN nya besar maka\n",
    "dapat menjadi sebuah kerugian.\n",
    "dari matrix diatas setelah di tun didapat nilai 274 yang di predict 0 tetapi kenyataanya 1.\n",
    "ini menunjukan bahwa dari confusion matrix ini hanya 19% yang memberikan kerugian, dan dapat mengantisipasi kerugian sebesar 69.9%\n",
    "disini saya tidak mengatur threshold karena menurut saya, default threshold telah menunjukan nilai recall yang besar dengan precision score yang masih dibilang bagus"
   ]
  },
  {
   "cell_type": "markdown",
   "metadata": {},
   "source": [
    "## __IMPORT MODEL__"
   ]
  },
  {
   "cell_type": "code",
   "execution_count": 70,
   "metadata": {},
   "outputs": [],
   "source": [
    "import joblib"
   ]
  },
  {
   "cell_type": "code",
   "execution_count": 71,
   "metadata": {},
   "outputs": [
    {
     "data": {
      "text/plain": [
       "['Model.sav']"
      ]
     },
     "execution_count": 71,
     "metadata": {},
     "output_type": "execute_result"
    }
   ],
   "source": [
    "rfc_tun.fit(X, y)\n",
    "filename = 'Model.sav'\n",
    "joblib.dump(rfc_tun, filename)"
   ]
  },
  {
   "cell_type": "code",
   "execution_count": 72,
   "metadata": {},
   "outputs": [],
   "source": [
    "build1 = pd.DataFrame([{\n",
    "    'age_building': 55,\n",
    "    'count_floors_pre_eq': 2,\n",
    "    'plinth_area_sq_ft': 100,\n",
    "    'height_ft_pre_eq': 15,\n",
    "    'foundation_type' : 'Mud mortar-Stone/Brick',\n",
    "    'roof_type': 'Bamboo/Timber-Light roof',\n",
    "    'ground_floor_type': 'Mud',\n",
    "    'other_floor_type': 'Not applicable'\n",
    "}], index=[0])"
   ]
  },
  {
   "cell_type": "code",
   "execution_count": 73,
   "metadata": {},
   "outputs": [],
   "source": [
    "# build1"
   ]
  },
  {
   "cell_type": "code",
   "execution_count": 75,
   "metadata": {},
   "outputs": [
    {
     "data": {
      "text/plain": [
       "array([1], dtype=int64)"
      ]
     },
     "execution_count": 75,
     "metadata": {},
     "output_type": "execute_result"
    }
   ],
   "source": [
    "rfc_tun.predict(build1) # threshold default (0.5)"
   ]
  },
  {
   "cell_type": "code",
   "execution_count": 76,
   "metadata": {},
   "outputs": [],
   "source": [
    "# bu"
   ]
  },
  {
   "cell_type": "code",
   "execution_count": null,
   "metadata": {},
   "outputs": [],
   "source": [
    "# model_rf = joblib.load('Model.sav') Load"
   ]
  },
  {
   "cell_type": "code",
   "execution_count": null,
   "metadata": {},
   "outputs": [],
   "source": []
  }
 ],
 "metadata": {
  "kernelspec": {
   "display_name": "Python 3",
   "language": "python",
   "name": "python3"
  },
  "language_info": {
   "codemirror_mode": {
    "name": "ipython",
    "version": 3
   },
   "file_extension": ".py",
   "mimetype": "text/x-python",
   "name": "python",
   "nbconvert_exporter": "python",
   "pygments_lexer": "ipython3",
   "version": "3.8.3"
  }
 },
 "nbformat": 4,
 "nbformat_minor": 4
}
