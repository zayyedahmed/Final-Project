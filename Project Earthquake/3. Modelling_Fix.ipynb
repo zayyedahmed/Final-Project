{
 "cells": [
  {
   "cell_type": "markdown",
   "metadata": {},
   "source": [
    "## __MODELING__"
   ]
  },
  {
   "cell_type": "code",
   "execution_count": 78,
   "metadata": {},
   "outputs": [],
   "source": [
    "import pandas as pd\n",
    "import numpy as np\n",
    "import seaborn as sns\n",
    "import matplotlib.pyplot as plt\n",
    "from sklearn.linear_model import LogisticRegression\n",
    "from sklearn.neighbors import KNeighborsClassifier\n",
    "from sklearn.tree import DecisionTreeClassifier\n",
    "from sklearn.ensemble import RandomForestClassifier\n",
    "from sklearn.model_selection import train_test_split, GridSearchCV, RandomizedSearchCV, StratifiedKFold, cross_val_score\n",
    "from sklearn.pipeline import Pipeline\n",
    "from sklearn.preprocessing import OneHotEncoder, StandardScaler, RobustScaler, MinMaxScaler\n",
    "from sklearn.compose import ColumnTransformer\n",
    "from sklearn.metrics import classification_report, confusion_matrix, accuracy_score, precision_score, recall_score, f1_score,\\\n",
    "plot_confusion_matrix, precision_recall_curve, plot_precision_recall_curve, confusion_matrix, roc_curve, plot_roc_curve\n",
    "import sklearn\n",
    "sklearn.metrics.SCORERS.keys()\n",
    "from imblearn.over_sampling import RandomOverSampler, SMOTE\n",
    "from sklearn.feature_selection import SelectPercentile, univariate_selection, RFE"
   ]
  },
  {
   "cell_type": "code",
   "execution_count": 2,
   "metadata": {},
   "outputs": [],
   "source": [
    "building = pd.read_csv(\"D:\\Project\\Project\\earthquake\\earthquake_sample.csv\")"
   ]
  },
  {
   "cell_type": "code",
   "execution_count": 3,
   "metadata": {},
   "outputs": [
    {
     "data": {
      "text/html": [
       "<div>\n",
       "<style scoped>\n",
       "    .dataframe tbody tr th:only-of-type {\n",
       "        vertical-align: middle;\n",
       "    }\n",
       "\n",
       "    .dataframe tbody tr th {\n",
       "        vertical-align: top;\n",
       "    }\n",
       "\n",
       "    .dataframe thead th {\n",
       "        text-align: right;\n",
       "    }\n",
       "</style>\n",
       "<table border=\"1\" class=\"dataframe\">\n",
       "  <thead>\n",
       "    <tr style=\"text-align: right;\">\n",
       "      <th></th>\n",
       "      <th>damage</th>\n",
       "      <th>Unnamed: 1</th>\n",
       "      <th>Unnamed: 0</th>\n",
       "      <th>building_id</th>\n",
       "      <th>district_id</th>\n",
       "      <th>vdcmun_id</th>\n",
       "      <th>ward_id</th>\n",
       "      <th>count_floors_pre_eq</th>\n",
       "      <th>count_floors_post_eq</th>\n",
       "      <th>age_building</th>\n",
       "      <th>...</th>\n",
       "      <th>has_superstructure_mud_mortar_brick</th>\n",
       "      <th>has_superstructure_cement_mortar_brick</th>\n",
       "      <th>has_superstructure_timber</th>\n",
       "      <th>has_superstructure_bamboo</th>\n",
       "      <th>has_superstructure_rc_non_engineered</th>\n",
       "      <th>has_superstructure_rc_engineered</th>\n",
       "      <th>has_superstructure_other</th>\n",
       "      <th>condition_post_eq</th>\n",
       "      <th>technical_solution_proposed</th>\n",
       "      <th>damage.1</th>\n",
       "    </tr>\n",
       "  </thead>\n",
       "  <tbody>\n",
       "    <tr>\n",
       "      <th>0</th>\n",
       "      <td>High Damage</td>\n",
       "      <td>113575</td>\n",
       "      <td>113575</td>\n",
       "      <td>210505001611</td>\n",
       "      <td>21</td>\n",
       "      <td>2105</td>\n",
       "      <td>210507</td>\n",
       "      <td>2</td>\n",
       "      <td>0</td>\n",
       "      <td>20</td>\n",
       "      <td>...</td>\n",
       "      <td>0</td>\n",
       "      <td>0</td>\n",
       "      <td>0</td>\n",
       "      <td>0</td>\n",
       "      <td>0</td>\n",
       "      <td>0</td>\n",
       "      <td>0</td>\n",
       "      <td>Damaged-Rubble unclear</td>\n",
       "      <td>Reconstruction</td>\n",
       "      <td>High Damage</td>\n",
       "    </tr>\n",
       "    <tr>\n",
       "      <th>1</th>\n",
       "      <td>High Damage</td>\n",
       "      <td>369157</td>\n",
       "      <td>369157</td>\n",
       "      <td>245202000561</td>\n",
       "      <td>24</td>\n",
       "      <td>2408</td>\n",
       "      <td>240808</td>\n",
       "      <td>2</td>\n",
       "      <td>2</td>\n",
       "      <td>13</td>\n",
       "      <td>...</td>\n",
       "      <td>0</td>\n",
       "      <td>0</td>\n",
       "      <td>0</td>\n",
       "      <td>0</td>\n",
       "      <td>0</td>\n",
       "      <td>0</td>\n",
       "      <td>0</td>\n",
       "      <td>Damaged-Not used</td>\n",
       "      <td>Major repair</td>\n",
       "      <td>High Damage</td>\n",
       "    </tr>\n",
       "    <tr>\n",
       "      <th>2</th>\n",
       "      <td>High Damage</td>\n",
       "      <td>294822</td>\n",
       "      <td>294822</td>\n",
       "      <td>235902000761</td>\n",
       "      <td>23</td>\n",
       "      <td>2304</td>\n",
       "      <td>230407</td>\n",
       "      <td>2</td>\n",
       "      <td>0</td>\n",
       "      <td>14</td>\n",
       "      <td>...</td>\n",
       "      <td>0</td>\n",
       "      <td>0</td>\n",
       "      <td>0</td>\n",
       "      <td>0</td>\n",
       "      <td>0</td>\n",
       "      <td>0</td>\n",
       "      <td>0</td>\n",
       "      <td>Damaged-Rubble unclear</td>\n",
       "      <td>Reconstruction</td>\n",
       "      <td>High Damage</td>\n",
       "    </tr>\n",
       "    <tr>\n",
       "      <th>3</th>\n",
       "      <td>High Damage</td>\n",
       "      <td>255034</td>\n",
       "      <td>255034</td>\n",
       "      <td>232209000451</td>\n",
       "      <td>23</td>\n",
       "      <td>2313</td>\n",
       "      <td>231301</td>\n",
       "      <td>1</td>\n",
       "      <td>0</td>\n",
       "      <td>15</td>\n",
       "      <td>...</td>\n",
       "      <td>0</td>\n",
       "      <td>0</td>\n",
       "      <td>1</td>\n",
       "      <td>0</td>\n",
       "      <td>0</td>\n",
       "      <td>0</td>\n",
       "      <td>0</td>\n",
       "      <td>Damaged-Rubble unclear</td>\n",
       "      <td>Reconstruction</td>\n",
       "      <td>High Damage</td>\n",
       "    </tr>\n",
       "    <tr>\n",
       "      <th>4</th>\n",
       "      <td>High Damage</td>\n",
       "      <td>527276</td>\n",
       "      <td>527276</td>\n",
       "      <td>301309000401</td>\n",
       "      <td>30</td>\n",
       "      <td>3003</td>\n",
       "      <td>300303</td>\n",
       "      <td>2</td>\n",
       "      <td>0</td>\n",
       "      <td>12</td>\n",
       "      <td>...</td>\n",
       "      <td>0</td>\n",
       "      <td>0</td>\n",
       "      <td>1</td>\n",
       "      <td>1</td>\n",
       "      <td>0</td>\n",
       "      <td>0</td>\n",
       "      <td>0</td>\n",
       "      <td>Damaged-Rubble unclear</td>\n",
       "      <td>Reconstruction</td>\n",
       "      <td>High Damage</td>\n",
       "    </tr>\n",
       "  </tbody>\n",
       "</table>\n",
       "<p>5 rows × 34 columns</p>\n",
       "</div>"
      ],
      "text/plain": [
       "        damage  Unnamed: 1  Unnamed: 0   building_id  district_id  vdcmun_id  \\\n",
       "0  High Damage      113575      113575  210505001611           21       2105   \n",
       "1  High Damage      369157      369157  245202000561           24       2408   \n",
       "2  High Damage      294822      294822  235902000761           23       2304   \n",
       "3  High Damage      255034      255034  232209000451           23       2313   \n",
       "4  High Damage      527276      527276  301309000401           30       3003   \n",
       "\n",
       "   ward_id  count_floors_pre_eq  count_floors_post_eq  age_building  ...  \\\n",
       "0   210507                    2                     0            20  ...   \n",
       "1   240808                    2                     2            13  ...   \n",
       "2   230407                    2                     0            14  ...   \n",
       "3   231301                    1                     0            15  ...   \n",
       "4   300303                    2                     0            12  ...   \n",
       "\n",
       "   has_superstructure_mud_mortar_brick  \\\n",
       "0                                    0   \n",
       "1                                    0   \n",
       "2                                    0   \n",
       "3                                    0   \n",
       "4                                    0   \n",
       "\n",
       "   has_superstructure_cement_mortar_brick  has_superstructure_timber  \\\n",
       "0                                       0                          0   \n",
       "1                                       0                          0   \n",
       "2                                       0                          0   \n",
       "3                                       0                          1   \n",
       "4                                       0                          1   \n",
       "\n",
       "  has_superstructure_bamboo has_superstructure_rc_non_engineered  \\\n",
       "0                         0                                    0   \n",
       "1                         0                                    0   \n",
       "2                         0                                    0   \n",
       "3                         0                                    0   \n",
       "4                         1                                    0   \n",
       "\n",
       "  has_superstructure_rc_engineered has_superstructure_other  \\\n",
       "0                                0                        0   \n",
       "1                                0                        0   \n",
       "2                                0                        0   \n",
       "3                                0                        0   \n",
       "4                                0                        0   \n",
       "\n",
       "        condition_post_eq technical_solution_proposed     damage.1  \n",
       "0  Damaged-Rubble unclear              Reconstruction  High Damage  \n",
       "1        Damaged-Not used                Major repair  High Damage  \n",
       "2  Damaged-Rubble unclear              Reconstruction  High Damage  \n",
       "3  Damaged-Rubble unclear              Reconstruction  High Damage  \n",
       "4  Damaged-Rubble unclear              Reconstruction  High Damage  \n",
       "\n",
       "[5 rows x 34 columns]"
      ]
     },
     "execution_count": 3,
     "metadata": {},
     "output_type": "execute_result"
    }
   ],
   "source": [
    "building.head()"
   ]
  },
  {
   "cell_type": "code",
   "execution_count": 4,
   "metadata": {},
   "outputs": [
    {
     "name": "stdout",
     "output_type": "stream",
     "text": [
      "<class 'pandas.core.frame.DataFrame'>\n",
      "RangeIndex: 37930 entries, 0 to 37929\n",
      "Data columns (total 34 columns):\n",
      " #   Column                                  Non-Null Count  Dtype  \n",
      "---  ------                                  --------------  -----  \n",
      " 0   damage                                  37930 non-null  object \n",
      " 1   Unnamed: 1                              37930 non-null  int64  \n",
      " 2   Unnamed: 0                              37930 non-null  int64  \n",
      " 3   building_id                             37930 non-null  int64  \n",
      " 4   district_id                             37930 non-null  int64  \n",
      " 5   vdcmun_id                               37930 non-null  int64  \n",
      " 6   ward_id                                 37930 non-null  int64  \n",
      " 7   count_floors_pre_eq                     37930 non-null  int64  \n",
      " 8   count_floors_post_eq                    37930 non-null  int64  \n",
      " 9   age_building                            37930 non-null  int64  \n",
      " 10  plinth_area_sq_ft                       37930 non-null  float64\n",
      " 11  height_ft_pre_eq                        37930 non-null  float64\n",
      " 12  height_ft_post_eq                       37930 non-null  float64\n",
      " 13  land_surface_condition                  37930 non-null  object \n",
      " 14  foundation_type                         37930 non-null  object \n",
      " 15  roof_type                               37930 non-null  object \n",
      " 16  ground_floor_type                       37930 non-null  object \n",
      " 17  other_floor_type                        37930 non-null  object \n",
      " 18  position                                37930 non-null  object \n",
      " 19  plan_configuration                      37930 non-null  object \n",
      " 20  has_superstructure_adobe_mud            37930 non-null  int64  \n",
      " 21  has_superstructure_mud_mortar_stone     37930 non-null  int64  \n",
      " 22  has_superstructure_stone_flag           37930 non-null  int64  \n",
      " 23  has_superstructure_cement_mortar_stone  37930 non-null  int64  \n",
      " 24  has_superstructure_mud_mortar_brick     37930 non-null  int64  \n",
      " 25  has_superstructure_cement_mortar_brick  37930 non-null  int64  \n",
      " 26  has_superstructure_timber               37930 non-null  int64  \n",
      " 27  has_superstructure_bamboo               37930 non-null  int64  \n",
      " 28  has_superstructure_rc_non_engineered    37930 non-null  int64  \n",
      " 29  has_superstructure_rc_engineered        37930 non-null  int64  \n",
      " 30  has_superstructure_other                37930 non-null  int64  \n",
      " 31  condition_post_eq                       37930 non-null  object \n",
      " 32  technical_solution_proposed             37930 non-null  object \n",
      " 33  damage.1                                37930 non-null  object \n",
      "dtypes: float64(3), int64(20), object(11)\n",
      "memory usage: 9.8+ MB\n"
     ]
    }
   ],
   "source": [
    "building.info()"
   ]
  },
  {
   "cell_type": "code",
   "execution_count": 5,
   "metadata": {},
   "outputs": [
    {
     "data": {
      "text/plain": [
       "(37930, 34)"
      ]
     },
     "execution_count": 5,
     "metadata": {},
     "output_type": "execute_result"
    }
   ],
   "source": [
    "building.shape"
   ]
  },
  {
   "cell_type": "code",
   "execution_count": 6,
   "metadata": {},
   "outputs": [],
   "source": [
    "building.drop([\"Unnamed: 0\",\"Unnamed: 1\", \"building_id\", \"district_id\", \"vdcmun_id\", \"ward_id\", \"has_superstructure_adobe_mud\", \"has_superstructure_mud_mortar_stone\", \"has_superstructure_stone_flag\", \"has_superstructure_cement_mortar_stone\", \"has_superstructure_mud_mortar_brick\", \"has_superstructure_cement_mortar_brick\", \"has_superstructure_timber\", \"has_superstructure_bamboo\", \"has_superstructure_rc_non_engineered\", \"has_superstructure_rc_engineered\", \"has_superstructure_other\" ], axis=1, inplace=True)"
   ]
  },
  {
   "cell_type": "code",
   "execution_count": 7,
   "metadata": {},
   "outputs": [
    {
     "data": {
      "text/html": [
       "<div>\n",
       "<style scoped>\n",
       "    .dataframe tbody tr th:only-of-type {\n",
       "        vertical-align: middle;\n",
       "    }\n",
       "\n",
       "    .dataframe tbody tr th {\n",
       "        vertical-align: top;\n",
       "    }\n",
       "\n",
       "    .dataframe thead th {\n",
       "        text-align: right;\n",
       "    }\n",
       "</style>\n",
       "<table border=\"1\" class=\"dataframe\">\n",
       "  <thead>\n",
       "    <tr style=\"text-align: right;\">\n",
       "      <th></th>\n",
       "      <th>damage</th>\n",
       "      <th>count_floors_pre_eq</th>\n",
       "      <th>count_floors_post_eq</th>\n",
       "      <th>age_building</th>\n",
       "      <th>plinth_area_sq_ft</th>\n",
       "      <th>height_ft_pre_eq</th>\n",
       "      <th>height_ft_post_eq</th>\n",
       "      <th>land_surface_condition</th>\n",
       "      <th>foundation_type</th>\n",
       "      <th>roof_type</th>\n",
       "      <th>ground_floor_type</th>\n",
       "      <th>other_floor_type</th>\n",
       "      <th>position</th>\n",
       "      <th>plan_configuration</th>\n",
       "      <th>condition_post_eq</th>\n",
       "      <th>technical_solution_proposed</th>\n",
       "      <th>damage.1</th>\n",
       "    </tr>\n",
       "  </thead>\n",
       "  <tbody>\n",
       "    <tr>\n",
       "      <th>0</th>\n",
       "      <td>High Damage</td>\n",
       "      <td>2</td>\n",
       "      <td>0</td>\n",
       "      <td>20</td>\n",
       "      <td>18.58</td>\n",
       "      <td>3.05</td>\n",
       "      <td>0.00</td>\n",
       "      <td>Flat</td>\n",
       "      <td>Mud mortar-Stone/Brick</td>\n",
       "      <td>Bamboo/Timber-Light roof</td>\n",
       "      <td>Mud</td>\n",
       "      <td>TImber/Bamboo-Mud</td>\n",
       "      <td>Not attached</td>\n",
       "      <td>Rectangular</td>\n",
       "      <td>Damaged-Rubble unclear</td>\n",
       "      <td>Reconstruction</td>\n",
       "      <td>High Damage</td>\n",
       "    </tr>\n",
       "    <tr>\n",
       "      <th>1</th>\n",
       "      <td>High Damage</td>\n",
       "      <td>2</td>\n",
       "      <td>2</td>\n",
       "      <td>13</td>\n",
       "      <td>38.65</td>\n",
       "      <td>4.27</td>\n",
       "      <td>4.27</td>\n",
       "      <td>Flat</td>\n",
       "      <td>Mud mortar-Stone/Brick</td>\n",
       "      <td>Bamboo/Timber-Light roof</td>\n",
       "      <td>Mud</td>\n",
       "      <td>TImber/Bamboo-Mud</td>\n",
       "      <td>Not attached</td>\n",
       "      <td>Rectangular</td>\n",
       "      <td>Damaged-Not used</td>\n",
       "      <td>Major repair</td>\n",
       "      <td>High Damage</td>\n",
       "    </tr>\n",
       "    <tr>\n",
       "      <th>2</th>\n",
       "      <td>High Damage</td>\n",
       "      <td>2</td>\n",
       "      <td>0</td>\n",
       "      <td>14</td>\n",
       "      <td>51.10</td>\n",
       "      <td>4.27</td>\n",
       "      <td>0.00</td>\n",
       "      <td>Moderate slope</td>\n",
       "      <td>Mud mortar-Stone/Brick</td>\n",
       "      <td>Bamboo/Timber-Light roof</td>\n",
       "      <td>Mud</td>\n",
       "      <td>TImber/Bamboo-Mud</td>\n",
       "      <td>Not attached</td>\n",
       "      <td>Rectangular</td>\n",
       "      <td>Damaged-Rubble unclear</td>\n",
       "      <td>Reconstruction</td>\n",
       "      <td>High Damage</td>\n",
       "    </tr>\n",
       "    <tr>\n",
       "      <th>3</th>\n",
       "      <td>High Damage</td>\n",
       "      <td>1</td>\n",
       "      <td>0</td>\n",
       "      <td>15</td>\n",
       "      <td>13.01</td>\n",
       "      <td>2.13</td>\n",
       "      <td>0.00</td>\n",
       "      <td>Flat</td>\n",
       "      <td>Mud mortar-Stone/Brick</td>\n",
       "      <td>Bamboo/Timber-Light roof</td>\n",
       "      <td>Mud</td>\n",
       "      <td>Not applicable</td>\n",
       "      <td>Not attached</td>\n",
       "      <td>Rectangular</td>\n",
       "      <td>Damaged-Rubble unclear</td>\n",
       "      <td>Reconstruction</td>\n",
       "      <td>High Damage</td>\n",
       "    </tr>\n",
       "    <tr>\n",
       "      <th>4</th>\n",
       "      <td>High Damage</td>\n",
       "      <td>2</td>\n",
       "      <td>0</td>\n",
       "      <td>12</td>\n",
       "      <td>27.68</td>\n",
       "      <td>3.66</td>\n",
       "      <td>0.00</td>\n",
       "      <td>Flat</td>\n",
       "      <td>Mud mortar-Stone/Brick</td>\n",
       "      <td>Bamboo/Timber-Light roof</td>\n",
       "      <td>Mud</td>\n",
       "      <td>TImber/Bamboo-Mud</td>\n",
       "      <td>Not attached</td>\n",
       "      <td>Rectangular</td>\n",
       "      <td>Damaged-Rubble unclear</td>\n",
       "      <td>Reconstruction</td>\n",
       "      <td>High Damage</td>\n",
       "    </tr>\n",
       "  </tbody>\n",
       "</table>\n",
       "</div>"
      ],
      "text/plain": [
       "        damage  count_floors_pre_eq  count_floors_post_eq  age_building  \\\n",
       "0  High Damage                    2                     0            20   \n",
       "1  High Damage                    2                     2            13   \n",
       "2  High Damage                    2                     0            14   \n",
       "3  High Damage                    1                     0            15   \n",
       "4  High Damage                    2                     0            12   \n",
       "\n",
       "   plinth_area_sq_ft  height_ft_pre_eq  height_ft_post_eq  \\\n",
       "0              18.58              3.05               0.00   \n",
       "1              38.65              4.27               4.27   \n",
       "2              51.10              4.27               0.00   \n",
       "3              13.01              2.13               0.00   \n",
       "4              27.68              3.66               0.00   \n",
       "\n",
       "  land_surface_condition         foundation_type                 roof_type  \\\n",
       "0                   Flat  Mud mortar-Stone/Brick  Bamboo/Timber-Light roof   \n",
       "1                   Flat  Mud mortar-Stone/Brick  Bamboo/Timber-Light roof   \n",
       "2         Moderate slope  Mud mortar-Stone/Brick  Bamboo/Timber-Light roof   \n",
       "3                   Flat  Mud mortar-Stone/Brick  Bamboo/Timber-Light roof   \n",
       "4                   Flat  Mud mortar-Stone/Brick  Bamboo/Timber-Light roof   \n",
       "\n",
       "  ground_floor_type   other_floor_type      position plan_configuration  \\\n",
       "0               Mud  TImber/Bamboo-Mud  Not attached        Rectangular   \n",
       "1               Mud  TImber/Bamboo-Mud  Not attached        Rectangular   \n",
       "2               Mud  TImber/Bamboo-Mud  Not attached        Rectangular   \n",
       "3               Mud     Not applicable  Not attached        Rectangular   \n",
       "4               Mud  TImber/Bamboo-Mud  Not attached        Rectangular   \n",
       "\n",
       "        condition_post_eq technical_solution_proposed     damage.1  \n",
       "0  Damaged-Rubble unclear              Reconstruction  High Damage  \n",
       "1        Damaged-Not used                Major repair  High Damage  \n",
       "2  Damaged-Rubble unclear              Reconstruction  High Damage  \n",
       "3  Damaged-Rubble unclear              Reconstruction  High Damage  \n",
       "4  Damaged-Rubble unclear              Reconstruction  High Damage  "
      ]
     },
     "execution_count": 7,
     "metadata": {},
     "output_type": "execute_result"
    }
   ],
   "source": [
    "building.head()"
   ]
  },
  {
   "cell_type": "code",
   "execution_count": 8,
   "metadata": {},
   "outputs": [
    {
     "name": "stdout",
     "output_type": "stream",
     "text": [
      "<class 'pandas.core.frame.DataFrame'>\n",
      "RangeIndex: 37930 entries, 0 to 37929\n",
      "Data columns (total 17 columns):\n",
      " #   Column                       Non-Null Count  Dtype  \n",
      "---  ------                       --------------  -----  \n",
      " 0   damage                       37930 non-null  object \n",
      " 1   count_floors_pre_eq          37930 non-null  int64  \n",
      " 2   count_floors_post_eq         37930 non-null  int64  \n",
      " 3   age_building                 37930 non-null  int64  \n",
      " 4   plinth_area_sq_ft            37930 non-null  float64\n",
      " 5   height_ft_pre_eq             37930 non-null  float64\n",
      " 6   height_ft_post_eq            37930 non-null  float64\n",
      " 7   land_surface_condition       37930 non-null  object \n",
      " 8   foundation_type              37930 non-null  object \n",
      " 9   roof_type                    37930 non-null  object \n",
      " 10  ground_floor_type            37930 non-null  object \n",
      " 11  other_floor_type             37930 non-null  object \n",
      " 12  position                     37930 non-null  object \n",
      " 13  plan_configuration           37930 non-null  object \n",
      " 14  condition_post_eq            37930 non-null  object \n",
      " 15  technical_solution_proposed  37930 non-null  object \n",
      " 16  damage.1                     37930 non-null  object \n",
      "dtypes: float64(3), int64(3), object(11)\n",
      "memory usage: 4.9+ MB\n"
     ]
    }
   ],
   "source": [
    "building.info()"
   ]
  },
  {
   "cell_type": "code",
   "execution_count": 9,
   "metadata": {},
   "outputs": [],
   "source": [
    "bu = building[[\"age_building\", \"count_floors_pre_eq\", \"plinth_area_sq_ft\",\"height_ft_pre_eq\", \"foundation_type\", \"roof_type\", \"ground_floor_type\",'other_floor_type', \"damage\"]]"
   ]
  },
  {
   "cell_type": "code",
   "execution_count": 10,
   "metadata": {},
   "outputs": [
    {
     "data": {
      "text/html": [
       "<div>\n",
       "<style scoped>\n",
       "    .dataframe tbody tr th:only-of-type {\n",
       "        vertical-align: middle;\n",
       "    }\n",
       "\n",
       "    .dataframe tbody tr th {\n",
       "        vertical-align: top;\n",
       "    }\n",
       "\n",
       "    .dataframe thead th {\n",
       "        text-align: right;\n",
       "    }\n",
       "</style>\n",
       "<table border=\"1\" class=\"dataframe\">\n",
       "  <thead>\n",
       "    <tr style=\"text-align: right;\">\n",
       "      <th></th>\n",
       "      <th>age_building</th>\n",
       "      <th>count_floors_pre_eq</th>\n",
       "      <th>plinth_area_sq_ft</th>\n",
       "      <th>height_ft_pre_eq</th>\n",
       "      <th>foundation_type</th>\n",
       "      <th>roof_type</th>\n",
       "      <th>ground_floor_type</th>\n",
       "      <th>other_floor_type</th>\n",
       "      <th>damage</th>\n",
       "    </tr>\n",
       "  </thead>\n",
       "  <tbody>\n",
       "    <tr>\n",
       "      <th>0</th>\n",
       "      <td>20</td>\n",
       "      <td>2</td>\n",
       "      <td>18.58</td>\n",
       "      <td>3.05</td>\n",
       "      <td>Mud mortar-Stone/Brick</td>\n",
       "      <td>Bamboo/Timber-Light roof</td>\n",
       "      <td>Mud</td>\n",
       "      <td>TImber/Bamboo-Mud</td>\n",
       "      <td>High Damage</td>\n",
       "    </tr>\n",
       "    <tr>\n",
       "      <th>1</th>\n",
       "      <td>13</td>\n",
       "      <td>2</td>\n",
       "      <td>38.65</td>\n",
       "      <td>4.27</td>\n",
       "      <td>Mud mortar-Stone/Brick</td>\n",
       "      <td>Bamboo/Timber-Light roof</td>\n",
       "      <td>Mud</td>\n",
       "      <td>TImber/Bamboo-Mud</td>\n",
       "      <td>High Damage</td>\n",
       "    </tr>\n",
       "    <tr>\n",
       "      <th>2</th>\n",
       "      <td>14</td>\n",
       "      <td>2</td>\n",
       "      <td>51.10</td>\n",
       "      <td>4.27</td>\n",
       "      <td>Mud mortar-Stone/Brick</td>\n",
       "      <td>Bamboo/Timber-Light roof</td>\n",
       "      <td>Mud</td>\n",
       "      <td>TImber/Bamboo-Mud</td>\n",
       "      <td>High Damage</td>\n",
       "    </tr>\n",
       "    <tr>\n",
       "      <th>3</th>\n",
       "      <td>15</td>\n",
       "      <td>1</td>\n",
       "      <td>13.01</td>\n",
       "      <td>2.13</td>\n",
       "      <td>Mud mortar-Stone/Brick</td>\n",
       "      <td>Bamboo/Timber-Light roof</td>\n",
       "      <td>Mud</td>\n",
       "      <td>Not applicable</td>\n",
       "      <td>High Damage</td>\n",
       "    </tr>\n",
       "    <tr>\n",
       "      <th>4</th>\n",
       "      <td>12</td>\n",
       "      <td>2</td>\n",
       "      <td>27.68</td>\n",
       "      <td>3.66</td>\n",
       "      <td>Mud mortar-Stone/Brick</td>\n",
       "      <td>Bamboo/Timber-Light roof</td>\n",
       "      <td>Mud</td>\n",
       "      <td>TImber/Bamboo-Mud</td>\n",
       "      <td>High Damage</td>\n",
       "    </tr>\n",
       "    <tr>\n",
       "      <th>...</th>\n",
       "      <td>...</td>\n",
       "      <td>...</td>\n",
       "      <td>...</td>\n",
       "      <td>...</td>\n",
       "      <td>...</td>\n",
       "      <td>...</td>\n",
       "      <td>...</td>\n",
       "      <td>...</td>\n",
       "      <td>...</td>\n",
       "    </tr>\n",
       "    <tr>\n",
       "      <th>37925</th>\n",
       "      <td>20</td>\n",
       "      <td>2</td>\n",
       "      <td>37.16</td>\n",
       "      <td>3.96</td>\n",
       "      <td>Bamboo/Timber</td>\n",
       "      <td>Bamboo/Timber-Heavy roof</td>\n",
       "      <td>Mud</td>\n",
       "      <td>TImber/Bamboo-Mud</td>\n",
       "      <td>Low Damage</td>\n",
       "    </tr>\n",
       "    <tr>\n",
       "      <th>37926</th>\n",
       "      <td>32</td>\n",
       "      <td>1</td>\n",
       "      <td>39.02</td>\n",
       "      <td>3.05</td>\n",
       "      <td>Mud mortar-Stone/Brick</td>\n",
       "      <td>Bamboo/Timber-Light roof</td>\n",
       "      <td>Mud</td>\n",
       "      <td>Not applicable</td>\n",
       "      <td>Low Damage</td>\n",
       "    </tr>\n",
       "    <tr>\n",
       "      <th>37927</th>\n",
       "      <td>8</td>\n",
       "      <td>4</td>\n",
       "      <td>52.03</td>\n",
       "      <td>9.14</td>\n",
       "      <td>Mud mortar-Stone/Brick</td>\n",
       "      <td>Bamboo/Timber-Light roof</td>\n",
       "      <td>Mud</td>\n",
       "      <td>TImber/Bamboo-Mud</td>\n",
       "      <td>Low Damage</td>\n",
       "    </tr>\n",
       "    <tr>\n",
       "      <th>37928</th>\n",
       "      <td>18</td>\n",
       "      <td>2</td>\n",
       "      <td>27.87</td>\n",
       "      <td>4.27</td>\n",
       "      <td>Mud mortar-Stone/Brick</td>\n",
       "      <td>Bamboo/Timber-Heavy roof</td>\n",
       "      <td>Mud</td>\n",
       "      <td>TImber/Bamboo-Mud</td>\n",
       "      <td>Low Damage</td>\n",
       "    </tr>\n",
       "    <tr>\n",
       "      <th>37929</th>\n",
       "      <td>2</td>\n",
       "      <td>2</td>\n",
       "      <td>25.55</td>\n",
       "      <td>4.88</td>\n",
       "      <td>Mud mortar-Stone/Brick</td>\n",
       "      <td>Bamboo/Timber-Light roof</td>\n",
       "      <td>Mud</td>\n",
       "      <td>TImber/Bamboo-Mud</td>\n",
       "      <td>Low Damage</td>\n",
       "    </tr>\n",
       "  </tbody>\n",
       "</table>\n",
       "<p>37930 rows × 9 columns</p>\n",
       "</div>"
      ],
      "text/plain": [
       "       age_building  count_floors_pre_eq  plinth_area_sq_ft  height_ft_pre_eq  \\\n",
       "0                20                    2              18.58              3.05   \n",
       "1                13                    2              38.65              4.27   \n",
       "2                14                    2              51.10              4.27   \n",
       "3                15                    1              13.01              2.13   \n",
       "4                12                    2              27.68              3.66   \n",
       "...             ...                  ...                ...               ...   \n",
       "37925            20                    2              37.16              3.96   \n",
       "37926            32                    1              39.02              3.05   \n",
       "37927             8                    4              52.03              9.14   \n",
       "37928            18                    2              27.87              4.27   \n",
       "37929             2                    2              25.55              4.88   \n",
       "\n",
       "              foundation_type                 roof_type ground_floor_type  \\\n",
       "0      Mud mortar-Stone/Brick  Bamboo/Timber-Light roof               Mud   \n",
       "1      Mud mortar-Stone/Brick  Bamboo/Timber-Light roof               Mud   \n",
       "2      Mud mortar-Stone/Brick  Bamboo/Timber-Light roof               Mud   \n",
       "3      Mud mortar-Stone/Brick  Bamboo/Timber-Light roof               Mud   \n",
       "4      Mud mortar-Stone/Brick  Bamboo/Timber-Light roof               Mud   \n",
       "...                       ...                       ...               ...   \n",
       "37925           Bamboo/Timber  Bamboo/Timber-Heavy roof               Mud   \n",
       "37926  Mud mortar-Stone/Brick  Bamboo/Timber-Light roof               Mud   \n",
       "37927  Mud mortar-Stone/Brick  Bamboo/Timber-Light roof               Mud   \n",
       "37928  Mud mortar-Stone/Brick  Bamboo/Timber-Heavy roof               Mud   \n",
       "37929  Mud mortar-Stone/Brick  Bamboo/Timber-Light roof               Mud   \n",
       "\n",
       "        other_floor_type       damage  \n",
       "0      TImber/Bamboo-Mud  High Damage  \n",
       "1      TImber/Bamboo-Mud  High Damage  \n",
       "2      TImber/Bamboo-Mud  High Damage  \n",
       "3         Not applicable  High Damage  \n",
       "4      TImber/Bamboo-Mud  High Damage  \n",
       "...                  ...          ...  \n",
       "37925  TImber/Bamboo-Mud   Low Damage  \n",
       "37926     Not applicable   Low Damage  \n",
       "37927  TImber/Bamboo-Mud   Low Damage  \n",
       "37928  TImber/Bamboo-Mud   Low Damage  \n",
       "37929  TImber/Bamboo-Mud   Low Damage  \n",
       "\n",
       "[37930 rows x 9 columns]"
      ]
     },
     "execution_count": 10,
     "metadata": {},
     "output_type": "execute_result"
    }
   ],
   "source": [
    "bu"
   ]
  },
  {
   "cell_type": "code",
   "execution_count": 11,
   "metadata": {},
   "outputs": [],
   "source": [
    "cat_building = [\"foundation_type\", \"roof_type\", \"ground_floor_type\", 'other_floor_type']\n",
    "num_building = [\"age_building\", \"count_floors_pre_eq\", \"plinth_area_sq_ft\",\"height_ft_pre_eq\"]"
   ]
  },
  {
   "cell_type": "code",
   "execution_count": 12,
   "metadata": {},
   "outputs": [
    {
     "name": "stderr",
     "output_type": "stream",
     "text": [
      "<ipython-input-12-5c422f57ed58>:1: SettingWithCopyWarning: \n",
      "A value is trying to be set on a copy of a slice from a DataFrame.\n",
      "Try using .loc[row_indexer,col_indexer] = value instead\n",
      "\n",
      "See the caveats in the documentation: https://pandas.pydata.org/pandas-docs/stable/user_guide/indexing.html#returning-a-view-versus-a-copy\n",
      "  bu['damage'] = bu['damage'].map({'Low Damage' : 0, 'High Damage' : 1})\n"
     ]
    }
   ],
   "source": [
    "bu['damage'] = bu['damage'].map({'Low Damage' : 0, 'High Damage' : 1})"
   ]
  },
  {
   "cell_type": "code",
   "execution_count": 13,
   "metadata": {},
   "outputs": [
    {
     "data": {
      "text/plain": [
       "1    22877\n",
       "0    15053\n",
       "Name: damage, dtype: int64"
      ]
     },
     "execution_count": 13,
     "metadata": {},
     "output_type": "execute_result"
    }
   ],
   "source": [
    "bu['damage'].value_counts()"
   ]
  },
  {
   "cell_type": "code",
   "execution_count": 14,
   "metadata": {},
   "outputs": [
    {
     "data": {
      "text/plain": [
       "1    60.313736\n",
       "0    39.686264\n",
       "Name: damage, dtype: float64"
      ]
     },
     "execution_count": 14,
     "metadata": {},
     "output_type": "execute_result"
    }
   ],
   "source": [
    "bu['damage'].value_counts(normalize=True)*100"
   ]
  },
  {
   "cell_type": "markdown",
   "metadata": {},
   "source": [
    "Dari presentase data High damage dan Low damage, data tersebut sudah cukup balance, sehingga saya tidak akan melakukan resampling"
   ]
  },
  {
   "cell_type": "markdown",
   "metadata": {},
   "source": [
    "## __TRAIN TEST SPLIT__"
   ]
  },
  {
   "cell_type": "code",
   "execution_count": 15,
   "metadata": {},
   "outputs": [],
   "source": [
    "X = bu.drop('damage', axis=1)\n",
    "y = bu['damage']\n",
    "\n",
    "X_train, X_test, y_train, y_test = train_test_split(X, y, stratify=y, test_size =0.2, random_state=1510)"
   ]
  },
  {
   "cell_type": "code",
   "execution_count": 16,
   "metadata": {},
   "outputs": [
    {
     "data": {
      "text/html": [
       "<div>\n",
       "<style scoped>\n",
       "    .dataframe tbody tr th:only-of-type {\n",
       "        vertical-align: middle;\n",
       "    }\n",
       "\n",
       "    .dataframe tbody tr th {\n",
       "        vertical-align: top;\n",
       "    }\n",
       "\n",
       "    .dataframe thead th {\n",
       "        text-align: right;\n",
       "    }\n",
       "</style>\n",
       "<table border=\"1\" class=\"dataframe\">\n",
       "  <thead>\n",
       "    <tr style=\"text-align: right;\">\n",
       "      <th></th>\n",
       "      <th>age_building</th>\n",
       "      <th>count_floors_pre_eq</th>\n",
       "      <th>plinth_area_sq_ft</th>\n",
       "      <th>height_ft_pre_eq</th>\n",
       "      <th>foundation_type</th>\n",
       "      <th>roof_type</th>\n",
       "      <th>ground_floor_type</th>\n",
       "      <th>other_floor_type</th>\n",
       "    </tr>\n",
       "  </thead>\n",
       "  <tbody>\n",
       "    <tr>\n",
       "      <th>14415</th>\n",
       "      <td>70</td>\n",
       "      <td>2</td>\n",
       "      <td>18.39</td>\n",
       "      <td>4.88</td>\n",
       "      <td>Mud mortar-Stone/Brick</td>\n",
       "      <td>Bamboo/Timber-Heavy roof</td>\n",
       "      <td>Mud</td>\n",
       "      <td>TImber/Bamboo-Mud</td>\n",
       "    </tr>\n",
       "    <tr>\n",
       "      <th>11761</th>\n",
       "      <td>25</td>\n",
       "      <td>2</td>\n",
       "      <td>39.95</td>\n",
       "      <td>5.18</td>\n",
       "      <td>Mud mortar-Stone/Brick</td>\n",
       "      <td>Bamboo/Timber-Light roof</td>\n",
       "      <td>Mud</td>\n",
       "      <td>TImber/Bamboo-Mud</td>\n",
       "    </tr>\n",
       "    <tr>\n",
       "      <th>19761</th>\n",
       "      <td>15</td>\n",
       "      <td>3</td>\n",
       "      <td>32.70</td>\n",
       "      <td>6.71</td>\n",
       "      <td>Mud mortar-Stone/Brick</td>\n",
       "      <td>Bamboo/Timber-Light roof</td>\n",
       "      <td>Mud</td>\n",
       "      <td>TImber/Bamboo-Mud</td>\n",
       "    </tr>\n",
       "    <tr>\n",
       "      <th>6003</th>\n",
       "      <td>32</td>\n",
       "      <td>2</td>\n",
       "      <td>59.46</td>\n",
       "      <td>3.66</td>\n",
       "      <td>Mud mortar-Stone/Brick</td>\n",
       "      <td>Bamboo/Timber-Light roof</td>\n",
       "      <td>Mud</td>\n",
       "      <td>TImber/Bamboo-Mud</td>\n",
       "    </tr>\n",
       "    <tr>\n",
       "      <th>7903</th>\n",
       "      <td>10</td>\n",
       "      <td>2</td>\n",
       "      <td>46.82</td>\n",
       "      <td>5.49</td>\n",
       "      <td>Mud mortar-Stone/Brick</td>\n",
       "      <td>Bamboo/Timber-Light roof</td>\n",
       "      <td>Mud</td>\n",
       "      <td>TImber/Bamboo-Mud</td>\n",
       "    </tr>\n",
       "  </tbody>\n",
       "</table>\n",
       "</div>"
      ],
      "text/plain": [
       "       age_building  count_floors_pre_eq  plinth_area_sq_ft  height_ft_pre_eq  \\\n",
       "14415            70                    2              18.39              4.88   \n",
       "11761            25                    2              39.95              5.18   \n",
       "19761            15                    3              32.70              6.71   \n",
       "6003             32                    2              59.46              3.66   \n",
       "7903             10                    2              46.82              5.49   \n",
       "\n",
       "              foundation_type                 roof_type ground_floor_type  \\\n",
       "14415  Mud mortar-Stone/Brick  Bamboo/Timber-Heavy roof               Mud   \n",
       "11761  Mud mortar-Stone/Brick  Bamboo/Timber-Light roof               Mud   \n",
       "19761  Mud mortar-Stone/Brick  Bamboo/Timber-Light roof               Mud   \n",
       "6003   Mud mortar-Stone/Brick  Bamboo/Timber-Light roof               Mud   \n",
       "7903   Mud mortar-Stone/Brick  Bamboo/Timber-Light roof               Mud   \n",
       "\n",
       "        other_floor_type  \n",
       "14415  TImber/Bamboo-Mud  \n",
       "11761  TImber/Bamboo-Mud  \n",
       "19761  TImber/Bamboo-Mud  \n",
       "6003   TImber/Bamboo-Mud  \n",
       "7903   TImber/Bamboo-Mud  "
      ]
     },
     "execution_count": 16,
     "metadata": {},
     "output_type": "execute_result"
    }
   ],
   "source": [
    "X_train.head()"
   ]
  },
  {
   "cell_type": "code",
   "execution_count": 17,
   "metadata": {},
   "outputs": [
    {
     "data": {
      "text/html": [
       "<div>\n",
       "<style scoped>\n",
       "    .dataframe tbody tr th:only-of-type {\n",
       "        vertical-align: middle;\n",
       "    }\n",
       "\n",
       "    .dataframe tbody tr th {\n",
       "        vertical-align: top;\n",
       "    }\n",
       "\n",
       "    .dataframe thead th {\n",
       "        text-align: right;\n",
       "    }\n",
       "</style>\n",
       "<table border=\"1\" class=\"dataframe\">\n",
       "  <thead>\n",
       "    <tr style=\"text-align: right;\">\n",
       "      <th></th>\n",
       "      <th>age_building</th>\n",
       "      <th>count_floors_pre_eq</th>\n",
       "      <th>plinth_area_sq_ft</th>\n",
       "      <th>height_ft_pre_eq</th>\n",
       "      <th>foundation_type</th>\n",
       "      <th>roof_type</th>\n",
       "      <th>ground_floor_type</th>\n",
       "      <th>other_floor_type</th>\n",
       "    </tr>\n",
       "  </thead>\n",
       "  <tbody>\n",
       "    <tr>\n",
       "      <th>12974</th>\n",
       "      <td>20</td>\n",
       "      <td>1</td>\n",
       "      <td>32.52</td>\n",
       "      <td>4.57</td>\n",
       "      <td>Bamboo/Timber</td>\n",
       "      <td>Bamboo/Timber-Heavy roof</td>\n",
       "      <td>Mud</td>\n",
       "      <td>Not applicable</td>\n",
       "    </tr>\n",
       "    <tr>\n",
       "      <th>16644</th>\n",
       "      <td>25</td>\n",
       "      <td>1</td>\n",
       "      <td>63.64</td>\n",
       "      <td>3.05</td>\n",
       "      <td>Mud mortar-Stone/Brick</td>\n",
       "      <td>Bamboo/Timber-Light roof</td>\n",
       "      <td>Mud</td>\n",
       "      <td>Not applicable</td>\n",
       "    </tr>\n",
       "    <tr>\n",
       "      <th>12651</th>\n",
       "      <td>32</td>\n",
       "      <td>3</td>\n",
       "      <td>86.96</td>\n",
       "      <td>10.97</td>\n",
       "      <td>Cement-Stone/Brick</td>\n",
       "      <td>RCC/RB/RBC</td>\n",
       "      <td>Brick/Stone</td>\n",
       "      <td>Timber-Planck</td>\n",
       "    </tr>\n",
       "    <tr>\n",
       "      <th>8368</th>\n",
       "      <td>3</td>\n",
       "      <td>2</td>\n",
       "      <td>42.92</td>\n",
       "      <td>6.40</td>\n",
       "      <td>Mud mortar-Stone/Brick</td>\n",
       "      <td>Bamboo/Timber-Light roof</td>\n",
       "      <td>Mud</td>\n",
       "      <td>Timber-Planck</td>\n",
       "    </tr>\n",
       "    <tr>\n",
       "      <th>36684</th>\n",
       "      <td>8</td>\n",
       "      <td>1</td>\n",
       "      <td>27.87</td>\n",
       "      <td>2.74</td>\n",
       "      <td>Mud mortar-Stone/Brick</td>\n",
       "      <td>Bamboo/Timber-Light roof</td>\n",
       "      <td>RC</td>\n",
       "      <td>Not applicable</td>\n",
       "    </tr>\n",
       "  </tbody>\n",
       "</table>\n",
       "</div>"
      ],
      "text/plain": [
       "       age_building  count_floors_pre_eq  plinth_area_sq_ft  height_ft_pre_eq  \\\n",
       "12974            20                    1              32.52              4.57   \n",
       "16644            25                    1              63.64              3.05   \n",
       "12651            32                    3              86.96             10.97   \n",
       "8368              3                    2              42.92              6.40   \n",
       "36684             8                    1              27.87              2.74   \n",
       "\n",
       "              foundation_type                 roof_type ground_floor_type  \\\n",
       "12974           Bamboo/Timber  Bamboo/Timber-Heavy roof               Mud   \n",
       "16644  Mud mortar-Stone/Brick  Bamboo/Timber-Light roof               Mud   \n",
       "12651      Cement-Stone/Brick                RCC/RB/RBC       Brick/Stone   \n",
       "8368   Mud mortar-Stone/Brick  Bamboo/Timber-Light roof               Mud   \n",
       "36684  Mud mortar-Stone/Brick  Bamboo/Timber-Light roof                RC   \n",
       "\n",
       "      other_floor_type  \n",
       "12974   Not applicable  \n",
       "16644   Not applicable  \n",
       "12651    Timber-Planck  \n",
       "8368     Timber-Planck  \n",
       "36684   Not applicable  "
      ]
     },
     "execution_count": 17,
     "metadata": {},
     "output_type": "execute_result"
    }
   ],
   "source": [
    "X_test.head()"
   ]
  },
  {
   "cell_type": "code",
   "execution_count": 18,
   "metadata": {},
   "outputs": [
    {
     "data": {
      "text/plain": [
       "12974    1\n",
       "16644    1\n",
       "12651    1\n",
       "8368     1\n",
       "36684    0\n",
       "Name: damage, dtype: int64"
      ]
     },
     "execution_count": 18,
     "metadata": {},
     "output_type": "execute_result"
    }
   ],
   "source": [
    "y_test.head()"
   ]
  },
  {
   "cell_type": "code",
   "execution_count": 19,
   "metadata": {},
   "outputs": [],
   "source": [
    "knn = KNeighborsClassifier()\n",
    "dtc = DecisionTreeClassifier()\n",
    "rfc = RandomForestClassifier()"
   ]
  },
  {
   "cell_type": "markdown",
   "metadata": {},
   "source": [
    "Untuk pemilihan modeling, saya memilih 3 yaitu KNN, Decision Tree dan Random forest"
   ]
  },
  {
   "cell_type": "markdown",
   "metadata": {},
   "source": [
    "## __K NEAREST NEIGHBORS__"
   ]
  },
  {
   "cell_type": "code",
   "execution_count": 20,
   "metadata": {},
   "outputs": [],
   "source": [
    "knn_pipe_num = Pipeline([\n",
    "    ('scaler', RobustScaler()),\n",
    "])\n",
    "\n",
    "# for all object columns\n",
    "knn_pipe_cat = Pipeline([\n",
    "    ('encoder', OneHotEncoder(drop='first')),\n",
    "])\n",
    "\n",
    "# transforming all columns\n",
    "knn_transformer = ColumnTransformer([\n",
    "    ('pipe_numeric', knn_pipe_num, num_building),\n",
    "    ('pipe_cat', knn_pipe_cat, cat_building)\n",
    "])\n",
    "\n",
    "# combine all pipeline\n",
    "knn_pipe = Pipeline([\n",
    "    ('transformer', knn_transformer),\n",
    "    ('knn', knn)\n",
    "])"
   ]
  },
  {
   "cell_type": "code",
   "execution_count": 21,
   "metadata": {},
   "outputs": [
    {
     "data": {
      "text/plain": [
       "Pipeline(steps=[('transformer',\n",
       "                 ColumnTransformer(transformers=[('pipe_numeric',\n",
       "                                                  Pipeline(steps=[('scaler',\n",
       "                                                                   RobustScaler())]),\n",
       "                                                  ['age_building',\n",
       "                                                   'count_floors_pre_eq',\n",
       "                                                   'plinth_area_sq_ft',\n",
       "                                                   'height_ft_pre_eq']),\n",
       "                                                 ('pipe_cat',\n",
       "                                                  Pipeline(steps=[('encoder',\n",
       "                                                                   OneHotEncoder(drop='first'))]),\n",
       "                                                  ['foundation_type',\n",
       "                                                   'roof_type',\n",
       "                                                   'ground_floor_type',\n",
       "                                                   'other_floor_type'])])),\n",
       "                ('knn', KNeighborsClassifier())])"
      ]
     },
     "execution_count": 21,
     "metadata": {},
     "output_type": "execute_result"
    }
   ],
   "source": [
    "knn_pipe.fit(X_train, y_train)"
   ]
  },
  {
   "cell_type": "markdown",
   "metadata": {},
   "source": [
    "## __DECISION TREE CLASSIFICATION__"
   ]
  },
  {
   "cell_type": "code",
   "execution_count": 22,
   "metadata": {},
   "outputs": [],
   "source": [
    "dtc_pipe_num = Pipeline([\n",
    "    ('scaler', RobustScaler()),\n",
    "])\n",
    "\n",
    "# for all object columns\n",
    "dtc_pipe_cat = Pipeline([\n",
    "    ('encoder', OneHotEncoder(drop='first')),\n",
    "])\n",
    "\n",
    "# transforming all columns\n",
    "dtc_transformer = ColumnTransformer([\n",
    "    ('pipe_numeric', dtc_pipe_num, num_building),\n",
    "    ('pipe_cat', dtc_pipe_cat, cat_building)\n",
    "])\n",
    "\n",
    "# combine all pipeline\n",
    "dtc_pipe = Pipeline([\n",
    "    ('transformer', dtc_transformer),\n",
    "    ('dtc', dtc)\n",
    "])"
   ]
  },
  {
   "cell_type": "code",
   "execution_count": 23,
   "metadata": {},
   "outputs": [
    {
     "data": {
      "text/plain": [
       "Pipeline(steps=[('transformer',\n",
       "                 ColumnTransformer(transformers=[('pipe_numeric',\n",
       "                                                  Pipeline(steps=[('scaler',\n",
       "                                                                   RobustScaler())]),\n",
       "                                                  ['age_building',\n",
       "                                                   'count_floors_pre_eq',\n",
       "                                                   'plinth_area_sq_ft',\n",
       "                                                   'height_ft_pre_eq']),\n",
       "                                                 ('pipe_cat',\n",
       "                                                  Pipeline(steps=[('encoder',\n",
       "                                                                   OneHotEncoder(drop='first'))]),\n",
       "                                                  ['foundation_type',\n",
       "                                                   'roof_type',\n",
       "                                                   'ground_floor_type',\n",
       "                                                   'other_floor_type'])])),\n",
       "                ('dtc', DecisionTreeClassifier())])"
      ]
     },
     "execution_count": 23,
     "metadata": {},
     "output_type": "execute_result"
    }
   ],
   "source": [
    "dtc_pipe.fit(X_train, y_train)"
   ]
  },
  {
   "cell_type": "markdown",
   "metadata": {},
   "source": [
    "## __RANDOM FOREST CLASSIFICATION__"
   ]
  },
  {
   "cell_type": "code",
   "execution_count": 24,
   "metadata": {},
   "outputs": [],
   "source": [
    "rfc_pipe_num = Pipeline([\n",
    "    ('scaler', RobustScaler()),\n",
    "])\n",
    "\n",
    "# for all object columns\n",
    "rfc_pipe_cat = Pipeline([\n",
    "    ('encoder', OneHotEncoder(drop='first')),\n",
    "])\n",
    "\n",
    "# transforming all columns\n",
    "rfc_transformer = ColumnTransformer([\n",
    "    ('pipe_numeric', rfc_pipe_num, num_building),\n",
    "    ('pipe_cat', rfc_pipe_cat, cat_building)\n",
    "])\n",
    "\n",
    "# combine all pipeline\n",
    "rfc_pipe = Pipeline([\n",
    "    ('transformer', rfc_transformer),\n",
    "    ('rfc', rfc)\n",
    "])"
   ]
  },
  {
   "cell_type": "code",
   "execution_count": 25,
   "metadata": {},
   "outputs": [
    {
     "data": {
      "text/plain": [
       "Pipeline(steps=[('transformer',\n",
       "                 ColumnTransformer(transformers=[('pipe_numeric',\n",
       "                                                  Pipeline(steps=[('scaler',\n",
       "                                                                   RobustScaler())]),\n",
       "                                                  ['age_building',\n",
       "                                                   'count_floors_pre_eq',\n",
       "                                                   'plinth_area_sq_ft',\n",
       "                                                   'height_ft_pre_eq']),\n",
       "                                                 ('pipe_cat',\n",
       "                                                  Pipeline(steps=[('encoder',\n",
       "                                                                   OneHotEncoder(drop='first'))]),\n",
       "                                                  ['foundation_type',\n",
       "                                                   'roof_type',\n",
       "                                                   'ground_floor_type',\n",
       "                                                   'other_floor_type'])])),\n",
       "                ('rfc', RandomForestClassifier())])"
      ]
     },
     "execution_count": 25,
     "metadata": {},
     "output_type": "execute_result"
    }
   ],
   "source": [
    "rfc_pipe.fit(X_train, y_train)"
   ]
  },
  {
   "cell_type": "markdown",
   "metadata": {},
   "source": [
    "## __CROSS VALIDATION SCORE__"
   ]
  },
  {
   "cell_type": "code",
   "execution_count": 26,
   "metadata": {},
   "outputs": [
    {
     "name": "stderr",
     "output_type": "stream",
     "text": [
      "[Parallel(n_jobs=-1)]: Using backend LokyBackend with 8 concurrent workers.\n",
      "[Parallel(n_jobs=-1)]: Done   2 out of   5 | elapsed:    3.4s remaining:    5.1s\n",
      "[Parallel(n_jobs=-1)]: Done   5 out of   5 | elapsed:    3.4s finished\n",
      "[Parallel(n_jobs=-1)]: Using backend LokyBackend with 8 concurrent workers.\n",
      "[Parallel(n_jobs=-1)]: Done   2 out of   5 | elapsed:    0.4s remaining:    0.6s\n",
      "[Parallel(n_jobs=-1)]: Done   5 out of   5 | elapsed:    1.6s finished\n",
      "[Parallel(n_jobs=-1)]: Using backend LokyBackend with 8 concurrent workers.\n",
      "[Parallel(n_jobs=-1)]: Done   2 out of   5 | elapsed:    4.1s remaining:    6.1s\n",
      "[Parallel(n_jobs=-1)]: Done   5 out of   5 | elapsed:    4.1s finished\n"
     ]
    }
   ],
   "source": [
    "skfold = StratifiedKFold(n_splits=5, random_state=1510, shuffle=True)\n",
    "\n",
    "knn_score = cross_val_score(knn_pipe, X_train, y_train, scoring='recall', cv=skfold, n_jobs=-1, verbose=1)\n",
    "dtc_score = cross_val_score(dtc_pipe, X_train, y_train, scoring='recall', cv=skfold, n_jobs=-1, verbose=1)\n",
    "rfc_score = cross_val_score(rfc_pipe, X_train, y_train, scoring='recall', cv=skfold, n_jobs=-1, verbose=1)"
   ]
  },
  {
   "cell_type": "markdown",
   "metadata": {},
   "source": [
    "Pada kasus ini saya fokus untuk menekan hasil predik low damage tetapi actualnya adalah high damage, sehingga saya menekan FN, oleh karena itu saya fokus di score recall"
   ]
  },
  {
   "cell_type": "code",
   "execution_count": 27,
   "metadata": {},
   "outputs": [
    {
     "name": "stdout",
     "output_type": "stream",
     "text": [
      "KNN Val Score: [0.80469817 0.80469817 0.8        0.79644809 0.80546448]\n",
      "DTC Val Score: [0.67822999 0.67304015 0.69071038 0.66202186 0.66748634]\n",
      "RFC Val Score: [0.77984157 0.78530456 0.78961749 0.78934426 0.78442623]\n"
     ]
    }
   ],
   "source": [
    "print('KNN Val Score:', knn_score)\n",
    "print('DTC Val Score:', dtc_score)\n",
    "print('RFC Val Score:', rfc_score)"
   ]
  },
  {
   "cell_type": "code",
   "execution_count": 28,
   "metadata": {},
   "outputs": [
    {
     "name": "stdout",
     "output_type": "stream",
     "text": [
      "KNN Val Score: 0.8022617816207761\n",
      "DTC Val Score: 0.6742977448008323\n",
      "RFC Val Score: 0.7857068226155773\n"
     ]
    }
   ],
   "source": [
    "print('KNN Val Score:', knn_score.mean())\n",
    "print('DTC Val Score:', dtc_score.mean())\n",
    "print('RFC Val Score:', rfc_score.mean())"
   ]
  },
  {
   "cell_type": "code",
   "execution_count": 29,
   "metadata": {},
   "outputs": [
    {
     "data": {
      "text/html": [
       "<div>\n",
       "<style scoped>\n",
       "    .dataframe tbody tr th:only-of-type {\n",
       "        vertical-align: middle;\n",
       "    }\n",
       "\n",
       "    .dataframe tbody tr th {\n",
       "        vertical-align: top;\n",
       "    }\n",
       "\n",
       "    .dataframe thead th {\n",
       "        text-align: right;\n",
       "    }\n",
       "</style>\n",
       "<table border=\"1\" class=\"dataframe\">\n",
       "  <thead>\n",
       "    <tr style=\"text-align: right;\">\n",
       "      <th></th>\n",
       "      <th>KNearest Neighbors</th>\n",
       "      <th>Decision Tree CV Score</th>\n",
       "      <th>Random Forest CV Score</th>\n",
       "    </tr>\n",
       "  </thead>\n",
       "  <tbody>\n",
       "    <tr>\n",
       "      <th>0</th>\n",
       "      <td>0.802262</td>\n",
       "      <td>0.674298</td>\n",
       "      <td>0.785707</td>\n",
       "    </tr>\n",
       "  </tbody>\n",
       "</table>\n",
       "</div>"
      ],
      "text/plain": [
       "   KNearest Neighbors  Decision Tree CV Score  Random Forest CV Score\n",
       "0            0.802262                0.674298                0.785707"
      ]
     },
     "execution_count": 29,
     "metadata": {},
     "output_type": "execute_result"
    }
   ],
   "source": [
    "dtcs = dtc_score.mean()\n",
    "rfcs = rfc_score.mean()\n",
    "kncs = knn_score.mean()\n",
    "df = pd.DataFrame({'KNearest Neighbors': [kncs], 'Decision Tree CV Score': [dtcs], 'Random Forest CV Score': [rfcs]})\n",
    "df"
   ]
  },
  {
   "cell_type": "markdown",
   "metadata": {},
   "source": [
    "Perbandingan nilai CV score sebelum dilakukan hyperparameter tunning antara 3 model ini terlihat KNN bernilai paling besar, yakni 0.802"
   ]
  },
  {
   "cell_type": "markdown",
   "metadata": {},
   "source": [
    "## __HYPERPARAMETER TUNNING__"
   ]
  },
  {
   "cell_type": "markdown",
   "metadata": {},
   "source": [
    "> ## KNN HYPERPARAM"
   ]
  },
  {
   "cell_type": "code",
   "execution_count": 30,
   "metadata": {},
   "outputs": [
    {
     "data": {
      "text/plain": [
       "{'memory': None,\n",
       " 'steps': [('transformer',\n",
       "   ColumnTransformer(transformers=[('pipe_numeric',\n",
       "                                    Pipeline(steps=[('scaler', RobustScaler())]),\n",
       "                                    ['age_building', 'count_floors_pre_eq',\n",
       "                                     'plinth_area_sq_ft', 'height_ft_pre_eq']),\n",
       "                                   ('pipe_cat',\n",
       "                                    Pipeline(steps=[('encoder',\n",
       "                                                     OneHotEncoder(drop='first'))]),\n",
       "                                    ['foundation_type', 'roof_type',\n",
       "                                     'ground_floor_type', 'other_floor_type'])])),\n",
       "  ('knn', KNeighborsClassifier())],\n",
       " 'verbose': False,\n",
       " 'transformer': ColumnTransformer(transformers=[('pipe_numeric',\n",
       "                                  Pipeline(steps=[('scaler', RobustScaler())]),\n",
       "                                  ['age_building', 'count_floors_pre_eq',\n",
       "                                   'plinth_area_sq_ft', 'height_ft_pre_eq']),\n",
       "                                 ('pipe_cat',\n",
       "                                  Pipeline(steps=[('encoder',\n",
       "                                                   OneHotEncoder(drop='first'))]),\n",
       "                                  ['foundation_type', 'roof_type',\n",
       "                                   'ground_floor_type', 'other_floor_type'])]),\n",
       " 'knn': KNeighborsClassifier(),\n",
       " 'transformer__n_jobs': None,\n",
       " 'transformer__remainder': 'drop',\n",
       " 'transformer__sparse_threshold': 0.3,\n",
       " 'transformer__transformer_weights': None,\n",
       " 'transformer__transformers': [('pipe_numeric',\n",
       "   Pipeline(steps=[('scaler', RobustScaler())]),\n",
       "   ['age_building',\n",
       "    'count_floors_pre_eq',\n",
       "    'plinth_area_sq_ft',\n",
       "    'height_ft_pre_eq']),\n",
       "  ('pipe_cat',\n",
       "   Pipeline(steps=[('encoder', OneHotEncoder(drop='first'))]),\n",
       "   ['foundation_type', 'roof_type', 'ground_floor_type', 'other_floor_type'])],\n",
       " 'transformer__verbose': False,\n",
       " 'transformer__pipe_numeric': Pipeline(steps=[('scaler', RobustScaler())]),\n",
       " 'transformer__pipe_cat': Pipeline(steps=[('encoder', OneHotEncoder(drop='first'))]),\n",
       " 'transformer__pipe_numeric__memory': None,\n",
       " 'transformer__pipe_numeric__steps': [('scaler', RobustScaler())],\n",
       " 'transformer__pipe_numeric__verbose': False,\n",
       " 'transformer__pipe_numeric__scaler': RobustScaler(),\n",
       " 'transformer__pipe_numeric__scaler__copy': True,\n",
       " 'transformer__pipe_numeric__scaler__quantile_range': (25.0, 75.0),\n",
       " 'transformer__pipe_numeric__scaler__with_centering': True,\n",
       " 'transformer__pipe_numeric__scaler__with_scaling': True,\n",
       " 'transformer__pipe_cat__memory': None,\n",
       " 'transformer__pipe_cat__steps': [('encoder', OneHotEncoder(drop='first'))],\n",
       " 'transformer__pipe_cat__verbose': False,\n",
       " 'transformer__pipe_cat__encoder': OneHotEncoder(drop='first'),\n",
       " 'transformer__pipe_cat__encoder__categories': 'auto',\n",
       " 'transformer__pipe_cat__encoder__drop': 'first',\n",
       " 'transformer__pipe_cat__encoder__dtype': numpy.float64,\n",
       " 'transformer__pipe_cat__encoder__handle_unknown': 'error',\n",
       " 'transformer__pipe_cat__encoder__sparse': True,\n",
       " 'knn__algorithm': 'auto',\n",
       " 'knn__leaf_size': 30,\n",
       " 'knn__metric': 'minkowski',\n",
       " 'knn__metric_params': None,\n",
       " 'knn__n_jobs': None,\n",
       " 'knn__n_neighbors': 5,\n",
       " 'knn__p': 2,\n",
       " 'knn__weights': 'uniform'}"
      ]
     },
     "execution_count": 30,
     "metadata": {},
     "output_type": "execute_result"
    }
   ],
   "source": [
    "knn_pipe.get_params()"
   ]
  },
  {
   "cell_type": "code",
   "execution_count": 31,
   "metadata": {},
   "outputs": [
    {
     "data": {
      "text/plain": [
       "dict_keys(['memory', 'steps', 'verbose', 'transformer', 'knn', 'transformer__n_jobs', 'transformer__remainder', 'transformer__sparse_threshold', 'transformer__transformer_weights', 'transformer__transformers', 'transformer__verbose', 'transformer__pipe_numeric', 'transformer__pipe_cat', 'transformer__pipe_numeric__memory', 'transformer__pipe_numeric__steps', 'transformer__pipe_numeric__verbose', 'transformer__pipe_numeric__scaler', 'transformer__pipe_numeric__scaler__copy', 'transformer__pipe_numeric__scaler__quantile_range', 'transformer__pipe_numeric__scaler__with_centering', 'transformer__pipe_numeric__scaler__with_scaling', 'transformer__pipe_cat__memory', 'transformer__pipe_cat__steps', 'transformer__pipe_cat__verbose', 'transformer__pipe_cat__encoder', 'transformer__pipe_cat__encoder__categories', 'transformer__pipe_cat__encoder__drop', 'transformer__pipe_cat__encoder__dtype', 'transformer__pipe_cat__encoder__handle_unknown', 'transformer__pipe_cat__encoder__sparse', 'knn__algorithm', 'knn__leaf_size', 'knn__metric', 'knn__metric_params', 'knn__n_jobs', 'knn__n_neighbors', 'knn__p', 'knn__weights'])"
      ]
     },
     "execution_count": 31,
     "metadata": {},
     "output_type": "execute_result"
    }
   ],
   "source": [
    "knn_pipe.get_params().keys()"
   ]
  },
  {
   "cell_type": "code",
   "execution_count": 32,
   "metadata": {},
   "outputs": [],
   "source": [
    "knn_param = {'knn__n_neighbors': [5, 10, 20, 30, 40 ,50, 60 ,70, 80, 90, 100, 110, 120, 130], \n",
    "             'knn__p': [1,2], \n",
    "             'knn__leaf_size': [10, 20, 30, 40, 50, 60, 70, 80, 90, 100]}\n",
    "\n",
    "knn_tuned = GridSearchCV(estimator=knn_pipe,\n",
    "                          param_grid=knn_param, \n",
    "                          cv=skfold,\n",
    "                          n_jobs=-1,\n",
    "                          scoring='recall',\n",
    "                          verbose=1\n",
    "                          )"
   ]
  },
  {
   "cell_type": "code",
   "execution_count": 33,
   "metadata": {},
   "outputs": [
    {
     "name": "stdout",
     "output_type": "stream",
     "text": [
      "Fitting 5 folds for each of 280 candidates, totalling 1400 fits\n"
     ]
    },
    {
     "name": "stderr",
     "output_type": "stream",
     "text": [
      "[Parallel(n_jobs=-1)]: Using backend LokyBackend with 8 concurrent workers.\n",
      "[Parallel(n_jobs=-1)]: Done  34 tasks      | elapsed:   11.1s\n",
      "[Parallel(n_jobs=-1)]: Done 184 tasks      | elapsed:  1.4min\n",
      "[Parallel(n_jobs=-1)]: Done 434 tasks      | elapsed:  3.7min\n",
      "[Parallel(n_jobs=-1)]: Done 784 tasks      | elapsed:  6.9min\n",
      "[Parallel(n_jobs=-1)]: Done 1234 tasks      | elapsed: 11.4min\n",
      "[Parallel(n_jobs=-1)]: Done 1400 out of 1400 | elapsed: 13.2min finished\n"
     ]
    },
    {
     "data": {
      "text/plain": [
       "GridSearchCV(cv=StratifiedKFold(n_splits=5, random_state=1510, shuffle=True),\n",
       "             estimator=Pipeline(steps=[('transformer',\n",
       "                                        ColumnTransformer(transformers=[('pipe_numeric',\n",
       "                                                                         Pipeline(steps=[('scaler',\n",
       "                                                                                          RobustScaler())]),\n",
       "                                                                         ['age_building',\n",
       "                                                                          'count_floors_pre_eq',\n",
       "                                                                          'plinth_area_sq_ft',\n",
       "                                                                          'height_ft_pre_eq']),\n",
       "                                                                        ('pipe_cat',\n",
       "                                                                         Pipeline(steps=[('encoder',\n",
       "                                                                                          OneHotEncoder(drop='first'))]),\n",
       "                                                                         ['foundation_type',\n",
       "                                                                          'roof_type',\n",
       "                                                                          'ground_floor_type',\n",
       "                                                                          'other_floor_type'])])),\n",
       "                                       ('knn', KNeighborsClassifier())]),\n",
       "             n_jobs=-1,\n",
       "             param_grid={'knn__leaf_size': [10, 20, 30, 40, 50, 60, 70, 80, 90,\n",
       "                                            100],\n",
       "                         'knn__n_neighbors': [5, 10, 20, 30, 40, 50, 60, 70, 80,\n",
       "                                              90, 100, 110, 120, 130],\n",
       "                         'knn__p': [1, 2]},\n",
       "             scoring='recall', verbose=1)"
      ]
     },
     "execution_count": 33,
     "metadata": {},
     "output_type": "execute_result"
    }
   ],
   "source": [
    "knn_tuned.fit(X_train, y_train)"
   ]
  },
  {
   "cell_type": "code",
   "execution_count": 34,
   "metadata": {},
   "outputs": [
    {
     "data": {
      "text/plain": [
       "{'knn__leaf_size': 20, 'knn__n_neighbors': 130, 'knn__p': 1}"
      ]
     },
     "execution_count": 34,
     "metadata": {},
     "output_type": "execute_result"
    }
   ],
   "source": [
    "knn_tuned.best_params_"
   ]
  },
  {
   "cell_type": "code",
   "execution_count": 35,
   "metadata": {},
   "outputs": [],
   "source": [
    "knn_tun = knn_tuned.best_estimator_"
   ]
  },
  {
   "cell_type": "code",
   "execution_count": 36,
   "metadata": {},
   "outputs": [
    {
     "data": {
      "text/plain": [
       "Pipeline(steps=[('transformer',\n",
       "                 ColumnTransformer(transformers=[('pipe_numeric',\n",
       "                                                  Pipeline(steps=[('scaler',\n",
       "                                                                   RobustScaler())]),\n",
       "                                                  ['age_building',\n",
       "                                                   'count_floors_pre_eq',\n",
       "                                                   'plinth_area_sq_ft',\n",
       "                                                   'height_ft_pre_eq']),\n",
       "                                                 ('pipe_cat',\n",
       "                                                  Pipeline(steps=[('encoder',\n",
       "                                                                   OneHotEncoder(drop='first'))]),\n",
       "                                                  ['foundation_type',\n",
       "                                                   'roof_type',\n",
       "                                                   'ground_floor_type',\n",
       "                                                   'other_floor_type'])])),\n",
       "                ('knn',\n",
       "                 KNeighborsClassifier(leaf_size=20, n_neighbors=130, p=1))])"
      ]
     },
     "execution_count": 36,
     "metadata": {},
     "output_type": "execute_result"
    }
   ],
   "source": [
    "knn_tun"
   ]
  },
  {
   "cell_type": "code",
   "execution_count": 37,
   "metadata": {},
   "outputs": [
    {
     "name": "stderr",
     "output_type": "stream",
     "text": [
      "[Parallel(n_jobs=-1)]: Using backend LokyBackend with 8 concurrent workers.\n",
      "[Parallel(n_jobs=-1)]: Done   2 out of   5 | elapsed:    5.1s remaining:    7.7s\n",
      "[Parallel(n_jobs=-1)]: Done   5 out of   5 | elapsed:    5.2s finished\n"
     ]
    },
    {
     "data": {
      "text/plain": [
       "array([0.93963398, 0.93280524, 0.9363388 , 0.93442623, 0.93825137])"
      ]
     },
     "execution_count": 37,
     "metadata": {},
     "output_type": "execute_result"
    }
   ],
   "source": [
    "knn_tuned_score = cross_val_score(knn_tun, X_train, y_train, scoring='recall', cv=skfold, n_jobs=-1, verbose=1)\n",
    "knn_tuned_score"
   ]
  },
  {
   "cell_type": "code",
   "execution_count": 38,
   "metadata": {},
   "outputs": [
    {
     "name": "stdout",
     "output_type": "stream",
     "text": [
      "0.936291123539658\n"
     ]
    }
   ],
   "source": [
    "print(knn_tuned_score.mean())"
   ]
  },
  {
   "cell_type": "markdown",
   "metadata": {},
   "source": [
    "> ## DTC HYPERPARAM"
   ]
  },
  {
   "cell_type": "code",
   "execution_count": 39,
   "metadata": {},
   "outputs": [
    {
     "data": {
      "text/plain": [
       "dict_keys(['memory', 'steps', 'verbose', 'transformer', 'dtc', 'transformer__n_jobs', 'transformer__remainder', 'transformer__sparse_threshold', 'transformer__transformer_weights', 'transformer__transformers', 'transformer__verbose', 'transformer__pipe_numeric', 'transformer__pipe_cat', 'transformer__pipe_numeric__memory', 'transformer__pipe_numeric__steps', 'transformer__pipe_numeric__verbose', 'transformer__pipe_numeric__scaler', 'transformer__pipe_numeric__scaler__copy', 'transformer__pipe_numeric__scaler__quantile_range', 'transformer__pipe_numeric__scaler__with_centering', 'transformer__pipe_numeric__scaler__with_scaling', 'transformer__pipe_cat__memory', 'transformer__pipe_cat__steps', 'transformer__pipe_cat__verbose', 'transformer__pipe_cat__encoder', 'transformer__pipe_cat__encoder__categories', 'transformer__pipe_cat__encoder__drop', 'transformer__pipe_cat__encoder__dtype', 'transformer__pipe_cat__encoder__handle_unknown', 'transformer__pipe_cat__encoder__sparse', 'dtc__ccp_alpha', 'dtc__class_weight', 'dtc__criterion', 'dtc__max_depth', 'dtc__max_features', 'dtc__max_leaf_nodes', 'dtc__min_impurity_decrease', 'dtc__min_impurity_split', 'dtc__min_samples_leaf', 'dtc__min_samples_split', 'dtc__min_weight_fraction_leaf', 'dtc__presort', 'dtc__random_state', 'dtc__splitter'])"
      ]
     },
     "execution_count": 39,
     "metadata": {},
     "output_type": "execute_result"
    }
   ],
   "source": [
    "dtc_pipe.get_params().keys()"
   ]
  },
  {
   "cell_type": "code",
   "execution_count": 40,
   "metadata": {},
   "outputs": [],
   "source": [
    "dtc_param = {\n",
    "    'dtc__criterion': ['gini', 'entropy'],\n",
    "    'dtc__max_depth':[5,10,15,20,25,30],\n",
    "    'dtc__min_samples_split':[2,5,10],\n",
    "    'dtc__min_samples_leaf':[1,2,5,7],\n",
    "}\n",
    "\n",
    "dtc_tuned = GridSearchCV(estimator=dtc_pipe, \n",
    "                            param_grid=dtc_param, \n",
    "                            cv=skfold, \n",
    "                            n_jobs=-1, \n",
    "                            scoring='recall',\n",
    "                           verbose=1)"
   ]
  },
  {
   "cell_type": "code",
   "execution_count": 41,
   "metadata": {},
   "outputs": [
    {
     "name": "stdout",
     "output_type": "stream",
     "text": [
      "Fitting 5 folds for each of 144 candidates, totalling 720 fits\n"
     ]
    },
    {
     "name": "stderr",
     "output_type": "stream",
     "text": [
      "[Parallel(n_jobs=-1)]: Using backend LokyBackend with 8 concurrent workers.\n",
      "[Parallel(n_jobs=-1)]: Done  34 tasks      | elapsed:    1.2s\n",
      "[Parallel(n_jobs=-1)]: Done 184 tasks      | elapsed:    6.7s\n",
      "[Parallel(n_jobs=-1)]: Done 434 tasks      | elapsed:   16.8s\n",
      "[Parallel(n_jobs=-1)]: Done 720 out of 720 | elapsed:   29.6s finished\n"
     ]
    },
    {
     "data": {
      "text/plain": [
       "GridSearchCV(cv=StratifiedKFold(n_splits=5, random_state=1510, shuffle=True),\n",
       "             estimator=Pipeline(steps=[('transformer',\n",
       "                                        ColumnTransformer(transformers=[('pipe_numeric',\n",
       "                                                                         Pipeline(steps=[('scaler',\n",
       "                                                                                          RobustScaler())]),\n",
       "                                                                         ['age_building',\n",
       "                                                                          'count_floors_pre_eq',\n",
       "                                                                          'plinth_area_sq_ft',\n",
       "                                                                          'height_ft_pre_eq']),\n",
       "                                                                        ('pipe_cat',\n",
       "                                                                         Pipeline(steps=[('encoder',\n",
       "                                                                                          OneHotEncoder(drop='first'))]),\n",
       "                                                                         ['foundation_type',\n",
       "                                                                          'roof_type',\n",
       "                                                                          'ground_floor_type',\n",
       "                                                                          'other_floor_type'])])),\n",
       "                                       ('dtc', DecisionTreeClassifier())]),\n",
       "             n_jobs=-1,\n",
       "             param_grid={'dtc__criterion': ['gini', 'entropy'],\n",
       "                         'dtc__max_depth': [5, 10, 15, 20, 25, 30],\n",
       "                         'dtc__min_samples_leaf': [1, 2, 5, 7],\n",
       "                         'dtc__min_samples_split': [2, 5, 10]},\n",
       "             scoring='recall', verbose=1)"
      ]
     },
     "execution_count": 41,
     "metadata": {},
     "output_type": "execute_result"
    }
   ],
   "source": [
    "dtc_tuned.fit(X_train, y_train)"
   ]
  },
  {
   "cell_type": "code",
   "execution_count": 42,
   "metadata": {},
   "outputs": [
    {
     "data": {
      "text/plain": [
       "{'dtc__criterion': 'entropy',\n",
       " 'dtc__max_depth': 5,\n",
       " 'dtc__min_samples_leaf': 7,\n",
       " 'dtc__min_samples_split': 2}"
      ]
     },
     "execution_count": 42,
     "metadata": {},
     "output_type": "execute_result"
    }
   ],
   "source": [
    "dtc_tuned.best_params_"
   ]
  },
  {
   "cell_type": "code",
   "execution_count": 43,
   "metadata": {},
   "outputs": [
    {
     "data": {
      "text/plain": [
       "0.9476567213413277"
      ]
     },
     "execution_count": 43,
     "metadata": {},
     "output_type": "execute_result"
    }
   ],
   "source": [
    "dtc_tuned.best_score_"
   ]
  },
  {
   "cell_type": "code",
   "execution_count": 44,
   "metadata": {},
   "outputs": [
    {
     "data": {
      "text/plain": [
       "Pipeline(steps=[('transformer',\n",
       "                 ColumnTransformer(transformers=[('pipe_numeric',\n",
       "                                                  Pipeline(steps=[('scaler',\n",
       "                                                                   RobustScaler())]),\n",
       "                                                  ['age_building',\n",
       "                                                   'count_floors_pre_eq',\n",
       "                                                   'plinth_area_sq_ft',\n",
       "                                                   'height_ft_pre_eq']),\n",
       "                                                 ('pipe_cat',\n",
       "                                                  Pipeline(steps=[('encoder',\n",
       "                                                                   OneHotEncoder(drop='first'))]),\n",
       "                                                  ['foundation_type',\n",
       "                                                   'roof_type',\n",
       "                                                   'ground_floor_type',\n",
       "                                                   'other_floor_type'])])),\n",
       "                ('dtc',\n",
       "                 DecisionTreeClassifier(criterion='entropy', max_depth=5,\n",
       "                                        min_samples_leaf=7))])"
      ]
     },
     "execution_count": 44,
     "metadata": {},
     "output_type": "execute_result"
    }
   ],
   "source": [
    "dtc_tuned.best_estimator_"
   ]
  },
  {
   "cell_type": "code",
   "execution_count": 45,
   "metadata": {},
   "outputs": [],
   "source": [
    "dtc_tun = dtc_tuned.best_estimator_"
   ]
  },
  {
   "cell_type": "code",
   "execution_count": 46,
   "metadata": {},
   "outputs": [
    {
     "name": "stderr",
     "output_type": "stream",
     "text": [
      "[Parallel(n_jobs=-1)]: Using backend LokyBackend with 8 concurrent workers.\n",
      "[Parallel(n_jobs=-1)]: Done   2 out of   5 | elapsed:    0.1s remaining:    0.2s\n",
      "[Parallel(n_jobs=-1)]: Done   5 out of   5 | elapsed:    0.1s finished\n"
     ]
    },
    {
     "data": {
      "text/plain": [
       "array([0.95110626, 0.9308932 , 0.95519126, 0.95054645, 0.95054645])"
      ]
     },
     "execution_count": 46,
     "metadata": {},
     "output_type": "execute_result"
    }
   ],
   "source": [
    "dtc_tuned_score = cross_val_score(dtc_tun, X_train, y_train, scoring='recall', cv=skfold, n_jobs=-1, verbose=1)\n",
    "dtc_tuned_score"
   ]
  },
  {
   "cell_type": "code",
   "execution_count": 47,
   "metadata": {},
   "outputs": [
    {
     "data": {
      "text/plain": [
       "0.9476567213413277"
      ]
     },
     "execution_count": 47,
     "metadata": {},
     "output_type": "execute_result"
    }
   ],
   "source": [
    "dtc_tuned_score.mean()"
   ]
  },
  {
   "cell_type": "markdown",
   "metadata": {},
   "source": [
    "> ## RFC HYPERPARAM"
   ]
  },
  {
   "cell_type": "code",
   "execution_count": 48,
   "metadata": {},
   "outputs": [
    {
     "data": {
      "text/plain": [
       "dict_keys(['memory', 'steps', 'verbose', 'transformer', 'rfc', 'transformer__n_jobs', 'transformer__remainder', 'transformer__sparse_threshold', 'transformer__transformer_weights', 'transformer__transformers', 'transformer__verbose', 'transformer__pipe_numeric', 'transformer__pipe_cat', 'transformer__pipe_numeric__memory', 'transformer__pipe_numeric__steps', 'transformer__pipe_numeric__verbose', 'transformer__pipe_numeric__scaler', 'transformer__pipe_numeric__scaler__copy', 'transformer__pipe_numeric__scaler__quantile_range', 'transformer__pipe_numeric__scaler__with_centering', 'transformer__pipe_numeric__scaler__with_scaling', 'transformer__pipe_cat__memory', 'transformer__pipe_cat__steps', 'transformer__pipe_cat__verbose', 'transformer__pipe_cat__encoder', 'transformer__pipe_cat__encoder__categories', 'transformer__pipe_cat__encoder__drop', 'transformer__pipe_cat__encoder__dtype', 'transformer__pipe_cat__encoder__handle_unknown', 'transformer__pipe_cat__encoder__sparse', 'rfc__bootstrap', 'rfc__ccp_alpha', 'rfc__class_weight', 'rfc__criterion', 'rfc__max_depth', 'rfc__max_features', 'rfc__max_leaf_nodes', 'rfc__max_samples', 'rfc__min_impurity_decrease', 'rfc__min_impurity_split', 'rfc__min_samples_leaf', 'rfc__min_samples_split', 'rfc__min_weight_fraction_leaf', 'rfc__n_estimators', 'rfc__n_jobs', 'rfc__oob_score', 'rfc__random_state', 'rfc__verbose', 'rfc__warm_start'])"
      ]
     },
     "execution_count": 48,
     "metadata": {},
     "output_type": "execute_result"
    }
   ],
   "source": [
    "rfc_pipe.get_params().keys()"
   ]
  },
  {
   "cell_type": "code",
   "execution_count": 49,
   "metadata": {},
   "outputs": [],
   "source": [
    "rfc_param = {'rfc__n_estimators': [400, 800, 1100, 1500, 2000],\n",
    "            'rfc__max_depth': [None,5, 10, 20, 30, 50, 70, 90],\n",
    "            'rfc__min_samples_split': [2, 5, 10],\n",
    "            'rfc__max_features': ['auto', 'sqrt'],\n",
    "            'rfc__min_samples_leaf' : [2, 4, 6]\n",
    "           }\n",
    "\n",
    "\n",
    "rfc_tuned = RandomizedSearchCV(estimator=rfc_pipe, \n",
    "                            param_distributions=rfc_param,\n",
    "                            n_iter=100,\n",
    "                            cv=skfold, \n",
    "                            n_jobs=-1, \n",
    "                            scoring='recall',\n",
    "                           verbose=1)"
   ]
  },
  {
   "cell_type": "code",
   "execution_count": 50,
   "metadata": {},
   "outputs": [
    {
     "name": "stdout",
     "output_type": "stream",
     "text": [
      "Fitting 5 folds for each of 100 candidates, totalling 500 fits\n"
     ]
    },
    {
     "name": "stderr",
     "output_type": "stream",
     "text": [
      "[Parallel(n_jobs=-1)]: Using backend LokyBackend with 8 concurrent workers.\n",
      "[Parallel(n_jobs=-1)]: Done  34 tasks      | elapsed:  2.6min\n",
      "[Parallel(n_jobs=-1)]: Done 184 tasks      | elapsed: 15.9min\n",
      "[Parallel(n_jobs=-1)]: Done 434 tasks      | elapsed: 40.3min\n",
      "[Parallel(n_jobs=-1)]: Done 500 out of 500 | elapsed: 47.4min finished\n"
     ]
    },
    {
     "data": {
      "text/plain": [
       "RandomizedSearchCV(cv=StratifiedKFold(n_splits=5, random_state=1510, shuffle=True),\n",
       "                   estimator=Pipeline(steps=[('transformer',\n",
       "                                              ColumnTransformer(transformers=[('pipe_numeric',\n",
       "                                                                               Pipeline(steps=[('scaler',\n",
       "                                                                                                RobustScaler())]),\n",
       "                                                                               ['age_building',\n",
       "                                                                                'count_floors_pre_eq',\n",
       "                                                                                'plinth_area_sq_ft',\n",
       "                                                                                'height_ft_pre_eq']),\n",
       "                                                                              ('pipe_cat',\n",
       "                                                                               Pipeline(steps=[('encoder',\n",
       "                                                                                                OneHotEncoder(drop...\n",
       "                                                                                'roof_type',\n",
       "                                                                                'ground_floor_type',\n",
       "                                                                                'other_floor_type'])])),\n",
       "                                             ('rfc',\n",
       "                                              RandomForestClassifier())]),\n",
       "                   n_iter=100, n_jobs=-1,\n",
       "                   param_distributions={'rfc__max_depth': [None, 5, 10, 20, 30,\n",
       "                                                           50, 70, 90],\n",
       "                                        'rfc__max_features': ['auto', 'sqrt'],\n",
       "                                        'rfc__min_samples_leaf': [2, 4, 6],\n",
       "                                        'rfc__min_samples_split': [2, 5, 10],\n",
       "                                        'rfc__n_estimators': [400, 800, 1100,\n",
       "                                                              1500, 2000]},\n",
       "                   scoring='recall', verbose=1)"
      ]
     },
     "execution_count": 50,
     "metadata": {},
     "output_type": "execute_result"
    }
   ],
   "source": [
    "rfc_tuned.fit(X_train, y_train)"
   ]
  },
  {
   "cell_type": "code",
   "execution_count": 51,
   "metadata": {},
   "outputs": [
    {
     "data": {
      "text/plain": [
       "{'rfc__n_estimators': 1500,\n",
       " 'rfc__min_samples_split': 5,\n",
       " 'rfc__min_samples_leaf': 6,\n",
       " 'rfc__max_features': 'sqrt',\n",
       " 'rfc__max_depth': 5}"
      ]
     },
     "execution_count": 51,
     "metadata": {},
     "output_type": "execute_result"
    }
   ],
   "source": [
    "rfc_tuned.best_params_"
   ]
  },
  {
   "cell_type": "code",
   "execution_count": 52,
   "metadata": {},
   "outputs": [
    {
     "data": {
      "text/plain": [
       "0.943885722047337"
      ]
     },
     "execution_count": 52,
     "metadata": {},
     "output_type": "execute_result"
    }
   ],
   "source": [
    "rfc_tuned.best_score_"
   ]
  },
  {
   "cell_type": "code",
   "execution_count": 53,
   "metadata": {},
   "outputs": [
    {
     "data": {
      "text/plain": [
       "Pipeline(steps=[('transformer',\n",
       "                 ColumnTransformer(transformers=[('pipe_numeric',\n",
       "                                                  Pipeline(steps=[('scaler',\n",
       "                                                                   RobustScaler())]),\n",
       "                                                  ['age_building',\n",
       "                                                   'count_floors_pre_eq',\n",
       "                                                   'plinth_area_sq_ft',\n",
       "                                                   'height_ft_pre_eq']),\n",
       "                                                 ('pipe_cat',\n",
       "                                                  Pipeline(steps=[('encoder',\n",
       "                                                                   OneHotEncoder(drop='first'))]),\n",
       "                                                  ['foundation_type',\n",
       "                                                   'roof_type',\n",
       "                                                   'ground_floor_type',\n",
       "                                                   'other_floor_type'])])),\n",
       "                ('rfc',\n",
       "                 RandomForestClassifier(max_depth=5, max_features='sqrt',\n",
       "                                        min_samples_leaf=6, min_samples_split=5,\n",
       "                                        n_estimators=1500))])"
      ]
     },
     "execution_count": 53,
     "metadata": {},
     "output_type": "execute_result"
    }
   ],
   "source": [
    "rfc_tuned.best_estimator_"
   ]
  },
  {
   "cell_type": "code",
   "execution_count": 54,
   "metadata": {},
   "outputs": [],
   "source": [
    "rfc_tun = rfc_tuned.best_estimator_"
   ]
  },
  {
   "cell_type": "code",
   "execution_count": 55,
   "metadata": {},
   "outputs": [
    {
     "name": "stderr",
     "output_type": "stream",
     "text": [
      "[Parallel(n_jobs=-1)]: Using backend LokyBackend with 8 concurrent workers.\n",
      "[Parallel(n_jobs=-1)]: Done   2 out of   5 | elapsed:   23.8s remaining:   35.7s\n",
      "[Parallel(n_jobs=-1)]: Done   5 out of   5 | elapsed:   24.1s finished\n"
     ]
    },
    {
     "data": {
      "text/plain": [
       "array([0.94646272, 0.94209232, 0.94726776, 0.94016393, 0.93934426])"
      ]
     },
     "execution_count": 55,
     "metadata": {},
     "output_type": "execute_result"
    }
   ],
   "source": [
    "rfc_tuned_score = cross_val_score(rfc_tun, X_train, y_train, scoring='recall', cv=skfold, n_jobs=-1, verbose=1)\n",
    "rfc_tuned_score"
   ]
  },
  {
   "cell_type": "code",
   "execution_count": 56,
   "metadata": {},
   "outputs": [
    {
     "data": {
      "text/plain": [
       "0.9430661991781635"
      ]
     },
     "execution_count": 56,
     "metadata": {},
     "output_type": "execute_result"
    }
   ],
   "source": [
    "rfc_tuned_score.mean()"
   ]
  },
  {
   "cell_type": "code",
   "execution_count": 57,
   "metadata": {},
   "outputs": [
    {
     "data": {
      "text/html": [
       "<div>\n",
       "<style scoped>\n",
       "    .dataframe tbody tr th:only-of-type {\n",
       "        vertical-align: middle;\n",
       "    }\n",
       "\n",
       "    .dataframe tbody tr th {\n",
       "        vertical-align: top;\n",
       "    }\n",
       "\n",
       "    .dataframe thead th {\n",
       "        text-align: right;\n",
       "    }\n",
       "</style>\n",
       "<table border=\"1\" class=\"dataframe\">\n",
       "  <thead>\n",
       "    <tr style=\"text-align: right;\">\n",
       "      <th></th>\n",
       "      <th>KNearest Neighbors</th>\n",
       "      <th>Decision Tree CV Score</th>\n",
       "      <th>Random Forest CV Score</th>\n",
       "    </tr>\n",
       "  </thead>\n",
       "  <tbody>\n",
       "    <tr>\n",
       "      <th>0</th>\n",
       "      <td>0.936291</td>\n",
       "      <td>0.947657</td>\n",
       "      <td>0.943066</td>\n",
       "    </tr>\n",
       "  </tbody>\n",
       "</table>\n",
       "</div>"
      ],
      "text/plain": [
       "   KNearest Neighbors  Decision Tree CV Score  Random Forest CV Score\n",
       "0            0.936291                0.947657                0.943066"
      ]
     },
     "execution_count": 57,
     "metadata": {},
     "output_type": "execute_result"
    }
   ],
   "source": [
    "knncst = knn_tuned_score.mean()\n",
    "dtcst = dtc_tuned_score.mean()\n",
    "rfcst = rfc_tuned_score.mean()\n",
    "\n",
    "dft = pd.DataFrame({'KNearest Neighbors':[knncst], 'Decision Tree CV Score': [dtcst], 'Random Forest CV Score': [rfcst]})\n",
    "dft"
   ]
  },
  {
   "cell_type": "code",
   "execution_count": 58,
   "metadata": {},
   "outputs": [
    {
     "data": {
      "text/html": [
       "<div>\n",
       "<style scoped>\n",
       "    .dataframe tbody tr th:only-of-type {\n",
       "        vertical-align: middle;\n",
       "    }\n",
       "\n",
       "    .dataframe tbody tr th {\n",
       "        vertical-align: top;\n",
       "    }\n",
       "\n",
       "    .dataframe thead th {\n",
       "        text-align: right;\n",
       "    }\n",
       "</style>\n",
       "<table border=\"1\" class=\"dataframe\">\n",
       "  <thead>\n",
       "    <tr style=\"text-align: right;\">\n",
       "      <th></th>\n",
       "      <th>Before Tuned</th>\n",
       "      <th>After Tuned</th>\n",
       "    </tr>\n",
       "  </thead>\n",
       "  <tbody>\n",
       "    <tr>\n",
       "      <th>KNearest Neighbors</th>\n",
       "      <td>0.802262</td>\n",
       "      <td>0.936291</td>\n",
       "    </tr>\n",
       "    <tr>\n",
       "      <th>Decision Tree</th>\n",
       "      <td>0.674298</td>\n",
       "      <td>0.947657</td>\n",
       "    </tr>\n",
       "    <tr>\n",
       "      <th>Random Forest</th>\n",
       "      <td>0.785707</td>\n",
       "      <td>0.943066</td>\n",
       "    </tr>\n",
       "  </tbody>\n",
       "</table>\n",
       "</div>"
      ],
      "text/plain": [
       "                    Before Tuned  After Tuned\n",
       "KNearest Neighbors      0.802262     0.936291\n",
       "Decision Tree           0.674298     0.947657\n",
       "Random Forest           0.785707     0.943066"
      ]
     },
     "execution_count": 58,
     "metadata": {},
     "output_type": "execute_result"
    }
   ],
   "source": [
    "knncv = knn_score.mean()\n",
    "knncv2 = knn_tuned_score.mean()\n",
    "sdtcv = dtc_score.mean()\n",
    "sdtcv2 = dtc_tuned_score.mean()\n",
    "srfcv = rfc_score.mean()\n",
    "srfcv2 = rfc_tuned_score.mean()\n",
    "\n",
    "\n",
    "cc = {\n",
    "    'Before Tuned' : [knncv, sdtcv, srfcv],\n",
    "    'After Tuned': [knncv2, sdtcv2, srfcv2]\n",
    "}\n",
    "\n",
    "_score = pd.DataFrame(data=cc, index=[\"KNearest Neighbors\", 'Decision Tree', 'Random Forest'])\n",
    "_score\n"
   ]
  },
  {
   "cell_type": "markdown",
   "metadata": {},
   "source": [
    "Untuk hasil perbandingan antara 3 model ini, KNN sebelum dilakukan tunning mendapat nilai 0.8, lebih besar dibandingkan DTC dan RFC, namun setelah dilakukan Hyper parameter tuning, model DTC lebih besar yaitu diangka 0.947 sehingga model yang saya pilih adalah DTC"
   ]
  },
  {
   "cell_type": "markdown",
   "metadata": {},
   "source": [
    "> ## Best Model DECISION TREE"
   ]
  },
  {
   "cell_type": "code",
   "execution_count": 59,
   "metadata": {},
   "outputs": [
    {
     "data": {
      "text/plain": [
       "<sklearn.metrics._plot.confusion_matrix.ConfusionMatrixDisplay at 0x1b6e4574a00>"
      ]
     },
     "execution_count": 59,
     "metadata": {},
     "output_type": "execute_result"
    },
    {
     "data": {
      "image/png": "[encoded data removed]",
      "text/plain": [
       "<Figure size 432x288 with 2 Axes>"
      ]
     },
     "metadata": {
      "needs_background": "light"
     },
     "output_type": "display_data"
    }
   ],
   "source": [
    "dtc_pipe.fit(X_train, y_train)\n",
    "plot_confusion_matrix(dtc_pipe, X_test, y_test)"
   ]
  },
  {
   "cell_type": "code",
   "execution_count": 60,
   "metadata": {},
   "outputs": [
    {
     "data": {
      "text/plain": [
       "<sklearn.metrics._plot.confusion_matrix.ConfusionMatrixDisplay at 0x1b6e44f5910>"
      ]
     },
     "execution_count": 60,
     "metadata": {},
     "output_type": "execute_result"
    },
    {
     "data": {
      "image/png": "[encoded data removed]",
      "text/plain": [
       "<Figure size 432x288 with 2 Axes>"
      ]
     },
     "metadata": {
      "needs_background": "light"
     },
     "output_type": "display_data"
    }
   ],
   "source": [
    "dtc_tun.fit(X_train, y_train)\n",
    "plot_confusion_matrix(dtc_tun, X_test, y_test)"
   ]
  },
  {
   "cell_type": "code",
   "execution_count": 76,
   "metadata": {},
   "outputs": [
    {
     "data": {
      "text/plain": [
       "0.6946222791293214"
      ]
     },
     "execution_count": 76,
     "metadata": {},
     "output_type": "execute_result"
    }
   ],
   "source": [
    "precision_score(y_test, dtc_tun.predict(X_test))"
   ]
  },
  {
   "cell_type": "code",
   "execution_count": 77,
   "metadata": {},
   "outputs": [
    {
     "data": {
      "text/plain": [
       "0.9486338797814208"
      ]
     },
     "execution_count": 77,
     "metadata": {},
     "output_type": "execute_result"
    }
   ],
   "source": [
    "recall_score(y_test, dtc_tun.predict(X_test))"
   ]
  },
  {
   "cell_type": "code",
   "execution_count": null,
   "metadata": {},
   "outputs": [],
   "source": []
  },
  {
   "cell_type": "markdown",
   "metadata": {},
   "source": [
    "## __IMPORT MODEL__"
   ]
  },
  {
   "cell_type": "code",
   "execution_count": 63,
   "metadata": {},
   "outputs": [],
   "source": [
    "import joblib"
   ]
  },
  {
   "cell_type": "code",
   "execution_count": 64,
   "metadata": {},
   "outputs": [
    {
     "data": {
      "text/plain": [
       "['Model.sav']"
      ]
     },
     "execution_count": 64,
     "metadata": {},
     "output_type": "execute_result"
    }
   ],
   "source": [
    "dtc_tun.fit(X, y)\n",
    "filename = 'Model.sav'\n",
    "joblib.dump(dtc_tun, filename)"
   ]
  },
  {
   "cell_type": "code",
   "execution_count": 65,
   "metadata": {},
   "outputs": [],
   "source": [
    "# build1 = pd.DataFrame([{\n",
    "#     'age_building': 55,\n",
    "#     'count_floors_pre_eq': 2,\n",
    "#     'plinth_area_sq_ft': 100,\n",
    "#     'height_ft_pre_eq': 15,\n",
    "#     'foundation_type' : 'Mud mortar-Stone/Brick',\n",
    "#     'roof_type': 'Bamboo/Timber-Light roof',\n",
    "#     'ground_floor_type': 'Mud',\n",
    "#     'other_floor_type': 'Not applicable'\n",
    "# }], index=[0])"
   ]
  },
  {
   "cell_type": "code",
   "execution_count": 66,
   "metadata": {},
   "outputs": [],
   "source": [
    "# build1"
   ]
  },
  {
   "cell_type": "code",
   "execution_count": 67,
   "metadata": {},
   "outputs": [],
   "source": [
    "# dtc_tun.predict(build1)[0]"
   ]
  },
  {
   "cell_type": "code",
   "execution_count": 68,
   "metadata": {},
   "outputs": [
    {
     "data": {
      "text/plain": [
       "array([0], dtype=int64)"
      ]
     },
     "execution_count": 68,
     "metadata": {},
     "output_type": "execute_result"
    }
   ],
   "source": [
    "dtc_tun.predict(pd.DataFrame(bu.iloc[37925,:-1]).T)"
   ]
  },
  {
   "cell_type": "code",
   "execution_count": 69,
   "metadata": {},
   "outputs": [],
   "source": [
    "# dtc_tun.predict(build1) # threshold default (0.5)"
   ]
  },
  {
   "cell_type": "code",
   "execution_count": 70,
   "metadata": {
    "collapsed": true,
    "jupyter": {
     "outputs_hidden": true
    }
   },
   "outputs": [
    {
     "data": {
      "text/html": [
       "<div>\n",
       "<style scoped>\n",
       "    .dataframe tbody tr th:only-of-type {\n",
       "        vertical-align: middle;\n",
       "    }\n",
       "\n",
       "    .dataframe tbody tr th {\n",
       "        vertical-align: top;\n",
       "    }\n",
       "\n",
       "    .dataframe thead th {\n",
       "        text-align: right;\n",
       "    }\n",
       "</style>\n",
       "<table border=\"1\" class=\"dataframe\">\n",
       "  <thead>\n",
       "    <tr style=\"text-align: right;\">\n",
       "      <th></th>\n",
       "      <th>age_building</th>\n",
       "      <th>count_floors_pre_eq</th>\n",
       "      <th>plinth_area_sq_ft</th>\n",
       "      <th>height_ft_pre_eq</th>\n",
       "      <th>foundation_type</th>\n",
       "      <th>roof_type</th>\n",
       "      <th>ground_floor_type</th>\n",
       "      <th>other_floor_type</th>\n",
       "      <th>damage</th>\n",
       "    </tr>\n",
       "  </thead>\n",
       "  <tbody>\n",
       "    <tr>\n",
       "      <th>0</th>\n",
       "      <td>20</td>\n",
       "      <td>2</td>\n",
       "      <td>18.58</td>\n",
       "      <td>3.05</td>\n",
       "      <td>Mud mortar-Stone/Brick</td>\n",
       "      <td>Bamboo/Timber-Light roof</td>\n",
       "      <td>Mud</td>\n",
       "      <td>TImber/Bamboo-Mud</td>\n",
       "      <td>1</td>\n",
       "    </tr>\n",
       "    <tr>\n",
       "      <th>1</th>\n",
       "      <td>13</td>\n",
       "      <td>2</td>\n",
       "      <td>38.65</td>\n",
       "      <td>4.27</td>\n",
       "      <td>Mud mortar-Stone/Brick</td>\n",
       "      <td>Bamboo/Timber-Light roof</td>\n",
       "      <td>Mud</td>\n",
       "      <td>TImber/Bamboo-Mud</td>\n",
       "      <td>1</td>\n",
       "    </tr>\n",
       "    <tr>\n",
       "      <th>2</th>\n",
       "      <td>14</td>\n",
       "      <td>2</td>\n",
       "      <td>51.10</td>\n",
       "      <td>4.27</td>\n",
       "      <td>Mud mortar-Stone/Brick</td>\n",
       "      <td>Bamboo/Timber-Light roof</td>\n",
       "      <td>Mud</td>\n",
       "      <td>TImber/Bamboo-Mud</td>\n",
       "      <td>1</td>\n",
       "    </tr>\n",
       "    <tr>\n",
       "      <th>3</th>\n",
       "      <td>15</td>\n",
       "      <td>1</td>\n",
       "      <td>13.01</td>\n",
       "      <td>2.13</td>\n",
       "      <td>Mud mortar-Stone/Brick</td>\n",
       "      <td>Bamboo/Timber-Light roof</td>\n",
       "      <td>Mud</td>\n",
       "      <td>Not applicable</td>\n",
       "      <td>1</td>\n",
       "    </tr>\n",
       "    <tr>\n",
       "      <th>4</th>\n",
       "      <td>12</td>\n",
       "      <td>2</td>\n",
       "      <td>27.68</td>\n",
       "      <td>3.66</td>\n",
       "      <td>Mud mortar-Stone/Brick</td>\n",
       "      <td>Bamboo/Timber-Light roof</td>\n",
       "      <td>Mud</td>\n",
       "      <td>TImber/Bamboo-Mud</td>\n",
       "      <td>1</td>\n",
       "    </tr>\n",
       "  </tbody>\n",
       "</table>\n",
       "</div>"
      ],
      "text/plain": [
       "   age_building  count_floors_pre_eq  plinth_area_sq_ft  height_ft_pre_eq  \\\n",
       "0            20                    2              18.58              3.05   \n",
       "1            13                    2              38.65              4.27   \n",
       "2            14                    2              51.10              4.27   \n",
       "3            15                    1              13.01              2.13   \n",
       "4            12                    2              27.68              3.66   \n",
       "\n",
       "          foundation_type                 roof_type ground_floor_type  \\\n",
       "0  Mud mortar-Stone/Brick  Bamboo/Timber-Light roof               Mud   \n",
       "1  Mud mortar-Stone/Brick  Bamboo/Timber-Light roof               Mud   \n",
       "2  Mud mortar-Stone/Brick  Bamboo/Timber-Light roof               Mud   \n",
       "3  Mud mortar-Stone/Brick  Bamboo/Timber-Light roof               Mud   \n",
       "4  Mud mortar-Stone/Brick  Bamboo/Timber-Light roof               Mud   \n",
       "\n",
       "    other_floor_type  damage  \n",
       "0  TImber/Bamboo-Mud       1  \n",
       "1  TImber/Bamboo-Mud       1  \n",
       "2  TImber/Bamboo-Mud       1  \n",
       "3     Not applicable       1  \n",
       "4  TImber/Bamboo-Mud       1  "
      ]
     },
     "execution_count": 70,
     "metadata": {},
     "output_type": "execute_result"
    }
   ],
   "source": [
    "# bu.head()"
   ]
  }
 ],
 "metadata": {
  "kernelspec": {
   "display_name": "Python 3",
   "language": "python",
   "name": "python3"
  },
  "language_info": {
   "codemirror_mode": {
    "name": "ipython",
    "version": 3
   },
   "file_extension": ".py",
   "mimetype": "text/x-python",
   "name": "python",
   "nbconvert_exporter": "python",
   "pygments_lexer": "ipython3",
   "version": "3.8.3"
  }
 },
 "nbformat": 4,
 "nbformat_minor": 4
}
