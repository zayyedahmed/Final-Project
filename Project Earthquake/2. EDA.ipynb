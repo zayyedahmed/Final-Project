{
 "cells": [
  {
   "cell_type": "markdown",
   "metadata": {},
   "source": [
    "## __EDA__"
   ]
  },
  {
   "cell_type": "code",
   "execution_count": 1,
   "metadata": {},
   "outputs": [],
   "source": [
    "import pandas as pd\n",
    "import numpy as np\n",
    "import seaborn as sns\n",
    "import matplotlib.pyplot as plt"
   ]
  },
  {
   "cell_type": "code",
   "execution_count": 2,
   "metadata": {},
   "outputs": [],
   "source": [
    "building = pd.read_csv(\"D:\\Project\\Project\\earthquake\\earthquake_clean.csv\")"
   ]
  },
  {
   "cell_type": "code",
   "execution_count": 3,
   "metadata": {},
   "outputs": [],
   "source": [
    "ward = pd.read_csv(\"D:\\gravity\\ward_vdcmun_district_name_mapping.csv\")"
   ]
  },
  {
   "cell_type": "code",
   "execution_count": 4,
   "metadata": {},
   "outputs": [
    {
     "data": {
      "text/html": [
       "<div>\n",
       "<style scoped>\n",
       "    .dataframe tbody tr th:only-of-type {\n",
       "        vertical-align: middle;\n",
       "    }\n",
       "\n",
       "    .dataframe tbody tr th {\n",
       "        vertical-align: top;\n",
       "    }\n",
       "\n",
       "    .dataframe thead th {\n",
       "        text-align: right;\n",
       "    }\n",
       "</style>\n",
       "<table border=\"1\" class=\"dataframe\">\n",
       "  <thead>\n",
       "    <tr style=\"text-align: right;\">\n",
       "      <th></th>\n",
       "      <th>Unnamed: 0</th>\n",
       "      <th>Unnamed: 0.1</th>\n",
       "      <th>building_id</th>\n",
       "      <th>district_id</th>\n",
       "      <th>vdcmun_id</th>\n",
       "      <th>ward_id</th>\n",
       "      <th>count_floors_pre_eq</th>\n",
       "      <th>count_floors_post_eq</th>\n",
       "      <th>age_building</th>\n",
       "      <th>plinth_area_sq_ft</th>\n",
       "      <th>...</th>\n",
       "      <th>has_superstructure_mud_mortar_brick</th>\n",
       "      <th>has_superstructure_cement_mortar_brick</th>\n",
       "      <th>has_superstructure_timber</th>\n",
       "      <th>has_superstructure_bamboo</th>\n",
       "      <th>has_superstructure_rc_non_engineered</th>\n",
       "      <th>has_superstructure_rc_engineered</th>\n",
       "      <th>has_superstructure_other</th>\n",
       "      <th>condition_post_eq</th>\n",
       "      <th>technical_solution_proposed</th>\n",
       "      <th>damage</th>\n",
       "    </tr>\n",
       "  </thead>\n",
       "  <tbody>\n",
       "    <tr>\n",
       "      <th>0</th>\n",
       "      <td>0</td>\n",
       "      <td>0</td>\n",
       "      <td>120101000011</td>\n",
       "      <td>12</td>\n",
       "      <td>1207</td>\n",
       "      <td>120703</td>\n",
       "      <td>1</td>\n",
       "      <td>1</td>\n",
       "      <td>9</td>\n",
       "      <td>26.76</td>\n",
       "      <td>...</td>\n",
       "      <td>0</td>\n",
       "      <td>0</td>\n",
       "      <td>0</td>\n",
       "      <td>1</td>\n",
       "      <td>0</td>\n",
       "      <td>0</td>\n",
       "      <td>0</td>\n",
       "      <td>Damaged-Used in risk</td>\n",
       "      <td>Major repair</td>\n",
       "      <td>Low Damage</td>\n",
       "    </tr>\n",
       "    <tr>\n",
       "      <th>1</th>\n",
       "      <td>1</td>\n",
       "      <td>1</td>\n",
       "      <td>120101000021</td>\n",
       "      <td>12</td>\n",
       "      <td>1207</td>\n",
       "      <td>120703</td>\n",
       "      <td>1</td>\n",
       "      <td>1</td>\n",
       "      <td>15</td>\n",
       "      <td>33.82</td>\n",
       "      <td>...</td>\n",
       "      <td>0</td>\n",
       "      <td>0</td>\n",
       "      <td>0</td>\n",
       "      <td>1</td>\n",
       "      <td>0</td>\n",
       "      <td>0</td>\n",
       "      <td>0</td>\n",
       "      <td>Damaged-Repaired and used</td>\n",
       "      <td>Reconstruction</td>\n",
       "      <td>High Damage</td>\n",
       "    </tr>\n",
       "    <tr>\n",
       "      <th>2</th>\n",
       "      <td>2</td>\n",
       "      <td>2</td>\n",
       "      <td>120101000031</td>\n",
       "      <td>12</td>\n",
       "      <td>1207</td>\n",
       "      <td>120703</td>\n",
       "      <td>1</td>\n",
       "      <td>1</td>\n",
       "      <td>20</td>\n",
       "      <td>35.67</td>\n",
       "      <td>...</td>\n",
       "      <td>0</td>\n",
       "      <td>0</td>\n",
       "      <td>0</td>\n",
       "      <td>0</td>\n",
       "      <td>0</td>\n",
       "      <td>0</td>\n",
       "      <td>0</td>\n",
       "      <td>Damaged-Repaired and used</td>\n",
       "      <td>Minor repair</td>\n",
       "      <td>Low Damage</td>\n",
       "    </tr>\n",
       "    <tr>\n",
       "      <th>3</th>\n",
       "      <td>3</td>\n",
       "      <td>3</td>\n",
       "      <td>120101000041</td>\n",
       "      <td>12</td>\n",
       "      <td>1207</td>\n",
       "      <td>120703</td>\n",
       "      <td>1</td>\n",
       "      <td>1</td>\n",
       "      <td>20</td>\n",
       "      <td>28.99</td>\n",
       "      <td>...</td>\n",
       "      <td>0</td>\n",
       "      <td>0</td>\n",
       "      <td>0</td>\n",
       "      <td>0</td>\n",
       "      <td>0</td>\n",
       "      <td>0</td>\n",
       "      <td>0</td>\n",
       "      <td>Damaged-Repaired and used</td>\n",
       "      <td>Minor repair</td>\n",
       "      <td>Low Damage</td>\n",
       "    </tr>\n",
       "    <tr>\n",
       "      <th>4</th>\n",
       "      <td>4</td>\n",
       "      <td>4</td>\n",
       "      <td>120101000051</td>\n",
       "      <td>12</td>\n",
       "      <td>1207</td>\n",
       "      <td>120703</td>\n",
       "      <td>1</td>\n",
       "      <td>1</td>\n",
       "      <td>30</td>\n",
       "      <td>28.61</td>\n",
       "      <td>...</td>\n",
       "      <td>0</td>\n",
       "      <td>0</td>\n",
       "      <td>0</td>\n",
       "      <td>0</td>\n",
       "      <td>0</td>\n",
       "      <td>0</td>\n",
       "      <td>0</td>\n",
       "      <td>Damaged-Repaired and used</td>\n",
       "      <td>Minor repair</td>\n",
       "      <td>Low Damage</td>\n",
       "    </tr>\n",
       "  </tbody>\n",
       "</table>\n",
       "<p>5 rows × 33 columns</p>\n",
       "</div>"
      ],
      "text/plain": [
       "   Unnamed: 0  Unnamed: 0.1   building_id  district_id  vdcmun_id  ward_id  \\\n",
       "0           0             0  120101000011           12       1207   120703   \n",
       "1           1             1  120101000021           12       1207   120703   \n",
       "2           2             2  120101000031           12       1207   120703   \n",
       "3           3             3  120101000041           12       1207   120703   \n",
       "4           4             4  120101000051           12       1207   120703   \n",
       "\n",
       "   count_floors_pre_eq  count_floors_post_eq  age_building  plinth_area_sq_ft  \\\n",
       "0                    1                     1             9              26.76   \n",
       "1                    1                     1            15              33.82   \n",
       "2                    1                     1            20              35.67   \n",
       "3                    1                     1            20              28.99   \n",
       "4                    1                     1            30              28.61   \n",
       "\n",
       "   ...  has_superstructure_mud_mortar_brick  \\\n",
       "0  ...                                    0   \n",
       "1  ...                                    0   \n",
       "2  ...                                    0   \n",
       "3  ...                                    0   \n",
       "4  ...                                    0   \n",
       "\n",
       "   has_superstructure_cement_mortar_brick has_superstructure_timber  \\\n",
       "0                                       0                         0   \n",
       "1                                       0                         0   \n",
       "2                                       0                         0   \n",
       "3                                       0                         0   \n",
       "4                                       0                         0   \n",
       "\n",
       "  has_superstructure_bamboo has_superstructure_rc_non_engineered  \\\n",
       "0                         1                                    0   \n",
       "1                         1                                    0   \n",
       "2                         0                                    0   \n",
       "3                         0                                    0   \n",
       "4                         0                                    0   \n",
       "\n",
       "  has_superstructure_rc_engineered has_superstructure_other  \\\n",
       "0                                0                        0   \n",
       "1                                0                        0   \n",
       "2                                0                        0   \n",
       "3                                0                        0   \n",
       "4                                0                        0   \n",
       "\n",
       "           condition_post_eq technical_solution_proposed       damage  \n",
       "0       Damaged-Used in risk                Major repair   Low Damage  \n",
       "1  Damaged-Repaired and used              Reconstruction  High Damage  \n",
       "2  Damaged-Repaired and used                Minor repair   Low Damage  \n",
       "3  Damaged-Repaired and used                Minor repair   Low Damage  \n",
       "4  Damaged-Repaired and used                Minor repair   Low Damage  \n",
       "\n",
       "[5 rows x 33 columns]"
      ]
     },
     "execution_count": 4,
     "metadata": {},
     "output_type": "execute_result"
    }
   ],
   "source": [
    "building.head()"
   ]
  },
  {
   "cell_type": "code",
   "execution_count": 5,
   "metadata": {},
   "outputs": [],
   "source": [
    "building = building.drop(\"Unnamed: 0\", axis=1)"
   ]
  },
  {
   "cell_type": "code",
   "execution_count": 6,
   "metadata": {},
   "outputs": [
    {
     "data": {
      "text/html": [
       "<div>\n",
       "<style scoped>\n",
       "    .dataframe tbody tr th:only-of-type {\n",
       "        vertical-align: middle;\n",
       "    }\n",
       "\n",
       "    .dataframe tbody tr th {\n",
       "        vertical-align: top;\n",
       "    }\n",
       "\n",
       "    .dataframe thead th {\n",
       "        text-align: right;\n",
       "    }\n",
       "</style>\n",
       "<table border=\"1\" class=\"dataframe\">\n",
       "  <thead>\n",
       "    <tr style=\"text-align: right;\">\n",
       "      <th></th>\n",
       "      <th>Unnamed: 0.1</th>\n",
       "      <th>building_id</th>\n",
       "      <th>district_id</th>\n",
       "      <th>vdcmun_id</th>\n",
       "      <th>ward_id</th>\n",
       "      <th>count_floors_pre_eq</th>\n",
       "      <th>count_floors_post_eq</th>\n",
       "      <th>age_building</th>\n",
       "      <th>plinth_area_sq_ft</th>\n",
       "      <th>height_ft_pre_eq</th>\n",
       "      <th>...</th>\n",
       "      <th>has_superstructure_mud_mortar_brick</th>\n",
       "      <th>has_superstructure_cement_mortar_brick</th>\n",
       "      <th>has_superstructure_timber</th>\n",
       "      <th>has_superstructure_bamboo</th>\n",
       "      <th>has_superstructure_rc_non_engineered</th>\n",
       "      <th>has_superstructure_rc_engineered</th>\n",
       "      <th>has_superstructure_other</th>\n",
       "      <th>condition_post_eq</th>\n",
       "      <th>technical_solution_proposed</th>\n",
       "      <th>damage</th>\n",
       "    </tr>\n",
       "  </thead>\n",
       "  <tbody>\n",
       "    <tr>\n",
       "      <th>0</th>\n",
       "      <td>0</td>\n",
       "      <td>120101000011</td>\n",
       "      <td>12</td>\n",
       "      <td>1207</td>\n",
       "      <td>120703</td>\n",
       "      <td>1</td>\n",
       "      <td>1</td>\n",
       "      <td>9</td>\n",
       "      <td>26.76</td>\n",
       "      <td>2.74</td>\n",
       "      <td>...</td>\n",
       "      <td>0</td>\n",
       "      <td>0</td>\n",
       "      <td>0</td>\n",
       "      <td>1</td>\n",
       "      <td>0</td>\n",
       "      <td>0</td>\n",
       "      <td>0</td>\n",
       "      <td>Damaged-Used in risk</td>\n",
       "      <td>Major repair</td>\n",
       "      <td>Low Damage</td>\n",
       "    </tr>\n",
       "    <tr>\n",
       "      <th>1</th>\n",
       "      <td>1</td>\n",
       "      <td>120101000021</td>\n",
       "      <td>12</td>\n",
       "      <td>1207</td>\n",
       "      <td>120703</td>\n",
       "      <td>1</td>\n",
       "      <td>1</td>\n",
       "      <td>15</td>\n",
       "      <td>33.82</td>\n",
       "      <td>2.74</td>\n",
       "      <td>...</td>\n",
       "      <td>0</td>\n",
       "      <td>0</td>\n",
       "      <td>0</td>\n",
       "      <td>1</td>\n",
       "      <td>0</td>\n",
       "      <td>0</td>\n",
       "      <td>0</td>\n",
       "      <td>Damaged-Repaired and used</td>\n",
       "      <td>Reconstruction</td>\n",
       "      <td>High Damage</td>\n",
       "    </tr>\n",
       "    <tr>\n",
       "      <th>2</th>\n",
       "      <td>2</td>\n",
       "      <td>120101000031</td>\n",
       "      <td>12</td>\n",
       "      <td>1207</td>\n",
       "      <td>120703</td>\n",
       "      <td>1</td>\n",
       "      <td>1</td>\n",
       "      <td>20</td>\n",
       "      <td>35.67</td>\n",
       "      <td>2.74</td>\n",
       "      <td>...</td>\n",
       "      <td>0</td>\n",
       "      <td>0</td>\n",
       "      <td>0</td>\n",
       "      <td>0</td>\n",
       "      <td>0</td>\n",
       "      <td>0</td>\n",
       "      <td>0</td>\n",
       "      <td>Damaged-Repaired and used</td>\n",
       "      <td>Minor repair</td>\n",
       "      <td>Low Damage</td>\n",
       "    </tr>\n",
       "    <tr>\n",
       "      <th>3</th>\n",
       "      <td>3</td>\n",
       "      <td>120101000041</td>\n",
       "      <td>12</td>\n",
       "      <td>1207</td>\n",
       "      <td>120703</td>\n",
       "      <td>1</td>\n",
       "      <td>1</td>\n",
       "      <td>20</td>\n",
       "      <td>28.99</td>\n",
       "      <td>2.74</td>\n",
       "      <td>...</td>\n",
       "      <td>0</td>\n",
       "      <td>0</td>\n",
       "      <td>0</td>\n",
       "      <td>0</td>\n",
       "      <td>0</td>\n",
       "      <td>0</td>\n",
       "      <td>0</td>\n",
       "      <td>Damaged-Repaired and used</td>\n",
       "      <td>Minor repair</td>\n",
       "      <td>Low Damage</td>\n",
       "    </tr>\n",
       "    <tr>\n",
       "      <th>4</th>\n",
       "      <td>4</td>\n",
       "      <td>120101000051</td>\n",
       "      <td>12</td>\n",
       "      <td>1207</td>\n",
       "      <td>120703</td>\n",
       "      <td>1</td>\n",
       "      <td>1</td>\n",
       "      <td>30</td>\n",
       "      <td>28.61</td>\n",
       "      <td>2.74</td>\n",
       "      <td>...</td>\n",
       "      <td>0</td>\n",
       "      <td>0</td>\n",
       "      <td>0</td>\n",
       "      <td>0</td>\n",
       "      <td>0</td>\n",
       "      <td>0</td>\n",
       "      <td>0</td>\n",
       "      <td>Damaged-Repaired and used</td>\n",
       "      <td>Minor repair</td>\n",
       "      <td>Low Damage</td>\n",
       "    </tr>\n",
       "    <tr>\n",
       "      <th>...</th>\n",
       "      <td>...</td>\n",
       "      <td>...</td>\n",
       "      <td>...</td>\n",
       "      <td>...</td>\n",
       "      <td>...</td>\n",
       "      <td>...</td>\n",
       "      <td>...</td>\n",
       "      <td>...</td>\n",
       "      <td>...</td>\n",
       "      <td>...</td>\n",
       "      <td>...</td>\n",
       "      <td>...</td>\n",
       "      <td>...</td>\n",
       "      <td>...</td>\n",
       "      <td>...</td>\n",
       "      <td>...</td>\n",
       "      <td>...</td>\n",
       "      <td>...</td>\n",
       "      <td>...</td>\n",
       "      <td>...</td>\n",
       "      <td>...</td>\n",
       "    </tr>\n",
       "    <tr>\n",
       "      <th>758596</th>\n",
       "      <td>762101</td>\n",
       "      <td>366709001241</td>\n",
       "      <td>36</td>\n",
       "      <td>3603</td>\n",
       "      <td>360302</td>\n",
       "      <td>2</td>\n",
       "      <td>0</td>\n",
       "      <td>60</td>\n",
       "      <td>15.33</td>\n",
       "      <td>5.49</td>\n",
       "      <td>...</td>\n",
       "      <td>0</td>\n",
       "      <td>0</td>\n",
       "      <td>0</td>\n",
       "      <td>0</td>\n",
       "      <td>0</td>\n",
       "      <td>0</td>\n",
       "      <td>0</td>\n",
       "      <td>Damaged-Rubble clear</td>\n",
       "      <td>Reconstruction</td>\n",
       "      <td>High Damage</td>\n",
       "    </tr>\n",
       "    <tr>\n",
       "      <th>758597</th>\n",
       "      <td>762102</td>\n",
       "      <td>366709001251</td>\n",
       "      <td>36</td>\n",
       "      <td>3603</td>\n",
       "      <td>360302</td>\n",
       "      <td>2</td>\n",
       "      <td>0</td>\n",
       "      <td>35</td>\n",
       "      <td>31.77</td>\n",
       "      <td>5.49</td>\n",
       "      <td>...</td>\n",
       "      <td>0</td>\n",
       "      <td>0</td>\n",
       "      <td>0</td>\n",
       "      <td>0</td>\n",
       "      <td>0</td>\n",
       "      <td>0</td>\n",
       "      <td>0</td>\n",
       "      <td>Damaged-Rubble clear</td>\n",
       "      <td>Reconstruction</td>\n",
       "      <td>High Damage</td>\n",
       "    </tr>\n",
       "    <tr>\n",
       "      <th>758598</th>\n",
       "      <td>762103</td>\n",
       "      <td>366709001261</td>\n",
       "      <td>36</td>\n",
       "      <td>3603</td>\n",
       "      <td>360302</td>\n",
       "      <td>2</td>\n",
       "      <td>0</td>\n",
       "      <td>35</td>\n",
       "      <td>31.77</td>\n",
       "      <td>5.49</td>\n",
       "      <td>...</td>\n",
       "      <td>0</td>\n",
       "      <td>0</td>\n",
       "      <td>0</td>\n",
       "      <td>0</td>\n",
       "      <td>0</td>\n",
       "      <td>0</td>\n",
       "      <td>0</td>\n",
       "      <td>Damaged-Rubble clear</td>\n",
       "      <td>Reconstruction</td>\n",
       "      <td>High Damage</td>\n",
       "    </tr>\n",
       "    <tr>\n",
       "      <th>758599</th>\n",
       "      <td>762104</td>\n",
       "      <td>366709001271</td>\n",
       "      <td>36</td>\n",
       "      <td>3603</td>\n",
       "      <td>360302</td>\n",
       "      <td>2</td>\n",
       "      <td>0</td>\n",
       "      <td>19</td>\n",
       "      <td>28.43</td>\n",
       "      <td>5.49</td>\n",
       "      <td>...</td>\n",
       "      <td>0</td>\n",
       "      <td>0</td>\n",
       "      <td>0</td>\n",
       "      <td>0</td>\n",
       "      <td>0</td>\n",
       "      <td>0</td>\n",
       "      <td>0</td>\n",
       "      <td>Damaged-Rubble clear</td>\n",
       "      <td>Reconstruction</td>\n",
       "      <td>High Damage</td>\n",
       "    </tr>\n",
       "    <tr>\n",
       "      <th>758600</th>\n",
       "      <td>762105</td>\n",
       "      <td>366709001281</td>\n",
       "      <td>36</td>\n",
       "      <td>3603</td>\n",
       "      <td>360302</td>\n",
       "      <td>2</td>\n",
       "      <td>0</td>\n",
       "      <td>12</td>\n",
       "      <td>78.04</td>\n",
       "      <td>5.49</td>\n",
       "      <td>...</td>\n",
       "      <td>0</td>\n",
       "      <td>0</td>\n",
       "      <td>0</td>\n",
       "      <td>0</td>\n",
       "      <td>0</td>\n",
       "      <td>0</td>\n",
       "      <td>0</td>\n",
       "      <td>Damaged-Rubble clear</td>\n",
       "      <td>Reconstruction</td>\n",
       "      <td>High Damage</td>\n",
       "    </tr>\n",
       "  </tbody>\n",
       "</table>\n",
       "<p>758601 rows × 32 columns</p>\n",
       "</div>"
      ],
      "text/plain": [
       "        Unnamed: 0.1   building_id  district_id  vdcmun_id  ward_id  \\\n",
       "0                  0  120101000011           12       1207   120703   \n",
       "1                  1  120101000021           12       1207   120703   \n",
       "2                  2  120101000031           12       1207   120703   \n",
       "3                  3  120101000041           12       1207   120703   \n",
       "4                  4  120101000051           12       1207   120703   \n",
       "...              ...           ...          ...        ...      ...   \n",
       "758596        762101  366709001241           36       3603   360302   \n",
       "758597        762102  366709001251           36       3603   360302   \n",
       "758598        762103  366709001261           36       3603   360302   \n",
       "758599        762104  366709001271           36       3603   360302   \n",
       "758600        762105  366709001281           36       3603   360302   \n",
       "\n",
       "        count_floors_pre_eq  count_floors_post_eq  age_building  \\\n",
       "0                         1                     1             9   \n",
       "1                         1                     1            15   \n",
       "2                         1                     1            20   \n",
       "3                         1                     1            20   \n",
       "4                         1                     1            30   \n",
       "...                     ...                   ...           ...   \n",
       "758596                    2                     0            60   \n",
       "758597                    2                     0            35   \n",
       "758598                    2                     0            35   \n",
       "758599                    2                     0            19   \n",
       "758600                    2                     0            12   \n",
       "\n",
       "        plinth_area_sq_ft  height_ft_pre_eq  ...  \\\n",
       "0                   26.76              2.74  ...   \n",
       "1                   33.82              2.74  ...   \n",
       "2                   35.67              2.74  ...   \n",
       "3                   28.99              2.74  ...   \n",
       "4                   28.61              2.74  ...   \n",
       "...                   ...               ...  ...   \n",
       "758596              15.33              5.49  ...   \n",
       "758597              31.77              5.49  ...   \n",
       "758598              31.77              5.49  ...   \n",
       "758599              28.43              5.49  ...   \n",
       "758600              78.04              5.49  ...   \n",
       "\n",
       "        has_superstructure_mud_mortar_brick  \\\n",
       "0                                         0   \n",
       "1                                         0   \n",
       "2                                         0   \n",
       "3                                         0   \n",
       "4                                         0   \n",
       "...                                     ...   \n",
       "758596                                    0   \n",
       "758597                                    0   \n",
       "758598                                    0   \n",
       "758599                                    0   \n",
       "758600                                    0   \n",
       "\n",
       "       has_superstructure_cement_mortar_brick has_superstructure_timber  \\\n",
       "0                                           0                         0   \n",
       "1                                           0                         0   \n",
       "2                                           0                         0   \n",
       "3                                           0                         0   \n",
       "4                                           0                         0   \n",
       "...                                       ...                       ...   \n",
       "758596                                      0                         0   \n",
       "758597                                      0                         0   \n",
       "758598                                      0                         0   \n",
       "758599                                      0                         0   \n",
       "758600                                      0                         0   \n",
       "\n",
       "       has_superstructure_bamboo has_superstructure_rc_non_engineered  \\\n",
       "0                              1                                    0   \n",
       "1                              1                                    0   \n",
       "2                              0                                    0   \n",
       "3                              0                                    0   \n",
       "4                              0                                    0   \n",
       "...                          ...                                  ...   \n",
       "758596                         0                                    0   \n",
       "758597                         0                                    0   \n",
       "758598                         0                                    0   \n",
       "758599                         0                                    0   \n",
       "758600                         0                                    0   \n",
       "\n",
       "       has_superstructure_rc_engineered has_superstructure_other  \\\n",
       "0                                     0                        0   \n",
       "1                                     0                        0   \n",
       "2                                     0                        0   \n",
       "3                                     0                        0   \n",
       "4                                     0                        0   \n",
       "...                                 ...                      ...   \n",
       "758596                                0                        0   \n",
       "758597                                0                        0   \n",
       "758598                                0                        0   \n",
       "758599                                0                        0   \n",
       "758600                                0                        0   \n",
       "\n",
       "                condition_post_eq  technical_solution_proposed       damage  \n",
       "0            Damaged-Used in risk                 Major repair   Low Damage  \n",
       "1       Damaged-Repaired and used               Reconstruction  High Damage  \n",
       "2       Damaged-Repaired and used                 Minor repair   Low Damage  \n",
       "3       Damaged-Repaired and used                 Minor repair   Low Damage  \n",
       "4       Damaged-Repaired and used                 Minor repair   Low Damage  \n",
       "...                           ...                          ...          ...  \n",
       "758596       Damaged-Rubble clear               Reconstruction  High Damage  \n",
       "758597       Damaged-Rubble clear               Reconstruction  High Damage  \n",
       "758598       Damaged-Rubble clear               Reconstruction  High Damage  \n",
       "758599       Damaged-Rubble clear               Reconstruction  High Damage  \n",
       "758600       Damaged-Rubble clear               Reconstruction  High Damage  \n",
       "\n",
       "[758601 rows x 32 columns]"
      ]
     },
     "execution_count": 6,
     "metadata": {},
     "output_type": "execute_result"
    }
   ],
   "source": [
    "building"
   ]
  },
  {
   "cell_type": "markdown",
   "metadata": {},
   "source": [
    "## __AGE DISTRIBUTION__"
   ]
  },
  {
   "cell_type": "code",
   "execution_count": 7,
   "metadata": {},
   "outputs": [
    {
     "data": {
      "text/plain": [
       "15     49983\n",
       "20     46525\n",
       "10     39794\n",
       "25     37063\n",
       "12     36458\n",
       "30     30826\n",
       "5      29170\n",
       "3      24430\n",
       "4      23403\n",
       "7      23382\n",
       "8      22837\n",
       "22     22612\n",
       "2      21643\n",
       "6      20113\n",
       "40     19666\n",
       "18     19643\n",
       "1      19385\n",
       "14     17402\n",
       "35     16869\n",
       "16     16527\n",
       "13     15765\n",
       "9      15151\n",
       "50     14750\n",
       "17     14157\n",
       "11     11515\n",
       "27      9961\n",
       "32      9430\n",
       "26      8834\n",
       "21      8204\n",
       "24      7943\n",
       "28      7669\n",
       "19      7341\n",
       "45      7336\n",
       "60      7178\n",
       "23      6943\n",
       "0       4732\n",
       "80      4261\n",
       "70      3999\n",
       "36      3985\n",
       "42      3675\n",
       "55      3031\n",
       "37      3012\n",
       "29      2929\n",
       "31      2835\n",
       "33      2629\n",
       "34      2551\n",
       "38      2429\n",
       "100     1841\n",
       "65      1812\n",
       "44      1558\n",
       "Name: age_building, dtype: int64"
      ]
     },
     "execution_count": 7,
     "metadata": {},
     "output_type": "execute_result"
    }
   ],
   "source": [
    "building['age_building'].value_counts().iloc[:50]"
   ]
  },
  {
   "cell_type": "code",
   "execution_count": 8,
   "metadata": {},
   "outputs": [
    {
     "data": {
      "text/plain": [
       "[Text(0, 0, '15'),\n",
       " Text(0, 0, '20'),\n",
       " Text(0, 0, '10'),\n",
       " Text(0, 0, '25'),\n",
       " Text(0, 0, '12'),\n",
       " Text(0, 0, '30'),\n",
       " Text(0, 0, '5'),\n",
       " Text(0, 0, '3'),\n",
       " Text(0, 0, '4'),\n",
       " Text(0, 0, '7'),\n",
       " Text(0, 0, '8'),\n",
       " Text(0, 0, '22'),\n",
       " Text(0, 0, '2'),\n",
       " Text(0, 0, '6'),\n",
       " Text(0, 0, '40'),\n",
       " Text(0, 0, '18'),\n",
       " Text(0, 0, '1'),\n",
       " Text(0, 0, '14'),\n",
       " Text(0, 0, '35'),\n",
       " Text(0, 0, '16'),\n",
       " Text(0, 0, '13'),\n",
       " Text(0, 0, '9'),\n",
       " Text(0, 0, '50'),\n",
       " Text(0, 0, '17'),\n",
       " Text(0, 0, '11'),\n",
       " Text(0, 0, '27'),\n",
       " Text(0, 0, '32'),\n",
       " Text(0, 0, '26'),\n",
       " Text(0, 0, '21'),\n",
       " Text(0, 0, '24'),\n",
       " Text(0, 0, '28'),\n",
       " Text(0, 0, '19'),\n",
       " Text(0, 0, '45'),\n",
       " Text(0, 0, '60'),\n",
       " Text(0, 0, '23'),\n",
       " Text(0, 0, '0'),\n",
       " Text(0, 0, '80'),\n",
       " Text(0, 0, '70'),\n",
       " Text(0, 0, '36'),\n",
       " Text(0, 0, '42'),\n",
       " Text(0, 0, '55'),\n",
       " Text(0, 0, '37'),\n",
       " Text(0, 0, '29'),\n",
       " Text(0, 0, '31'),\n",
       " Text(0, 0, '33'),\n",
       " Text(0, 0, '34'),\n",
       " Text(0, 0, '38'),\n",
       " Text(0, 0, '100'),\n",
       " Text(0, 0, '65'),\n",
       " Text(0, 0, '44')]"
      ]
     },
     "execution_count": 8,
     "metadata": {},
     "output_type": "execute_result"
    },
    {
     "data": {
      "image/png": "[encoded data removed]",
      "text/plain": [
       "<Figure size 720x720 with 1 Axes>"
      ]
     },
     "metadata": {
      "needs_background": "light"
     },
     "output_type": "display_data"
    }
   ],
   "source": [
    "plt.figure(figsize = (10,10))\n",
    "a = sns.countplot(data=building, y='age_building', order = building['age_building'].value_counts().iloc[:50].index)\n",
    "a.set_title('Persebaran Umur Bangunan')\n",
    "a.set_xlabel('Jumlah')\n",
    "a.set_ylabel('Umur')\n",
    "a.set_yticklabels(building['age_building'].value_counts().iloc[:50].index)"
   ]
  },
  {
   "cell_type": "markdown",
   "metadata": {},
   "source": [
    "Persebaran data pada umur bangunan yang terbanyak adalah bangunan dengan umur 15 tahun dengan jumlah 49983, dan bangunan yang terbanyak yaitu bangunan yang berumur kurang dari 100 tahun"
   ]
  },
  {
   "cell_type": "markdown",
   "metadata": {},
   "source": [
    "## __DAMAGE__"
   ]
  },
  {
   "cell_type": "code",
   "execution_count": 9,
   "metadata": {},
   "outputs": [],
   "source": [
    "a = building['damage'].value_counts()"
   ]
  },
  {
   "cell_type": "code",
   "execution_count": 10,
   "metadata": {},
   "outputs": [],
   "source": [
    "a_df = pd.DataFrame(a)"
   ]
  },
  {
   "cell_type": "code",
   "execution_count": 11,
   "metadata": {},
   "outputs": [
    {
     "data": {
      "text/html": [
       "<div>\n",
       "<style scoped>\n",
       "    .dataframe tbody tr th:only-of-type {\n",
       "        vertical-align: middle;\n",
       "    }\n",
       "\n",
       "    .dataframe tbody tr th {\n",
       "        vertical-align: top;\n",
       "    }\n",
       "\n",
       "    .dataframe thead th {\n",
       "        text-align: right;\n",
       "    }\n",
       "</style>\n",
       "<table border=\"1\" class=\"dataframe\">\n",
       "  <thead>\n",
       "    <tr style=\"text-align: right;\">\n",
       "      <th></th>\n",
       "      <th>damage</th>\n",
       "    </tr>\n",
       "  </thead>\n",
       "  <tbody>\n",
       "    <tr>\n",
       "      <th>High Damage</th>\n",
       "      <td>457542</td>\n",
       "    </tr>\n",
       "    <tr>\n",
       "      <th>Low Damage</th>\n",
       "      <td>301059</td>\n",
       "    </tr>\n",
       "  </tbody>\n",
       "</table>\n",
       "</div>"
      ],
      "text/plain": [
       "             damage\n",
       "High Damage  457542\n",
       "Low Damage   301059"
      ]
     },
     "execution_count": 11,
     "metadata": {},
     "output_type": "execute_result"
    }
   ],
   "source": [
    "a_df"
   ]
  },
  {
   "cell_type": "code",
   "execution_count": 88,
   "metadata": {},
   "outputs": [
    {
     "data": {
      "image/png": "[encoded data removed]",
      "text/plain": [
       "<Figure size 720x360 with 1 Axes>"
      ]
     },
     "metadata": {},
     "output_type": "display_data"
    },
    {
     "data": {
      "text/plain": [
       "<Figure size 432x288 with 0 Axes>"
      ]
     },
     "metadata": {},
     "output_type": "display_data"
    }
   ],
   "source": [
    "plt.figure(figsize=(10,5))\n",
    "plt.title('Presentase Kerusakan pada Kasus Gempa Bumi')\n",
    "plt.pie(a_df['damage'], labels=list(a_df.index),\n",
    "       autopct='%.2f%%')\n",
    "plt.show()\n",
    "\n",
    "#plt.savefig('C:\\\\Users\\\\ASUS\\\\Desktop\\\\Project Earthquake\\\\pie.png', dpi=300, bbox_inches='tight')"
   ]
  },
  {
   "cell_type": "code",
   "execution_count": 13,
   "metadata": {},
   "outputs": [
    {
     "name": "stderr",
     "output_type": "stream",
     "text": [
      "D:\\anaconda3\\lib\\site-packages\\seaborn\\_decorators.py:36: FutureWarning: Pass the following variable as a keyword arg: x. From version 0.12, the only valid positional argument will be `data`, and passing other arguments without an explicit keyword will result in an error or misinterpretation.\n",
      "  warnings.warn(\n"
     ]
    },
    {
     "data": {
      "image/png": "[encoded data removed]",
      "text/plain": [
       "<Figure size 720x720 with 1 Axes>"
      ]
     },
     "metadata": {
      "needs_background": "light"
     },
     "output_type": "display_data"
    }
   ],
   "source": [
    "plt.figure(figsize=(10,10))\n",
    "plt.title(\"Persebaran Kerusakan pada Kasus Gempa Bumi\")\n",
    "sns.countplot(building['damage'])\n",
    "plt.show()"
   ]
  },
  {
   "cell_type": "markdown",
   "metadata": {},
   "source": [
    "Pada Grafik tersebut, bangunan yang memiliki High-Risk lebih tinggi, sekitar 457542 atau 60.31% dari jumlah kasus, diikuti oleh bangunan yang memiliki Low-Risk"
   ]
  },
  {
   "cell_type": "markdown",
   "metadata": {},
   "source": [
    "## __DISTRICT__"
   ]
  },
  {
   "cell_type": "code",
   "execution_count": 14,
   "metadata": {},
   "outputs": [
    {
     "data": {
      "text/html": [
       "<div>\n",
       "<style scoped>\n",
       "    .dataframe tbody tr th:only-of-type {\n",
       "        vertical-align: middle;\n",
       "    }\n",
       "\n",
       "    .dataframe tbody tr th {\n",
       "        vertical-align: top;\n",
       "    }\n",
       "\n",
       "    .dataframe thead th {\n",
       "        text-align: right;\n",
       "    }\n",
       "</style>\n",
       "<table border=\"1\" class=\"dataframe\">\n",
       "  <thead>\n",
       "    <tr style=\"text-align: right;\">\n",
       "      <th></th>\n",
       "      <th>Unnamed: 0.1</th>\n",
       "      <th>building_id</th>\n",
       "      <th>district_id</th>\n",
       "      <th>vdcmun_id</th>\n",
       "      <th>ward_id</th>\n",
       "      <th>count_floors_pre_eq</th>\n",
       "      <th>count_floors_post_eq</th>\n",
       "      <th>age_building</th>\n",
       "      <th>plinth_area_sq_ft</th>\n",
       "      <th>height_ft_pre_eq</th>\n",
       "      <th>...</th>\n",
       "      <th>has_superstructure_mud_mortar_brick</th>\n",
       "      <th>has_superstructure_cement_mortar_brick</th>\n",
       "      <th>has_superstructure_timber</th>\n",
       "      <th>has_superstructure_bamboo</th>\n",
       "      <th>has_superstructure_rc_non_engineered</th>\n",
       "      <th>has_superstructure_rc_engineered</th>\n",
       "      <th>has_superstructure_other</th>\n",
       "      <th>condition_post_eq</th>\n",
       "      <th>technical_solution_proposed</th>\n",
       "      <th>damage</th>\n",
       "    </tr>\n",
       "  </thead>\n",
       "  <tbody>\n",
       "    <tr>\n",
       "      <th>0</th>\n",
       "      <td>0</td>\n",
       "      <td>120101000011</td>\n",
       "      <td>12</td>\n",
       "      <td>1207</td>\n",
       "      <td>120703</td>\n",
       "      <td>1</td>\n",
       "      <td>1</td>\n",
       "      <td>9</td>\n",
       "      <td>26.76</td>\n",
       "      <td>2.74</td>\n",
       "      <td>...</td>\n",
       "      <td>0</td>\n",
       "      <td>0</td>\n",
       "      <td>0</td>\n",
       "      <td>1</td>\n",
       "      <td>0</td>\n",
       "      <td>0</td>\n",
       "      <td>0</td>\n",
       "      <td>Damaged-Used in risk</td>\n",
       "      <td>Major repair</td>\n",
       "      <td>Low Damage</td>\n",
       "    </tr>\n",
       "    <tr>\n",
       "      <th>1</th>\n",
       "      <td>1</td>\n",
       "      <td>120101000021</td>\n",
       "      <td>12</td>\n",
       "      <td>1207</td>\n",
       "      <td>120703</td>\n",
       "      <td>1</td>\n",
       "      <td>1</td>\n",
       "      <td>15</td>\n",
       "      <td>33.82</td>\n",
       "      <td>2.74</td>\n",
       "      <td>...</td>\n",
       "      <td>0</td>\n",
       "      <td>0</td>\n",
       "      <td>0</td>\n",
       "      <td>1</td>\n",
       "      <td>0</td>\n",
       "      <td>0</td>\n",
       "      <td>0</td>\n",
       "      <td>Damaged-Repaired and used</td>\n",
       "      <td>Reconstruction</td>\n",
       "      <td>High Damage</td>\n",
       "    </tr>\n",
       "    <tr>\n",
       "      <th>2</th>\n",
       "      <td>2</td>\n",
       "      <td>120101000031</td>\n",
       "      <td>12</td>\n",
       "      <td>1207</td>\n",
       "      <td>120703</td>\n",
       "      <td>1</td>\n",
       "      <td>1</td>\n",
       "      <td>20</td>\n",
       "      <td>35.67</td>\n",
       "      <td>2.74</td>\n",
       "      <td>...</td>\n",
       "      <td>0</td>\n",
       "      <td>0</td>\n",
       "      <td>0</td>\n",
       "      <td>0</td>\n",
       "      <td>0</td>\n",
       "      <td>0</td>\n",
       "      <td>0</td>\n",
       "      <td>Damaged-Repaired and used</td>\n",
       "      <td>Minor repair</td>\n",
       "      <td>Low Damage</td>\n",
       "    </tr>\n",
       "    <tr>\n",
       "      <th>3</th>\n",
       "      <td>3</td>\n",
       "      <td>120101000041</td>\n",
       "      <td>12</td>\n",
       "      <td>1207</td>\n",
       "      <td>120703</td>\n",
       "      <td>1</td>\n",
       "      <td>1</td>\n",
       "      <td>20</td>\n",
       "      <td>28.99</td>\n",
       "      <td>2.74</td>\n",
       "      <td>...</td>\n",
       "      <td>0</td>\n",
       "      <td>0</td>\n",
       "      <td>0</td>\n",
       "      <td>0</td>\n",
       "      <td>0</td>\n",
       "      <td>0</td>\n",
       "      <td>0</td>\n",
       "      <td>Damaged-Repaired and used</td>\n",
       "      <td>Minor repair</td>\n",
       "      <td>Low Damage</td>\n",
       "    </tr>\n",
       "    <tr>\n",
       "      <th>4</th>\n",
       "      <td>4</td>\n",
       "      <td>120101000051</td>\n",
       "      <td>12</td>\n",
       "      <td>1207</td>\n",
       "      <td>120703</td>\n",
       "      <td>1</td>\n",
       "      <td>1</td>\n",
       "      <td>30</td>\n",
       "      <td>28.61</td>\n",
       "      <td>2.74</td>\n",
       "      <td>...</td>\n",
       "      <td>0</td>\n",
       "      <td>0</td>\n",
       "      <td>0</td>\n",
       "      <td>0</td>\n",
       "      <td>0</td>\n",
       "      <td>0</td>\n",
       "      <td>0</td>\n",
       "      <td>Damaged-Repaired and used</td>\n",
       "      <td>Minor repair</td>\n",
       "      <td>Low Damage</td>\n",
       "    </tr>\n",
       "  </tbody>\n",
       "</table>\n",
       "<p>5 rows × 32 columns</p>\n",
       "</div>"
      ],
      "text/plain": [
       "   Unnamed: 0.1   building_id  district_id  vdcmun_id  ward_id  \\\n",
       "0             0  120101000011           12       1207   120703   \n",
       "1             1  120101000021           12       1207   120703   \n",
       "2             2  120101000031           12       1207   120703   \n",
       "3             3  120101000041           12       1207   120703   \n",
       "4             4  120101000051           12       1207   120703   \n",
       "\n",
       "   count_floors_pre_eq  count_floors_post_eq  age_building  plinth_area_sq_ft  \\\n",
       "0                    1                     1             9              26.76   \n",
       "1                    1                     1            15              33.82   \n",
       "2                    1                     1            20              35.67   \n",
       "3                    1                     1            20              28.99   \n",
       "4                    1                     1            30              28.61   \n",
       "\n",
       "   height_ft_pre_eq  ...  has_superstructure_mud_mortar_brick  \\\n",
       "0              2.74  ...                                    0   \n",
       "1              2.74  ...                                    0   \n",
       "2              2.74  ...                                    0   \n",
       "3              2.74  ...                                    0   \n",
       "4              2.74  ...                                    0   \n",
       "\n",
       "  has_superstructure_cement_mortar_brick has_superstructure_timber  \\\n",
       "0                                      0                         0   \n",
       "1                                      0                         0   \n",
       "2                                      0                         0   \n",
       "3                                      0                         0   \n",
       "4                                      0                         0   \n",
       "\n",
       "  has_superstructure_bamboo has_superstructure_rc_non_engineered  \\\n",
       "0                         1                                    0   \n",
       "1                         1                                    0   \n",
       "2                         0                                    0   \n",
       "3                         0                                    0   \n",
       "4                         0                                    0   \n",
       "\n",
       "  has_superstructure_rc_engineered has_superstructure_other  \\\n",
       "0                                0                        0   \n",
       "1                                0                        0   \n",
       "2                                0                        0   \n",
       "3                                0                        0   \n",
       "4                                0                        0   \n",
       "\n",
       "           condition_post_eq  technical_solution_proposed       damage  \n",
       "0       Damaged-Used in risk                 Major repair   Low Damage  \n",
       "1  Damaged-Repaired and used               Reconstruction  High Damage  \n",
       "2  Damaged-Repaired and used                 Minor repair   Low Damage  \n",
       "3  Damaged-Repaired and used                 Minor repair   Low Damage  \n",
       "4  Damaged-Repaired and used                 Minor repair   Low Damage  \n",
       "\n",
       "[5 rows x 32 columns]"
      ]
     },
     "execution_count": 14,
     "metadata": {},
     "output_type": "execute_result"
    }
   ],
   "source": [
    "building.head()"
   ]
  },
  {
   "cell_type": "code",
   "execution_count": 15,
   "metadata": {},
   "outputs": [
    {
     "data": {
      "text/html": [
       "<div>\n",
       "<style scoped>\n",
       "    .dataframe tbody tr th:only-of-type {\n",
       "        vertical-align: middle;\n",
       "    }\n",
       "\n",
       "    .dataframe tbody tr th {\n",
       "        vertical-align: top;\n",
       "    }\n",
       "\n",
       "    .dataframe thead th {\n",
       "        text-align: right;\n",
       "    }\n",
       "</style>\n",
       "<table border=\"1\" class=\"dataframe\">\n",
       "  <thead>\n",
       "    <tr style=\"text-align: right;\">\n",
       "      <th></th>\n",
       "      <th>ward_id</th>\n",
       "      <th>vdcmun_id</th>\n",
       "      <th>vdcmun_name</th>\n",
       "      <th>district_id</th>\n",
       "      <th>district_name</th>\n",
       "    </tr>\n",
       "  </thead>\n",
       "  <tbody>\n",
       "    <tr>\n",
       "      <th>0</th>\n",
       "      <td>120101</td>\n",
       "      <td>1201</td>\n",
       "      <td>Champadevi Rural Municipality</td>\n",
       "      <td>12</td>\n",
       "      <td>Okhaldhunga</td>\n",
       "    </tr>\n",
       "    <tr>\n",
       "      <th>1</th>\n",
       "      <td>120102</td>\n",
       "      <td>1201</td>\n",
       "      <td>Champadevi Rural Municipality</td>\n",
       "      <td>12</td>\n",
       "      <td>Okhaldhunga</td>\n",
       "    </tr>\n",
       "    <tr>\n",
       "      <th>2</th>\n",
       "      <td>120103</td>\n",
       "      <td>1201</td>\n",
       "      <td>Champadevi Rural Municipality</td>\n",
       "      <td>12</td>\n",
       "      <td>Okhaldhunga</td>\n",
       "    </tr>\n",
       "    <tr>\n",
       "      <th>3</th>\n",
       "      <td>120104</td>\n",
       "      <td>1201</td>\n",
       "      <td>Champadevi Rural Municipality</td>\n",
       "      <td>12</td>\n",
       "      <td>Okhaldhunga</td>\n",
       "    </tr>\n",
       "    <tr>\n",
       "      <th>4</th>\n",
       "      <td>120105</td>\n",
       "      <td>1201</td>\n",
       "      <td>Champadevi Rural Municipality</td>\n",
       "      <td>12</td>\n",
       "      <td>Okhaldhunga</td>\n",
       "    </tr>\n",
       "  </tbody>\n",
       "</table>\n",
       "</div>"
      ],
      "text/plain": [
       "   ward_id  vdcmun_id                    vdcmun_name  district_id  \\\n",
       "0   120101       1201  Champadevi Rural Municipality           12   \n",
       "1   120102       1201  Champadevi Rural Municipality           12   \n",
       "2   120103       1201  Champadevi Rural Municipality           12   \n",
       "3   120104       1201  Champadevi Rural Municipality           12   \n",
       "4   120105       1201  Champadevi Rural Municipality           12   \n",
       "\n",
       "  district_name  \n",
       "0   Okhaldhunga  \n",
       "1   Okhaldhunga  \n",
       "2   Okhaldhunga  \n",
       "3   Okhaldhunga  \n",
       "4   Okhaldhunga  "
      ]
     },
     "execution_count": 15,
     "metadata": {},
     "output_type": "execute_result"
    }
   ],
   "source": [
    "ward.head()"
   ]
  },
  {
   "cell_type": "code",
   "execution_count": 16,
   "metadata": {},
   "outputs": [],
   "source": [
    "dis = pd.merge(ward,building['district_id'], how='left', on='district_id')"
   ]
  },
  {
   "cell_type": "code",
   "execution_count": 17,
   "metadata": {},
   "outputs": [
    {
     "data": {
      "text/html": [
       "<div>\n",
       "<style scoped>\n",
       "    .dataframe tbody tr th:only-of-type {\n",
       "        vertical-align: middle;\n",
       "    }\n",
       "\n",
       "    .dataframe tbody tr th {\n",
       "        vertical-align: top;\n",
       "    }\n",
       "\n",
       "    .dataframe thead th {\n",
       "        text-align: right;\n",
       "    }\n",
       "</style>\n",
       "<table border=\"1\" class=\"dataframe\">\n",
       "  <thead>\n",
       "    <tr style=\"text-align: right;\">\n",
       "      <th></th>\n",
       "      <th>ward_id</th>\n",
       "      <th>vdcmun_id</th>\n",
       "      <th>vdcmun_name</th>\n",
       "      <th>district_id</th>\n",
       "      <th>district_name</th>\n",
       "    </tr>\n",
       "  </thead>\n",
       "  <tbody>\n",
       "    <tr>\n",
       "      <th>0</th>\n",
       "      <td>120101</td>\n",
       "      <td>1201</td>\n",
       "      <td>Champadevi Rural Municipality</td>\n",
       "      <td>12</td>\n",
       "      <td>Okhaldhunga</td>\n",
       "    </tr>\n",
       "    <tr>\n",
       "      <th>1</th>\n",
       "      <td>120101</td>\n",
       "      <td>1201</td>\n",
       "      <td>Champadevi Rural Municipality</td>\n",
       "      <td>12</td>\n",
       "      <td>Okhaldhunga</td>\n",
       "    </tr>\n",
       "    <tr>\n",
       "      <th>2</th>\n",
       "      <td>120101</td>\n",
       "      <td>1201</td>\n",
       "      <td>Champadevi Rural Municipality</td>\n",
       "      <td>12</td>\n",
       "      <td>Okhaldhunga</td>\n",
       "    </tr>\n",
       "    <tr>\n",
       "      <th>3</th>\n",
       "      <td>120101</td>\n",
       "      <td>1201</td>\n",
       "      <td>Champadevi Rural Municipality</td>\n",
       "      <td>12</td>\n",
       "      <td>Okhaldhunga</td>\n",
       "    </tr>\n",
       "    <tr>\n",
       "      <th>4</th>\n",
       "      <td>120101</td>\n",
       "      <td>1201</td>\n",
       "      <td>Champadevi Rural Municipality</td>\n",
       "      <td>12</td>\n",
       "      <td>Okhaldhunga</td>\n",
       "    </tr>\n",
       "    <tr>\n",
       "      <th>...</th>\n",
       "      <td>...</td>\n",
       "      <td>...</td>\n",
       "      <td>...</td>\n",
       "      <td>...</td>\n",
       "      <td>...</td>\n",
       "    </tr>\n",
       "    <tr>\n",
       "      <th>71997958</th>\n",
       "      <td>361108</td>\n",
       "      <td>3611</td>\n",
       "      <td>Siranchowk Rural Municipality</td>\n",
       "      <td>36</td>\n",
       "      <td>Gorkha</td>\n",
       "    </tr>\n",
       "    <tr>\n",
       "      <th>71997959</th>\n",
       "      <td>361108</td>\n",
       "      <td>3611</td>\n",
       "      <td>Siranchowk Rural Municipality</td>\n",
       "      <td>36</td>\n",
       "      <td>Gorkha</td>\n",
       "    </tr>\n",
       "    <tr>\n",
       "      <th>71997960</th>\n",
       "      <td>361108</td>\n",
       "      <td>3611</td>\n",
       "      <td>Siranchowk Rural Municipality</td>\n",
       "      <td>36</td>\n",
       "      <td>Gorkha</td>\n",
       "    </tr>\n",
       "    <tr>\n",
       "      <th>71997961</th>\n",
       "      <td>361108</td>\n",
       "      <td>3611</td>\n",
       "      <td>Siranchowk Rural Municipality</td>\n",
       "      <td>36</td>\n",
       "      <td>Gorkha</td>\n",
       "    </tr>\n",
       "    <tr>\n",
       "      <th>71997962</th>\n",
       "      <td>361108</td>\n",
       "      <td>3611</td>\n",
       "      <td>Siranchowk Rural Municipality</td>\n",
       "      <td>36</td>\n",
       "      <td>Gorkha</td>\n",
       "    </tr>\n",
       "  </tbody>\n",
       "</table>\n",
       "<p>71997963 rows × 5 columns</p>\n",
       "</div>"
      ],
      "text/plain": [
       "          ward_id  vdcmun_id                    vdcmun_name  district_id  \\\n",
       "0          120101       1201  Champadevi Rural Municipality           12   \n",
       "1          120101       1201  Champadevi Rural Municipality           12   \n",
       "2          120101       1201  Champadevi Rural Municipality           12   \n",
       "3          120101       1201  Champadevi Rural Municipality           12   \n",
       "4          120101       1201  Champadevi Rural Municipality           12   \n",
       "...           ...        ...                            ...          ...   \n",
       "71997958   361108       3611  Siranchowk Rural Municipality           36   \n",
       "71997959   361108       3611  Siranchowk Rural Municipality           36   \n",
       "71997960   361108       3611  Siranchowk Rural Municipality           36   \n",
       "71997961   361108       3611  Siranchowk Rural Municipality           36   \n",
       "71997962   361108       3611  Siranchowk Rural Municipality           36   \n",
       "\n",
       "         district_name  \n",
       "0          Okhaldhunga  \n",
       "1          Okhaldhunga  \n",
       "2          Okhaldhunga  \n",
       "3          Okhaldhunga  \n",
       "4          Okhaldhunga  \n",
       "...                ...  \n",
       "71997958        Gorkha  \n",
       "71997959        Gorkha  \n",
       "71997960        Gorkha  \n",
       "71997961        Gorkha  \n",
       "71997962        Gorkha  \n",
       "\n",
       "[71997963 rows x 5 columns]"
      ]
     },
     "execution_count": 17,
     "metadata": {},
     "output_type": "execute_result"
    }
   ],
   "source": [
    "dis"
   ]
  },
  {
   "cell_type": "code",
   "execution_count": 18,
   "metadata": {},
   "outputs": [
    {
     "data": {
      "text/plain": [
       "Kavrepalanchok    13085415\n",
       "Makwanpur          9302857\n",
       "Sindhupalchok      9291030\n",
       "Dhading            9242168\n",
       "Gorkha             7304458\n",
       "Nuwakot            6844812\n",
       "Sindhuli           5430618\n",
       "Dolakha            4471376\n",
       "Ramechhap          3744000\n",
       "Okhaldhunga        2945025\n",
       "Rasuwa              336204\n",
       "Name: district_name, dtype: int64"
      ]
     },
     "execution_count": 18,
     "metadata": {},
     "output_type": "execute_result"
    }
   ],
   "source": [
    "dis[\"district_name\"].value_counts()"
   ]
  },
  {
   "cell_type": "code",
   "execution_count": 89,
   "metadata": {},
   "outputs": [
    {
     "name": "stderr",
     "output_type": "stream",
     "text": [
      "D:\\anaconda3\\lib\\site-packages\\seaborn\\_decorators.py:36: FutureWarning: Pass the following variable as a keyword arg: x. From version 0.12, the only valid positional argument will be `data`, and passing other arguments without an explicit keyword will result in an error or misinterpretation.\n",
      "  warnings.warn(\n"
     ]
    },
    {
     "data": {
      "image/png": "[encoded data removed]",
      "text/plain": [
       "<Figure size 432x288 with 1 Axes>"
      ]
     },
     "metadata": {
      "needs_background": "light"
     },
     "output_type": "display_data"
    },
    {
     "data": {
      "text/plain": [
       "<Figure size 432x288 with 0 Axes>"
      ]
     },
     "metadata": {},
     "output_type": "display_data"
    }
   ],
   "source": [
    "sns.countplot(dis['district_name'])\n",
    "plt.xticks(rotation=90)\n",
    "plt.show()\n",
    "\n",
    "#plt.savefig('C:\\\\Users\\\\ASUS\\\\Desktop\\\\Project Earthquake\\\\district.png', dpi=300, bbox_inches='tight')"
   ]
  },
  {
   "cell_type": "markdown",
   "metadata": {},
   "source": [
    "Untuk kasus gempa district yang paling banyak mengalami kerusakan berada di district Kavrepalanchok dan paling sedikit berada di district Rasuwa"
   ]
  },
  {
   "cell_type": "code",
   "execution_count": 20,
   "metadata": {},
   "outputs": [
    {
     "data": {
      "text/plain": [
       "Hetauda Sub-Metropolitian City       1716061\n",
       "Sunkoshi Rural Municipality          1493266\n",
       "Banepa Municipality                  1357006\n",
       "Panchkhal Municipality               1260077\n",
       "Neelakantha Municipality             1244138\n",
       "                                      ...   \n",
       "Gosaikunda Rural Municipality          74712\n",
       "Naukunda Rural Municipality            74712\n",
       "Uttargaya Rural Municipality           62260\n",
       "Aamachhodingmo Rural Municipality      62260\n",
       "Kalika Rural Municipality              62260\n",
       "Name: vdcmun_name, Length: 108, dtype: int64"
      ]
     },
     "execution_count": 20,
     "metadata": {},
     "output_type": "execute_result"
    }
   ],
   "source": [
    "dis[\"vdcmun_name\"].value_counts()"
   ]
  },
  {
   "cell_type": "markdown",
   "metadata": {},
   "source": [
    "Dan untuk kota yang paling banyak mengalami kerusakan adalah kota Hetauda Sub-Metropolitian City di distrik Makwanpur"
   ]
  },
  {
   "cell_type": "code",
   "execution_count": 21,
   "metadata": {},
   "outputs": [
    {
     "name": "stderr",
     "output_type": "stream",
     "text": [
      "D:\\anaconda3\\lib\\site-packages\\seaborn\\_decorators.py:36: FutureWarning: Pass the following variable as a keyword arg: x. From version 0.12, the only valid positional argument will be `data`, and passing other arguments without an explicit keyword will result in an error or misinterpretation.\n",
      "  warnings.warn(\n"
     ]
    },
    {
     "data": {
      "image/png": "[encoded data removed]",
      "text/plain": [
       "<Figure size 864x576 with 1 Axes>"
      ]
     },
     "metadata": {
      "needs_background": "light"
     },
     "output_type": "display_data"
    }
   ],
   "source": [
    "plt.figure(figsize=(12,8))\n",
    "sns.countplot(building['district_id'], hue=building['damage'])\n",
    "plt.show()"
   ]
  },
  {
   "cell_type": "code",
   "execution_count": 22,
   "metadata": {},
   "outputs": [
    {
     "data": {
      "text/html": [
       "<div>\n",
       "<style scoped>\n",
       "    .dataframe tbody tr th:only-of-type {\n",
       "        vertical-align: middle;\n",
       "    }\n",
       "\n",
       "    .dataframe tbody tr th {\n",
       "        vertical-align: top;\n",
       "    }\n",
       "\n",
       "    .dataframe thead th {\n",
       "        text-align: right;\n",
       "    }\n",
       "</style>\n",
       "<table border=\"1\" class=\"dataframe\">\n",
       "  <thead>\n",
       "    <tr style=\"text-align: right;\">\n",
       "      <th></th>\n",
       "      <th>ward_id</th>\n",
       "      <th>vdcmun_id</th>\n",
       "      <th>vdcmun_name</th>\n",
       "      <th>district_id</th>\n",
       "      <th>district_name</th>\n",
       "    </tr>\n",
       "  </thead>\n",
       "  <tbody>\n",
       "    <tr>\n",
       "      <th>16591019</th>\n",
       "      <td>230101</td>\n",
       "      <td>2301</td>\n",
       "      <td>Bahrabise Municipality</td>\n",
       "      <td>23</td>\n",
       "      <td>Sindhupalchok</td>\n",
       "    </tr>\n",
       "    <tr>\n",
       "      <th>16591020</th>\n",
       "      <td>230101</td>\n",
       "      <td>2301</td>\n",
       "      <td>Bahrabise Municipality</td>\n",
       "      <td>23</td>\n",
       "      <td>Sindhupalchok</td>\n",
       "    </tr>\n",
       "    <tr>\n",
       "      <th>16591021</th>\n",
       "      <td>230101</td>\n",
       "      <td>2301</td>\n",
       "      <td>Bahrabise Municipality</td>\n",
       "      <td>23</td>\n",
       "      <td>Sindhupalchok</td>\n",
       "    </tr>\n",
       "    <tr>\n",
       "      <th>16591022</th>\n",
       "      <td>230101</td>\n",
       "      <td>2301</td>\n",
       "      <td>Bahrabise Municipality</td>\n",
       "      <td>23</td>\n",
       "      <td>Sindhupalchok</td>\n",
       "    </tr>\n",
       "    <tr>\n",
       "      <th>16591023</th>\n",
       "      <td>230101</td>\n",
       "      <td>2301</td>\n",
       "      <td>Bahrabise Municipality</td>\n",
       "      <td>23</td>\n",
       "      <td>Sindhupalchok</td>\n",
       "    </tr>\n",
       "    <tr>\n",
       "      <th>...</th>\n",
       "      <td>...</td>\n",
       "      <td>...</td>\n",
       "      <td>...</td>\n",
       "      <td>...</td>\n",
       "      <td>...</td>\n",
       "    </tr>\n",
       "    <tr>\n",
       "      <th>25882044</th>\n",
       "      <td>231306</td>\n",
       "      <td>2313</td>\n",
       "      <td>Tripurasundari Rural Municipality</td>\n",
       "      <td>23</td>\n",
       "      <td>Sindhupalchok</td>\n",
       "    </tr>\n",
       "    <tr>\n",
       "      <th>25882045</th>\n",
       "      <td>231306</td>\n",
       "      <td>2313</td>\n",
       "      <td>Tripurasundari Rural Municipality</td>\n",
       "      <td>23</td>\n",
       "      <td>Sindhupalchok</td>\n",
       "    </tr>\n",
       "    <tr>\n",
       "      <th>25882046</th>\n",
       "      <td>231306</td>\n",
       "      <td>2313</td>\n",
       "      <td>Tripurasundari Rural Municipality</td>\n",
       "      <td>23</td>\n",
       "      <td>Sindhupalchok</td>\n",
       "    </tr>\n",
       "    <tr>\n",
       "      <th>25882047</th>\n",
       "      <td>231306</td>\n",
       "      <td>2313</td>\n",
       "      <td>Tripurasundari Rural Municipality</td>\n",
       "      <td>23</td>\n",
       "      <td>Sindhupalchok</td>\n",
       "    </tr>\n",
       "    <tr>\n",
       "      <th>25882048</th>\n",
       "      <td>231306</td>\n",
       "      <td>2313</td>\n",
       "      <td>Tripurasundari Rural Municipality</td>\n",
       "      <td>23</td>\n",
       "      <td>Sindhupalchok</td>\n",
       "    </tr>\n",
       "  </tbody>\n",
       "</table>\n",
       "<p>9291030 rows × 5 columns</p>\n",
       "</div>"
      ],
      "text/plain": [
       "          ward_id  vdcmun_id                        vdcmun_name  district_id  \\\n",
       "16591019   230101       2301             Bahrabise Municipality           23   \n",
       "16591020   230101       2301             Bahrabise Municipality           23   \n",
       "16591021   230101       2301             Bahrabise Municipality           23   \n",
       "16591022   230101       2301             Bahrabise Municipality           23   \n",
       "16591023   230101       2301             Bahrabise Municipality           23   \n",
       "...           ...        ...                                ...          ...   \n",
       "25882044   231306       2313  Tripurasundari Rural Municipality           23   \n",
       "25882045   231306       2313  Tripurasundari Rural Municipality           23   \n",
       "25882046   231306       2313  Tripurasundari Rural Municipality           23   \n",
       "25882047   231306       2313  Tripurasundari Rural Municipality           23   \n",
       "25882048   231306       2313  Tripurasundari Rural Municipality           23   \n",
       "\n",
       "          district_name  \n",
       "16591019  Sindhupalchok  \n",
       "16591020  Sindhupalchok  \n",
       "16591021  Sindhupalchok  \n",
       "16591022  Sindhupalchok  \n",
       "16591023  Sindhupalchok  \n",
       "...                 ...  \n",
       "25882044  Sindhupalchok  \n",
       "25882045  Sindhupalchok  \n",
       "25882046  Sindhupalchok  \n",
       "25882047  Sindhupalchok  \n",
       "25882048  Sindhupalchok  \n",
       "\n",
       "[9291030 rows x 5 columns]"
      ]
     },
     "execution_count": 22,
     "metadata": {},
     "output_type": "execute_result"
    }
   ],
   "source": [
    "dis[dis[\"district_id\"] == 23]"
   ]
  },
  {
   "cell_type": "code",
   "execution_count": 23,
   "metadata": {},
   "outputs": [
    {
     "data": {
      "text/html": [
       "<div>\n",
       "<style scoped>\n",
       "    .dataframe tbody tr th:only-of-type {\n",
       "        vertical-align: middle;\n",
       "    }\n",
       "\n",
       "    .dataframe tbody tr th {\n",
       "        vertical-align: top;\n",
       "    }\n",
       "\n",
       "    .dataframe thead th {\n",
       "        text-align: right;\n",
       "    }\n",
       "</style>\n",
       "<table border=\"1\" class=\"dataframe\">\n",
       "  <thead>\n",
       "    <tr style=\"text-align: right;\">\n",
       "      <th></th>\n",
       "      <th>ward_id</th>\n",
       "      <th>vdcmun_id</th>\n",
       "      <th>vdcmun_name</th>\n",
       "      <th>district_id</th>\n",
       "      <th>district_name</th>\n",
       "    </tr>\n",
       "  </thead>\n",
       "  <tbody>\n",
       "    <tr>\n",
       "      <th>55390648</th>\n",
       "      <td>310101</td>\n",
       "      <td>3101</td>\n",
       "      <td>Bagmati Rural Municipality</td>\n",
       "      <td>31</td>\n",
       "      <td>Makwanpur</td>\n",
       "    </tr>\n",
       "    <tr>\n",
       "      <th>55390649</th>\n",
       "      <td>310101</td>\n",
       "      <td>3101</td>\n",
       "      <td>Bagmati Rural Municipality</td>\n",
       "      <td>31</td>\n",
       "      <td>Makwanpur</td>\n",
       "    </tr>\n",
       "    <tr>\n",
       "      <th>55390650</th>\n",
       "      <td>310101</td>\n",
       "      <td>3101</td>\n",
       "      <td>Bagmati Rural Municipality</td>\n",
       "      <td>31</td>\n",
       "      <td>Makwanpur</td>\n",
       "    </tr>\n",
       "    <tr>\n",
       "      <th>55390651</th>\n",
       "      <td>310101</td>\n",
       "      <td>3101</td>\n",
       "      <td>Bagmati Rural Municipality</td>\n",
       "      <td>31</td>\n",
       "      <td>Makwanpur</td>\n",
       "    </tr>\n",
       "    <tr>\n",
       "      <th>55390652</th>\n",
       "      <td>310101</td>\n",
       "      <td>3101</td>\n",
       "      <td>Bagmati Rural Municipality</td>\n",
       "      <td>31</td>\n",
       "      <td>Makwanpur</td>\n",
       "    </tr>\n",
       "    <tr>\n",
       "      <th>...</th>\n",
       "      <td>...</td>\n",
       "      <td>...</td>\n",
       "      <td>...</td>\n",
       "      <td>...</td>\n",
       "      <td>...</td>\n",
       "    </tr>\n",
       "    <tr>\n",
       "      <th>64693500</th>\n",
       "      <td>311112</td>\n",
       "      <td>3111</td>\n",
       "      <td>Thaha Municipality</td>\n",
       "      <td>31</td>\n",
       "      <td>Makwanpur</td>\n",
       "    </tr>\n",
       "    <tr>\n",
       "      <th>64693501</th>\n",
       "      <td>311112</td>\n",
       "      <td>3111</td>\n",
       "      <td>Thaha Municipality</td>\n",
       "      <td>31</td>\n",
       "      <td>Makwanpur</td>\n",
       "    </tr>\n",
       "    <tr>\n",
       "      <th>64693502</th>\n",
       "      <td>311112</td>\n",
       "      <td>3111</td>\n",
       "      <td>Thaha Municipality</td>\n",
       "      <td>31</td>\n",
       "      <td>Makwanpur</td>\n",
       "    </tr>\n",
       "    <tr>\n",
       "      <th>64693503</th>\n",
       "      <td>311112</td>\n",
       "      <td>3111</td>\n",
       "      <td>Thaha Municipality</td>\n",
       "      <td>31</td>\n",
       "      <td>Makwanpur</td>\n",
       "    </tr>\n",
       "    <tr>\n",
       "      <th>64693504</th>\n",
       "      <td>311112</td>\n",
       "      <td>3111</td>\n",
       "      <td>Thaha Municipality</td>\n",
       "      <td>31</td>\n",
       "      <td>Makwanpur</td>\n",
       "    </tr>\n",
       "  </tbody>\n",
       "</table>\n",
       "<p>9302857 rows × 5 columns</p>\n",
       "</div>"
      ],
      "text/plain": [
       "          ward_id  vdcmun_id                 vdcmun_name  district_id  \\\n",
       "55390648   310101       3101  Bagmati Rural Municipality           31   \n",
       "55390649   310101       3101  Bagmati Rural Municipality           31   \n",
       "55390650   310101       3101  Bagmati Rural Municipality           31   \n",
       "55390651   310101       3101  Bagmati Rural Municipality           31   \n",
       "55390652   310101       3101  Bagmati Rural Municipality           31   \n",
       "...           ...        ...                         ...          ...   \n",
       "64693500   311112       3111          Thaha Municipality           31   \n",
       "64693501   311112       3111          Thaha Municipality           31   \n",
       "64693502   311112       3111          Thaha Municipality           31   \n",
       "64693503   311112       3111          Thaha Municipality           31   \n",
       "64693504   311112       3111          Thaha Municipality           31   \n",
       "\n",
       "         district_name  \n",
       "55390648     Makwanpur  \n",
       "55390649     Makwanpur  \n",
       "55390650     Makwanpur  \n",
       "55390651     Makwanpur  \n",
       "55390652     Makwanpur  \n",
       "...                ...  \n",
       "64693500     Makwanpur  \n",
       "64693501     Makwanpur  \n",
       "64693502     Makwanpur  \n",
       "64693503     Makwanpur  \n",
       "64693504     Makwanpur  \n",
       "\n",
       "[9302857 rows x 5 columns]"
      ]
     },
     "execution_count": 23,
     "metadata": {},
     "output_type": "execute_result"
    }
   ],
   "source": [
    "dis[dis[\"district_id\"] == 31]"
   ]
  },
  {
   "cell_type": "code",
   "execution_count": 24,
   "metadata": {},
   "outputs": [
    {
     "data": {
      "text/html": [
       "<div>\n",
       "<style scoped>\n",
       "    .dataframe tbody tr th:only-of-type {\n",
       "        vertical-align: middle;\n",
       "    }\n",
       "\n",
       "    .dataframe tbody tr th {\n",
       "        vertical-align: top;\n",
       "    }\n",
       "\n",
       "    .dataframe thead th {\n",
       "        text-align: right;\n",
       "    }\n",
       "</style>\n",
       "<table border=\"1\" class=\"dataframe\">\n",
       "  <thead>\n",
       "    <tr style=\"text-align: right;\">\n",
       "      <th></th>\n",
       "      <th>ward_id</th>\n",
       "      <th>vdcmun_id</th>\n",
       "      <th>vdcmun_name</th>\n",
       "      <th>district_id</th>\n",
       "      <th>district_name</th>\n",
       "    </tr>\n",
       "  </thead>\n",
       "  <tbody>\n",
       "    <tr>\n",
       "      <th>45812276</th>\n",
       "      <td>290101</td>\n",
       "      <td>2901</td>\n",
       "      <td>Aamachhodingmo Rural Municipality</td>\n",
       "      <td>29</td>\n",
       "      <td>Rasuwa</td>\n",
       "    </tr>\n",
       "    <tr>\n",
       "      <th>45812277</th>\n",
       "      <td>290101</td>\n",
       "      <td>2901</td>\n",
       "      <td>Aamachhodingmo Rural Municipality</td>\n",
       "      <td>29</td>\n",
       "      <td>Rasuwa</td>\n",
       "    </tr>\n",
       "    <tr>\n",
       "      <th>45812278</th>\n",
       "      <td>290101</td>\n",
       "      <td>2901</td>\n",
       "      <td>Aamachhodingmo Rural Municipality</td>\n",
       "      <td>29</td>\n",
       "      <td>Rasuwa</td>\n",
       "    </tr>\n",
       "    <tr>\n",
       "      <th>45812279</th>\n",
       "      <td>290101</td>\n",
       "      <td>2901</td>\n",
       "      <td>Aamachhodingmo Rural Municipality</td>\n",
       "      <td>29</td>\n",
       "      <td>Rasuwa</td>\n",
       "    </tr>\n",
       "    <tr>\n",
       "      <th>45812280</th>\n",
       "      <td>290101</td>\n",
       "      <td>2901</td>\n",
       "      <td>Aamachhodingmo Rural Municipality</td>\n",
       "      <td>29</td>\n",
       "      <td>Rasuwa</td>\n",
       "    </tr>\n",
       "    <tr>\n",
       "      <th>...</th>\n",
       "      <td>...</td>\n",
       "      <td>...</td>\n",
       "      <td>...</td>\n",
       "      <td>...</td>\n",
       "      <td>...</td>\n",
       "    </tr>\n",
       "    <tr>\n",
       "      <th>46148475</th>\n",
       "      <td>290505</td>\n",
       "      <td>2905</td>\n",
       "      <td>Uttargaya Rural Municipality</td>\n",
       "      <td>29</td>\n",
       "      <td>Rasuwa</td>\n",
       "    </tr>\n",
       "    <tr>\n",
       "      <th>46148476</th>\n",
       "      <td>290505</td>\n",
       "      <td>2905</td>\n",
       "      <td>Uttargaya Rural Municipality</td>\n",
       "      <td>29</td>\n",
       "      <td>Rasuwa</td>\n",
       "    </tr>\n",
       "    <tr>\n",
       "      <th>46148477</th>\n",
       "      <td>290505</td>\n",
       "      <td>2905</td>\n",
       "      <td>Uttargaya Rural Municipality</td>\n",
       "      <td>29</td>\n",
       "      <td>Rasuwa</td>\n",
       "    </tr>\n",
       "    <tr>\n",
       "      <th>46148478</th>\n",
       "      <td>290505</td>\n",
       "      <td>2905</td>\n",
       "      <td>Uttargaya Rural Municipality</td>\n",
       "      <td>29</td>\n",
       "      <td>Rasuwa</td>\n",
       "    </tr>\n",
       "    <tr>\n",
       "      <th>46148479</th>\n",
       "      <td>290505</td>\n",
       "      <td>2905</td>\n",
       "      <td>Uttargaya Rural Municipality</td>\n",
       "      <td>29</td>\n",
       "      <td>Rasuwa</td>\n",
       "    </tr>\n",
       "  </tbody>\n",
       "</table>\n",
       "<p>336204 rows × 5 columns</p>\n",
       "</div>"
      ],
      "text/plain": [
       "          ward_id  vdcmun_id                        vdcmun_name  district_id  \\\n",
       "45812276   290101       2901  Aamachhodingmo Rural Municipality           29   \n",
       "45812277   290101       2901  Aamachhodingmo Rural Municipality           29   \n",
       "45812278   290101       2901  Aamachhodingmo Rural Municipality           29   \n",
       "45812279   290101       2901  Aamachhodingmo Rural Municipality           29   \n",
       "45812280   290101       2901  Aamachhodingmo Rural Municipality           29   \n",
       "...           ...        ...                                ...          ...   \n",
       "46148475   290505       2905       Uttargaya Rural Municipality           29   \n",
       "46148476   290505       2905       Uttargaya Rural Municipality           29   \n",
       "46148477   290505       2905       Uttargaya Rural Municipality           29   \n",
       "46148478   290505       2905       Uttargaya Rural Municipality           29   \n",
       "46148479   290505       2905       Uttargaya Rural Municipality           29   \n",
       "\n",
       "         district_name  \n",
       "45812276        Rasuwa  \n",
       "45812277        Rasuwa  \n",
       "45812278        Rasuwa  \n",
       "45812279        Rasuwa  \n",
       "45812280        Rasuwa  \n",
       "...                ...  \n",
       "46148475        Rasuwa  \n",
       "46148476        Rasuwa  \n",
       "46148477        Rasuwa  \n",
       "46148478        Rasuwa  \n",
       "46148479        Rasuwa  \n",
       "\n",
       "[336204 rows x 5 columns]"
      ]
     },
     "execution_count": 24,
     "metadata": {},
     "output_type": "execute_result"
    }
   ],
   "source": [
    "dis[dis[\"district_id\"] == 29]"
   ]
  },
  {
   "cell_type": "markdown",
   "metadata": {},
   "source": [
    "Dari data diatas, district yang memiliki high damage terbesar adalah Sindhupalchok dan district yang memiliki low damage terbesar adalah district Makwanpur, dan yang memiliki jumlah kasus kerusakan terkecil adalah distrik Rasuwa"
   ]
  },
  {
   "cell_type": "markdown",
   "metadata": {},
   "source": [
    "## __FLOORS__"
   ]
  },
  {
   "cell_type": "code",
   "execution_count": 25,
   "metadata": {},
   "outputs": [
    {
     "data": {
      "text/plain": [
       "array([1, 2, 3, 4, 9, 5, 6, 7, 8], dtype=int64)"
      ]
     },
     "execution_count": 25,
     "metadata": {},
     "output_type": "execute_result"
    }
   ],
   "source": [
    "building[\"count_floors_pre_eq\"].unique()"
   ]
  },
  {
   "cell_type": "code",
   "execution_count": 26,
   "metadata": {},
   "outputs": [],
   "source": [
    "cfp = pd.DataFrame(building[\"count_floors_pre_eq\"].value_counts())"
   ]
  },
  {
   "cell_type": "code",
   "execution_count": 27,
   "metadata": {},
   "outputs": [
    {
     "data": {
      "text/html": [
       "<div>\n",
       "<style scoped>\n",
       "    .dataframe tbody tr th:only-of-type {\n",
       "        vertical-align: middle;\n",
       "    }\n",
       "\n",
       "    .dataframe tbody tr th {\n",
       "        vertical-align: top;\n",
       "    }\n",
       "\n",
       "    .dataframe thead th {\n",
       "        text-align: right;\n",
       "    }\n",
       "</style>\n",
       "<table border=\"1\" class=\"dataframe\">\n",
       "  <thead>\n",
       "    <tr style=\"text-align: right;\">\n",
       "      <th></th>\n",
       "      <th>count_floors_pre_eq</th>\n",
       "    </tr>\n",
       "  </thead>\n",
       "  <tbody>\n",
       "    <tr>\n",
       "      <th>2</th>\n",
       "      <td>465798</td>\n",
       "    </tr>\n",
       "    <tr>\n",
       "      <th>3</th>\n",
       "      <td>166224</td>\n",
       "    </tr>\n",
       "    <tr>\n",
       "      <th>1</th>\n",
       "      <td>118523</td>\n",
       "    </tr>\n",
       "    <tr>\n",
       "      <th>4</th>\n",
       "      <td>6052</td>\n",
       "    </tr>\n",
       "    <tr>\n",
       "      <th>5</th>\n",
       "      <td>1562</td>\n",
       "    </tr>\n",
       "    <tr>\n",
       "      <th>6</th>\n",
       "      <td>329</td>\n",
       "    </tr>\n",
       "    <tr>\n",
       "      <th>7</th>\n",
       "      <td>88</td>\n",
       "    </tr>\n",
       "    <tr>\n",
       "      <th>9</th>\n",
       "      <td>13</td>\n",
       "    </tr>\n",
       "    <tr>\n",
       "      <th>8</th>\n",
       "      <td>12</td>\n",
       "    </tr>\n",
       "  </tbody>\n",
       "</table>\n",
       "</div>"
      ],
      "text/plain": [
       "   count_floors_pre_eq\n",
       "2               465798\n",
       "3               166224\n",
       "1               118523\n",
       "4                 6052\n",
       "5                 1562\n",
       "6                  329\n",
       "7                   88\n",
       "9                   13\n",
       "8                   12"
      ]
     },
     "execution_count": 27,
     "metadata": {},
     "output_type": "execute_result"
    }
   ],
   "source": [
    "cfp"
   ]
  },
  {
   "cell_type": "code",
   "execution_count": 28,
   "metadata": {},
   "outputs": [
    {
     "data": {
      "text/plain": [
       "2    0.614022\n",
       "3    0.219119\n",
       "1    0.156239\n",
       "4    0.007978\n",
       "5    0.002059\n",
       "6    0.000434\n",
       "7    0.000116\n",
       "9    0.000017\n",
       "8    0.000016\n",
       "Name: count_floors_pre_eq, dtype: float64"
      ]
     },
     "execution_count": 28,
     "metadata": {},
     "output_type": "execute_result"
    }
   ],
   "source": [
    "building['count_floors_pre_eq'].value_counts(normalize=True)"
   ]
  },
  {
   "cell_type": "code",
   "execution_count": 29,
   "metadata": {},
   "outputs": [
    {
     "name": "stderr",
     "output_type": "stream",
     "text": [
      "D:\\anaconda3\\lib\\site-packages\\seaborn\\_decorators.py:36: FutureWarning: Pass the following variable as a keyword arg: x. From version 0.12, the only valid positional argument will be `data`, and passing other arguments without an explicit keyword will result in an error or misinterpretation.\n",
      "  warnings.warn(\n"
     ]
    },
    {
     "data": {
      "image/png": "[encoded data removed]",
      "text/plain": [
       "<Figure size 432x288 with 1 Axes>"
      ]
     },
     "metadata": {
      "needs_background": "light"
     },
     "output_type": "display_data"
    }
   ],
   "source": [
    "plt.title(\"Jumlah Lantai pada Bangunan\")\n",
    "sns.countplot(building['count_floors_pre_eq'])\n",
    "plt.xlabel(\"Jumlah Lantai\")\n",
    "plt.show()"
   ]
  },
  {
   "cell_type": "code",
   "execution_count": 30,
   "metadata": {},
   "outputs": [],
   "source": [
    "# explode_list = [0.2,0.2,0.2,0.2,0.2,0.2, 0.2, 0.2, 0.2,]\n",
    "\n",
    "# plt.figure(figsize=(15,10))\n",
    "# plt.title('Presentase Kerusakan pada Kasus Gempa Bumi')\n",
    "# plt.pie(cfp['count_floors_pre_eq'], labels=list(cfp.index),\n",
    "#        autopct='%.2f%%',\n",
    "#        explode = explode_list)\n",
    "# plt.show()"
   ]
  },
  {
   "cell_type": "markdown",
   "metadata": {},
   "source": [
    "Pada lokasi kejadian, paling banyak bangunan memiliki 2 lantai, sekitar 61% dari seluruh bangunan, kemungkinan ini merupakan rumah dari warga sipil, dan mayoritas bangunan memiliki 1-3 lantai"
   ]
  },
  {
   "cell_type": "code",
   "execution_count": 31,
   "metadata": {},
   "outputs": [
    {
     "data": {
      "text/plain": [
       "array([1, 0, 2, 3, 4, 9, 5, 6, 8, 7], dtype=int64)"
      ]
     },
     "execution_count": 31,
     "metadata": {},
     "output_type": "execute_result"
    }
   ],
   "source": [
    "building[\"count_floors_post_eq\"].unique()"
   ]
  },
  {
   "cell_type": "code",
   "execution_count": 32,
   "metadata": {},
   "outputs": [
    {
     "data": {
      "text/plain": [
       "2    291995\n",
       "0    260114\n",
       "1    131569\n",
       "3     68170\n",
       "4      4811\n",
       "5      1491\n",
       "6       320\n",
       "7        92\n",
       "8        20\n",
       "9        19\n",
       "Name: count_floors_post_eq, dtype: int64"
      ]
     },
     "execution_count": 32,
     "metadata": {},
     "output_type": "execute_result"
    }
   ],
   "source": [
    "building[\"count_floors_post_eq\"].value_counts()"
   ]
  },
  {
   "cell_type": "code",
   "execution_count": 33,
   "metadata": {},
   "outputs": [
    {
     "data": {
      "text/plain": [
       "2    0.384912\n",
       "0    0.342886\n",
       "1    0.173436\n",
       "3    0.089863\n",
       "4    0.006342\n",
       "5    0.001965\n",
       "6    0.000422\n",
       "7    0.000121\n",
       "8    0.000026\n",
       "9    0.000025\n",
       "Name: count_floors_post_eq, dtype: float64"
      ]
     },
     "execution_count": 33,
     "metadata": {},
     "output_type": "execute_result"
    }
   ],
   "source": [
    "building[\"count_floors_post_eq\"].value_counts(normalize=True)"
   ]
  },
  {
   "cell_type": "code",
   "execution_count": 34,
   "metadata": {},
   "outputs": [
    {
     "name": "stderr",
     "output_type": "stream",
     "text": [
      "D:\\anaconda3\\lib\\site-packages\\seaborn\\_decorators.py:36: FutureWarning: Pass the following variable as a keyword arg: x. From version 0.12, the only valid positional argument will be `data`, and passing other arguments without an explicit keyword will result in an error or misinterpretation.\n",
      "  warnings.warn(\n"
     ]
    },
    {
     "data": {
      "image/png": "[encoded data removed]",
      "text/plain": [
       "<Figure size 432x288 with 1 Axes>"
      ]
     },
     "metadata": {
      "needs_background": "light"
     },
     "output_type": "display_data"
    }
   ],
   "source": [
    "plt.title(\"Jumlah Lantai pada Bangunan Setelah Gempa\")\n",
    "sns.countplot(building['count_floors_post_eq'])\n",
    "plt.xlabel(\"Jumlah Lantai\")\n",
    "plt.show()"
   ]
  },
  {
   "cell_type": "markdown",
   "metadata": {},
   "source": [
    "Data tersebut menunjukan jumlah lantai pada bangunan setelah gempa, 0 menunjukan bangunan tersebut rubuh dengan tanah, terdapat 260114 bangunan yang rubuh dengan tanah, atau sekitar 34% dari jumlah bangunan yang terkena dampak dari gempa bumi"
   ]
  },
  {
   "cell_type": "markdown",
   "metadata": {},
   "source": [
    "## __HEIGHT__"
   ]
  },
  {
   "cell_type": "code",
   "execution_count": 35,
   "metadata": {},
   "outputs": [
    {
     "data": {
      "text/plain": [
       "array([ 2.74,  6.4 ,  5.79,  3.66,  4.57,  5.18,  2.13,  4.88,  4.27,\n",
       "        1.83,  3.05,  7.32,  5.49,  6.1 ,  2.44,  9.75,  6.71,  8.23,\n",
       "        3.35,  3.96,  7.62, 10.36,  7.01,  7.92,  9.14,  8.53, 10.67,\n",
       "       10.97, 18.29, 17.07, 15.24, 13.72, 13.41, 12.19, 14.63, 16.46,\n",
       "       10.06, 16.76,  8.84, 13.11,  9.45, 23.77, 11.58, 12.5 , 15.54,\n",
       "       21.34, 11.28, 25.91, 12.8 , 29.26, 14.94, 19.81, 14.02, 20.12,\n",
       "       17.37, 20.42, 22.86, 14.33, 20.73, 17.68, 24.38, 19.51, 19.2 ,\n",
       "       23.17, 11.89, 30.18, 21.95, 27.43, 15.85, 23.47, 22.56, 28.96,\n",
       "       21.64, 24.69, 29.57, 28.35, 17.98, 27.13, 18.59])"
      ]
     },
     "execution_count": 35,
     "metadata": {},
     "output_type": "execute_result"
    }
   ],
   "source": [
    "building[\"height_ft_pre_eq\"].unique()"
   ]
  },
  {
   "cell_type": "code",
   "execution_count": 36,
   "metadata": {},
   "outputs": [
    {
     "data": {
      "text/plain": [
       "5.49     101762\n",
       "4.27      94337\n",
       "3.66      81381\n",
       "4.88      74274\n",
       "4.57      59957\n",
       "          ...  \n",
       "27.13         1\n",
       "28.35         1\n",
       "17.98         1\n",
       "20.73         1\n",
       "18.59         1\n",
       "Name: height_ft_pre_eq, Length: 79, dtype: int64"
      ]
     },
     "execution_count": 36,
     "metadata": {},
     "output_type": "execute_result"
    }
   ],
   "source": [
    "building[\"height_ft_pre_eq\"].value_counts()"
   ]
  },
  {
   "cell_type": "code",
   "execution_count": 37,
   "metadata": {},
   "outputs": [
    {
     "data": {
      "text/plain": [
       "5.49     0.134144\n",
       "4.27     0.124357\n",
       "3.66     0.107278\n",
       "4.88     0.097909\n",
       "4.57     0.079036\n",
       "           ...   \n",
       "27.13    0.000001\n",
       "28.35    0.000001\n",
       "17.98    0.000001\n",
       "20.73    0.000001\n",
       "18.59    0.000001\n",
       "Name: height_ft_pre_eq, Length: 79, dtype: float64"
      ]
     },
     "execution_count": 37,
     "metadata": {},
     "output_type": "execute_result"
    }
   ],
   "source": [
    "building[\"height_ft_pre_eq\"].value_counts(normalize=True)"
   ]
  },
  {
   "cell_type": "code",
   "execution_count": 38,
   "metadata": {},
   "outputs": [
    {
     "data": {
      "text/plain": [
       "[Text(0, 0, '5.49'),\n",
       " Text(0, 0, '4.27'),\n",
       " Text(0, 0, '3.66'),\n",
       " Text(0, 0, '4.88'),\n",
       " Text(0, 0, '4.57'),\n",
       " Text(0, 0, '6.1'),\n",
       " Text(0, 0, '6.4'),\n",
       " Text(0, 0, '3.05'),\n",
       " Text(0, 0, '5.18'),\n",
       " Text(0, 0, '3.96'),\n",
       " Text(0, 0, '2.74'),\n",
       " Text(0, 0, '2.44'),\n",
       " Text(0, 0, '6.71'),\n",
       " Text(0, 0, '7.32'),\n",
       " Text(0, 0, '2.13'),\n",
       " Text(0, 0, '5.79'),\n",
       " Text(0, 0, '3.35'),\n",
       " Text(0, 0, '7.62'),\n",
       " Text(0, 0, '1.83'),\n",
       " Text(0, 0, '8.23')]"
      ]
     },
     "execution_count": 38,
     "metadata": {},
     "output_type": "execute_result"
    },
    {
     "data": {
      "image/png": "[encoded data removed]",
      "text/plain": [
       "<Figure size 720x720 with 1 Axes>"
      ]
     },
     "metadata": {
      "needs_background": "light"
     },
     "output_type": "display_data"
    }
   ],
   "source": [
    "plt.figure(figsize = (10,10))\n",
    "a = sns.countplot(data=building, y='height_ft_pre_eq', order = building['height_ft_pre_eq'].value_counts().iloc[:20].index)\n",
    "a.set_title('Persebaran Tinggi Bangunan')\n",
    "a.set_xlabel('Jumlah')\n",
    "a.set_ylabel('Tinggi')\n",
    "a.set_yticklabels(building['height_ft_pre_eq'].value_counts().iloc[:20].index)"
   ]
  },
  {
   "cell_type": "markdown",
   "metadata": {},
   "source": [
    "Dari data diatas, bangunan yang memiliki tinggi dibawah 9m mendominasi pada daerah gempa, bangunan yang paling banyak adalah bangunan dengan tinggi 5.49m"
   ]
  },
  {
   "cell_type": "code",
   "execution_count": 39,
   "metadata": {},
   "outputs": [
    {
     "data": {
      "text/plain": [
       "array([ 2.74,  0.  ,  6.4 ,  5.79,  3.66,  4.57,  5.18,  2.13,  4.88,\n",
       "        4.27,  1.83,  3.05,  7.32,  5.49,  6.1 ,  2.44,  9.75,  6.71,\n",
       "        8.23,  3.96,  3.35, 12.5 ,  7.62,  7.01,  7.92,  9.14,  8.53,\n",
       "       10.67, 14.63, 15.24, 16.76, 10.97, 18.29, 17.07, 13.72, 13.41,\n",
       "       12.19, 16.46, 10.06, 10.36,  8.84, 14.02, 13.11,  9.45, 14.33,\n",
       "       29.57, 23.17, 11.28, 11.58, 15.54, 22.86, 24.38, 12.8 , 22.25,\n",
       "       15.85, 21.34, 25.91, 19.81, 20.12, 17.37, 20.42, 20.73, 17.68,\n",
       "       19.51, 19.2 , 21.95, 11.89, 14.94, 23.47, 27.43, 21.64, 23.77,\n",
       "       30.18, 28.96, 17.98, 24.69, 26.52, 18.59, 29.26, 24.99])"
      ]
     },
     "execution_count": 39,
     "metadata": {},
     "output_type": "execute_result"
    }
   ],
   "source": [
    "building[\"height_ft_post_eq\"].unique()"
   ]
  },
  {
   "cell_type": "code",
   "execution_count": 40,
   "metadata": {},
   "outputs": [
    {
     "data": {
      "text/plain": [
       "0.00     260114\n",
       "4.27      55053\n",
       "5.49      53703\n",
       "3.66      49608\n",
       "4.88      43864\n",
       "          ...  \n",
       "18.59         1\n",
       "26.52         1\n",
       "24.69         1\n",
       "22.25         1\n",
       "29.26         1\n",
       "Name: height_ft_post_eq, Length: 80, dtype: int64"
      ]
     },
     "execution_count": 40,
     "metadata": {},
     "output_type": "execute_result"
    }
   ],
   "source": [
    "building[\"height_ft_post_eq\"].value_counts()"
   ]
  },
  {
   "cell_type": "code",
   "execution_count": 41,
   "metadata": {},
   "outputs": [
    {
     "data": {
      "text/plain": [
       "0.00     0.342886\n",
       "4.27     0.072572\n",
       "5.49     0.070792\n",
       "3.66     0.065394\n",
       "4.88     0.057822\n",
       "           ...   \n",
       "18.59    0.000001\n",
       "26.52    0.000001\n",
       "24.69    0.000001\n",
       "22.25    0.000001\n",
       "29.26    0.000001\n",
       "Name: height_ft_post_eq, Length: 80, dtype: float64"
      ]
     },
     "execution_count": 41,
     "metadata": {},
     "output_type": "execute_result"
    }
   ],
   "source": [
    "building[\"height_ft_post_eq\"].value_counts(normalize=True)"
   ]
  },
  {
   "cell_type": "code",
   "execution_count": 42,
   "metadata": {},
   "outputs": [
    {
     "data": {
      "text/plain": [
       "[Text(0, 0, '0.0'),\n",
       " Text(0, 0, '4.27'),\n",
       " Text(0, 0, '5.49'),\n",
       " Text(0, 0, '3.66'),\n",
       " Text(0, 0, '4.88'),\n",
       " Text(0, 0, '4.57'),\n",
       " Text(0, 0, '6.1'),\n",
       " Text(0, 0, '3.05'),\n",
       " Text(0, 0, '2.13'),\n",
       " Text(0, 0, '2.44'),\n",
       " Text(0, 0, '2.74'),\n",
       " Text(0, 0, '1.83'),\n",
       " Text(0, 0, '5.18'),\n",
       " Text(0, 0, '3.96'),\n",
       " Text(0, 0, '6.4'),\n",
       " Text(0, 0, '6.71'),\n",
       " Text(0, 0, '7.32'),\n",
       " Text(0, 0, '3.35'),\n",
       " Text(0, 0, '5.79'),\n",
       " Text(0, 0, '7.62')]"
      ]
     },
     "execution_count": 42,
     "metadata": {},
     "output_type": "execute_result"
    },
    {
     "data": {
      "image/png": "[encoded data removed]",
      "text/plain": [
       "<Figure size 720x720 with 1 Axes>"
      ]
     },
     "metadata": {
      "needs_background": "light"
     },
     "output_type": "display_data"
    }
   ],
   "source": [
    "plt.figure(figsize = (10,10))\n",
    "a = sns.countplot(data=building, y='height_ft_post_eq', order = building['height_ft_post_eq'].value_counts().iloc[:20].index)\n",
    "a.set_title('Persebaran Tinggi Bangunan Setelah Gempa')\n",
    "a.set_xlabel('Jumlah')\n",
    "a.set_ylabel('Tinggi')\n",
    "a.set_yticklabels(building['height_ft_post_eq'].value_counts().iloc[:20].index)"
   ]
  },
  {
   "cell_type": "markdown",
   "metadata": {},
   "source": [
    "Dari data tersebut, banyak bangunan yang menjadi 0 m atau rubuh dengan tanah, bangunan yang rubuh sebanyak 260114 atau 34% dari jumlah bangunan lain"
   ]
  },
  {
   "cell_type": "markdown",
   "metadata": {},
   "source": [
    "## __LAND SURFACE__"
   ]
  },
  {
   "cell_type": "code",
   "execution_count": 43,
   "metadata": {},
   "outputs": [
    {
     "data": {
      "text/plain": [
       "array(['Flat', 'Moderate slope', 'Steep slope'], dtype=object)"
      ]
     },
     "execution_count": 43,
     "metadata": {},
     "output_type": "execute_result"
    }
   ],
   "source": [
    "building['land_surface_condition'].unique()"
   ]
  },
  {
   "cell_type": "code",
   "execution_count": 44,
   "metadata": {},
   "outputs": [],
   "source": [
    "land = pd.DataFrame(building['land_surface_condition'].value_counts())"
   ]
  },
  {
   "cell_type": "code",
   "execution_count": 45,
   "metadata": {},
   "outputs": [
    {
     "data": {
      "text/plain": [
       "Flat              628497\n",
       "Moderate slope    105348\n",
       "Steep slope        24756\n",
       "Name: land_surface_condition, dtype: int64"
      ]
     },
     "execution_count": 45,
     "metadata": {},
     "output_type": "execute_result"
    }
   ],
   "source": [
    "building['land_surface_condition'].value_counts()"
   ]
  },
  {
   "cell_type": "code",
   "execution_count": 46,
   "metadata": {},
   "outputs": [
    {
     "data": {
      "text/plain": [
       "Flat              0.828495\n",
       "Moderate slope    0.138871\n",
       "Steep slope       0.032634\n",
       "Name: land_surface_condition, dtype: float64"
      ]
     },
     "execution_count": 46,
     "metadata": {},
     "output_type": "execute_result"
    }
   ],
   "source": [
    "building['land_surface_condition'].value_counts(normalize=True)"
   ]
  },
  {
   "cell_type": "code",
   "execution_count": 47,
   "metadata": {},
   "outputs": [
    {
     "name": "stderr",
     "output_type": "stream",
     "text": [
      "D:\\anaconda3\\lib\\site-packages\\seaborn\\_decorators.py:36: FutureWarning: Pass the following variable as a keyword arg: x. From version 0.12, the only valid positional argument will be `data`, and passing other arguments without an explicit keyword will result in an error or misinterpretation.\n",
      "  warnings.warn(\n"
     ]
    },
    {
     "data": {
      "image/png": "[encoded data removed]",
      "text/plain": [
       "<Figure size 432x288 with 1 Axes>"
      ]
     },
     "metadata": {
      "needs_background": "light"
     },
     "output_type": "display_data"
    }
   ],
   "source": [
    "sns.countplot(building['land_surface_condition'])\n",
    "plt.show()"
   ]
  },
  {
   "cell_type": "code",
   "execution_count": 48,
   "metadata": {},
   "outputs": [
    {
     "data": {
      "image/png": "[encoded data removed]",
      "text/plain": [
       "<Figure size 720x360 with 1 Axes>"
      ]
     },
     "metadata": {},
     "output_type": "display_data"
    }
   ],
   "source": [
    "plt.figure(figsize=(10,5))\n",
    "plt.title('Presentase Kondisi Permukaan Tanah')\n",
    "plt.pie(land['land_surface_condition'], labels=list(land.index),\n",
    "        autopct='%.2f%%')\n",
    "plt.show()"
   ]
  },
  {
   "cell_type": "markdown",
   "metadata": {},
   "source": [
    "Data diatas menunjukan bahwa lokasi gempa bumi ini di dominasi oleh tanah yang datar/flat sebanyak 82.85%"
   ]
  },
  {
   "cell_type": "code",
   "execution_count": 49,
   "metadata": {},
   "outputs": [
    {
     "name": "stderr",
     "output_type": "stream",
     "text": [
      "D:\\anaconda3\\lib\\site-packages\\seaborn\\_decorators.py:36: FutureWarning: Pass the following variable as a keyword arg: x. From version 0.12, the only valid positional argument will be `data`, and passing other arguments without an explicit keyword will result in an error or misinterpretation.\n",
      "  warnings.warn(\n"
     ]
    },
    {
     "data": {
      "image/png": "[encoded data removed]",
      "text/plain": [
       "<Figure size 864x576 with 1 Axes>"
      ]
     },
     "metadata": {
      "needs_background": "light"
     },
     "output_type": "display_data"
    }
   ],
   "source": [
    "plt.figure(figsize=(12,8))\n",
    "sns.countplot(building['land_surface_condition'], hue=building['damage'])\n",
    "plt.show()"
   ]
  },
  {
   "cell_type": "markdown",
   "metadata": {},
   "source": [
    "Pada data diatas, tanah dengan profil yang flat memiliki damaged yang lebih tinggi dibandingkan tanah dengan moderate atau yang miring, ini bisa jadi tipe tanah yang berbeda, kemungkinan pada tanah yang flat merupakan tanah yang dapat memperparah kondisi gempa, atau bisa jadi pada tanah yang flat terjadi likuifaksi akibat gempa, tetapi, bisa jadi jumlah bangunan memang paling banyak tersebar di daerah yang flat"
   ]
  },
  {
   "cell_type": "markdown",
   "metadata": {},
   "source": [
    "## __FOUNDATION TYPE__"
   ]
  },
  {
   "cell_type": "code",
   "execution_count": 50,
   "metadata": {},
   "outputs": [
    {
     "data": {
      "text/plain": [
       "Mud mortar-Stone/Brick    625624\n",
       "Bamboo/Timber              57431\n",
       "Cement-Stone/Brick         39015\n",
       "RC                         32060\n",
       "Other                       4471\n",
       "Name: foundation_type, dtype: int64"
      ]
     },
     "execution_count": 50,
     "metadata": {},
     "output_type": "execute_result"
    }
   ],
   "source": [
    "building['foundation_type'].value_counts()"
   ]
  },
  {
   "cell_type": "code",
   "execution_count": 51,
   "metadata": {},
   "outputs": [],
   "source": [
    "fo = pd.DataFrame(building['foundation_type'].value_counts())"
   ]
  },
  {
   "cell_type": "code",
   "execution_count": 52,
   "metadata": {},
   "outputs": [
    {
     "name": "stderr",
     "output_type": "stream",
     "text": [
      "D:\\anaconda3\\lib\\site-packages\\seaborn\\_decorators.py:36: FutureWarning: Pass the following variable as a keyword arg: x. From version 0.12, the only valid positional argument will be `data`, and passing other arguments without an explicit keyword will result in an error or misinterpretation.\n",
      "  warnings.warn(\n"
     ]
    },
    {
     "data": {
      "image/png": "[encoded data removed]",
      "text/plain": [
       "<Figure size 432x288 with 1 Axes>"
      ]
     },
     "metadata": {
      "needs_background": "light"
     },
     "output_type": "display_data"
    }
   ],
   "source": [
    "sns.countplot(building['foundation_type'])\n",
    "plt.xticks(rotation=90)\n",
    "plt.show()"
   ]
  },
  {
   "cell_type": "code",
   "execution_count": 53,
   "metadata": {},
   "outputs": [
    {
     "data": {
      "image/png": "[encoded data removed]",
      "text/plain": [
       "<Figure size 720x360 with 1 Axes>"
      ]
     },
     "metadata": {},
     "output_type": "display_data"
    }
   ],
   "source": [
    "plt.figure(figsize=(10,5))\n",
    "plt.title('Presentase Tipe Pondasi Bangunan')\n",
    "plt.pie(fo['foundation_type'], labels=list(fo.index),\n",
    "        autopct='%.2f%%')\n",
    "plt.show()"
   ]
  },
  {
   "cell_type": "code",
   "execution_count": 90,
   "metadata": {},
   "outputs": [
    {
     "name": "stderr",
     "output_type": "stream",
     "text": [
      "D:\\anaconda3\\lib\\site-packages\\seaborn\\_decorators.py:36: FutureWarning: Pass the following variable as a keyword arg: x. From version 0.12, the only valid positional argument will be `data`, and passing other arguments without an explicit keyword will result in an error or misinterpretation.\n",
      "  warnings.warn(\n"
     ]
    },
    {
     "data": {
      "image/png": "[encoded data removed]",
      "text/plain": [
       "<Figure size 864x576 with 1 Axes>"
      ]
     },
     "metadata": {
      "needs_background": "light"
     },
     "output_type": "display_data"
    },
    {
     "data": {
      "text/plain": [
       "<Figure size 432x288 with 0 Axes>"
      ]
     },
     "metadata": {},
     "output_type": "display_data"
    }
   ],
   "source": [
    "plt.figure(figsize=(12,8))\n",
    "sns.countplot(building['foundation_type'], hue=building['damage'])\n",
    "plt.show()\n",
    "\n",
    "plt.savefig('C:\\\\Users\\\\ASUS\\\\Desktop\\\\Project Earthquake\\\\foundation.png', dpi=300, bbox_inches='tight')"
   ]
  },
  {
   "cell_type": "markdown",
   "metadata": {},
   "source": [
    "Tipe Pondasi Mud mortar-stone/brick adalah tipe pondasi yang paling banyak dipakai, sehingga dalam data terlihat jenis pondasi ini yang paling banyak memiliki high damage dan low damage"
   ]
  },
  {
   "cell_type": "markdown",
   "metadata": {},
   "source": [
    "## __ROOF TYPE__"
   ]
  },
  {
   "cell_type": "code",
   "execution_count": 55,
   "metadata": {},
   "outputs": [
    {
     "data": {
      "text/plain": [
       "Bamboo/Timber-Light roof    501125\n",
       "Bamboo/Timber-Heavy roof    213054\n",
       "RCC/RB/RBC                   44422\n",
       "Name: roof_type, dtype: int64"
      ]
     },
     "execution_count": 55,
     "metadata": {},
     "output_type": "execute_result"
    }
   ],
   "source": [
    "building['roof_type'].value_counts()"
   ]
  },
  {
   "cell_type": "code",
   "execution_count": 56,
   "metadata": {},
   "outputs": [
    {
     "data": {
      "text/plain": [
       "Bamboo/Timber-Light roof    0.660591\n",
       "Bamboo/Timber-Heavy roof    0.280851\n",
       "RCC/RB/RBC                  0.058558\n",
       "Name: roof_type, dtype: float64"
      ]
     },
     "execution_count": 56,
     "metadata": {},
     "output_type": "execute_result"
    }
   ],
   "source": [
    "building['roof_type'].value_counts(normalize=True)"
   ]
  },
  {
   "cell_type": "code",
   "execution_count": 57,
   "metadata": {},
   "outputs": [],
   "source": [
    "roof = pd.DataFrame(building['roof_type'].value_counts())"
   ]
  },
  {
   "cell_type": "code",
   "execution_count": 58,
   "metadata": {},
   "outputs": [
    {
     "name": "stderr",
     "output_type": "stream",
     "text": [
      "D:\\anaconda3\\lib\\site-packages\\seaborn\\_decorators.py:36: FutureWarning: Pass the following variable as a keyword arg: x. From version 0.12, the only valid positional argument will be `data`, and passing other arguments without an explicit keyword will result in an error or misinterpretation.\n",
      "  warnings.warn(\n"
     ]
    },
    {
     "data": {
      "image/png": "[encoded data removed]",
      "text/plain": [
       "<Figure size 432x288 with 1 Axes>"
      ]
     },
     "metadata": {
      "needs_background": "light"
     },
     "output_type": "display_data"
    }
   ],
   "source": [
    "sns.countplot(building['roof_type'])\n",
    "plt.xticks(rotation=90)\n",
    "plt.show()"
   ]
  },
  {
   "cell_type": "code",
   "execution_count": 59,
   "metadata": {},
   "outputs": [
    {
     "data": {
      "image/png": "[encoded data removed]",
      "text/plain": [
       "<Figure size 720x360 with 1 Axes>"
      ]
     },
     "metadata": {},
     "output_type": "display_data"
    }
   ],
   "source": [
    "plt.figure(figsize=(10,5))\n",
    "plt.title('Presentase Tipe Atap')\n",
    "plt.pie(roof['roof_type'], labels=list(roof.index),\n",
    "        autopct='%.2f%%')\n",
    "plt.show()"
   ]
  },
  {
   "cell_type": "code",
   "execution_count": 60,
   "metadata": {},
   "outputs": [
    {
     "name": "stderr",
     "output_type": "stream",
     "text": [
      "D:\\anaconda3\\lib\\site-packages\\seaborn\\_decorators.py:36: FutureWarning: Pass the following variable as a keyword arg: x. From version 0.12, the only valid positional argument will be `data`, and passing other arguments without an explicit keyword will result in an error or misinterpretation.\n",
      "  warnings.warn(\n"
     ]
    },
    {
     "data": {
      "image/png": "[encoded data removed]",
      "text/plain": [
       "<Figure size 864x576 with 1 Axes>"
      ]
     },
     "metadata": {
      "needs_background": "light"
     },
     "output_type": "display_data"
    }
   ],
   "source": [
    "plt.figure(figsize=(12,8))\n",
    "sns.countplot(building['roof_type'], hue=building['damage'])\n",
    "plt.show()"
   ]
  },
  {
   "cell_type": "markdown",
   "metadata": {},
   "source": [
    "Atap berjenis Bamboo/Timber-Light roof adalah yang paling banyak diaplikasikan ke bangunan, yaitu sebanyak 66.06%"
   ]
  },
  {
   "cell_type": "markdown",
   "metadata": {},
   "source": [
    "## FLOOR TYPE"
   ]
  },
  {
   "cell_type": "code",
   "execution_count": 61,
   "metadata": {},
   "outputs": [
    {
     "data": {
      "text/plain": [
       "Mud            615189\n",
       "RC              72888\n",
       "Brick/Stone     65954\n",
       "Timber           3521\n",
       "Other            1049\n",
       "Name: ground_floor_type, dtype: int64"
      ]
     },
     "execution_count": 61,
     "metadata": {},
     "output_type": "execute_result"
    }
   ],
   "source": [
    "building['ground_floor_type'].value_counts()"
   ]
  },
  {
   "cell_type": "code",
   "execution_count": 62,
   "metadata": {},
   "outputs": [
    {
     "data": {
      "text/plain": [
       "Mud            0.810952\n",
       "RC             0.096082\n",
       "Brick/Stone    0.086942\n",
       "Timber         0.004641\n",
       "Other          0.001383\n",
       "Name: ground_floor_type, dtype: float64"
      ]
     },
     "execution_count": 62,
     "metadata": {},
     "output_type": "execute_result"
    }
   ],
   "source": [
    "building['ground_floor_type'].value_counts(normalize=True)"
   ]
  },
  {
   "cell_type": "code",
   "execution_count": 63,
   "metadata": {},
   "outputs": [
    {
     "name": "stderr",
     "output_type": "stream",
     "text": [
      "D:\\anaconda3\\lib\\site-packages\\seaborn\\_decorators.py:36: FutureWarning: Pass the following variable as a keyword arg: x. From version 0.12, the only valid positional argument will be `data`, and passing other arguments without an explicit keyword will result in an error or misinterpretation.\n",
      "  warnings.warn(\n"
     ]
    },
    {
     "data": {
      "image/png": "[encoded data removed]",
      "text/plain": [
       "<Figure size 432x288 with 1 Axes>"
      ]
     },
     "metadata": {
      "needs_background": "light"
     },
     "output_type": "display_data"
    }
   ],
   "source": [
    "sns.countplot(building['ground_floor_type'])\n",
    "plt.xticks(rotation=90)\n",
    "plt.show()"
   ]
  },
  {
   "cell_type": "code",
   "execution_count": 64,
   "metadata": {},
   "outputs": [],
   "source": [
    "floor = pd.DataFrame(building['ground_floor_type'].value_counts())"
   ]
  },
  {
   "cell_type": "code",
   "execution_count": 65,
   "metadata": {},
   "outputs": [
    {
     "data": {
      "image/png": "[encoded data removed]",
      "text/plain": [
       "<Figure size 720x360 with 1 Axes>"
      ]
     },
     "metadata": {},
     "output_type": "display_data"
    }
   ],
   "source": [
    "plt.figure(figsize=(10,5))\n",
    "plt.title('Presentase Tipe Lantai')\n",
    "plt.pie(roof['roof_type'], labels=list(roof.index),\n",
    "        autopct='%.2f%%')\n",
    "plt.show()"
   ]
  },
  {
   "cell_type": "code",
   "execution_count": 66,
   "metadata": {},
   "outputs": [
    {
     "name": "stderr",
     "output_type": "stream",
     "text": [
      "D:\\anaconda3\\lib\\site-packages\\seaborn\\_decorators.py:36: FutureWarning: Pass the following variable as a keyword arg: x. From version 0.12, the only valid positional argument will be `data`, and passing other arguments without an explicit keyword will result in an error or misinterpretation.\n",
      "  warnings.warn(\n"
     ]
    },
    {
     "data": {
      "image/png": "[encoded data removed]",
      "text/plain": [
       "<Figure size 864x576 with 1 Axes>"
      ]
     },
     "metadata": {
      "needs_background": "light"
     },
     "output_type": "display_data"
    }
   ],
   "source": [
    "plt.figure(figsize=(12,8))\n",
    "sns.countplot(building['ground_floor_type'], hue=building['damage'])\n",
    "plt.show()"
   ]
  },
  {
   "cell_type": "markdown",
   "metadata": {},
   "source": [
    "## __POSITION__"
   ]
  },
  {
   "cell_type": "code",
   "execution_count": 67,
   "metadata": {},
   "outputs": [
    {
     "data": {
      "text/plain": [
       "Not attached       601878\n",
       "Attached-1 side    128756\n",
       "Attached-2 side     26665\n",
       "Attached-3 side      1302\n",
       "Name: position, dtype: int64"
      ]
     },
     "execution_count": 67,
     "metadata": {},
     "output_type": "execute_result"
    }
   ],
   "source": [
    "building['position'].value_counts()"
   ]
  },
  {
   "cell_type": "code",
   "execution_count": 68,
   "metadata": {},
   "outputs": [],
   "source": [
    "pos = pd.DataFrame(building['position'].value_counts())"
   ]
  },
  {
   "cell_type": "code",
   "execution_count": 69,
   "metadata": {},
   "outputs": [
    {
     "name": "stderr",
     "output_type": "stream",
     "text": [
      "D:\\anaconda3\\lib\\site-packages\\seaborn\\_decorators.py:36: FutureWarning: Pass the following variable as a keyword arg: x. From version 0.12, the only valid positional argument will be `data`, and passing other arguments without an explicit keyword will result in an error or misinterpretation.\n",
      "  warnings.warn(\n"
     ]
    },
    {
     "data": {
      "image/png": "[encoded data removed]",
      "text/plain": [
       "<Figure size 432x288 with 1 Axes>"
      ]
     },
     "metadata": {
      "needs_background": "light"
     },
     "output_type": "display_data"
    }
   ],
   "source": [
    "sns.countplot(building['position'])\n",
    "plt.xticks(rotation=90)\n",
    "plt.show()"
   ]
  },
  {
   "cell_type": "code",
   "execution_count": 70,
   "metadata": {},
   "outputs": [
    {
     "data": {
      "image/png": "[encoded data removed]",
      "text/plain": [
       "<Figure size 720x360 with 1 Axes>"
      ]
     },
     "metadata": {},
     "output_type": "display_data"
    }
   ],
   "source": [
    "plt.figure(figsize=(10,5))\n",
    "plt.title('Presentase Posisi Bangunan')\n",
    "plt.pie(pos['position'], labels=list(pos.index),\n",
    "        autopct='%.2f%%')\n",
    "plt.show()"
   ]
  },
  {
   "cell_type": "code",
   "execution_count": 71,
   "metadata": {},
   "outputs": [
    {
     "name": "stderr",
     "output_type": "stream",
     "text": [
      "D:\\anaconda3\\lib\\site-packages\\seaborn\\_decorators.py:36: FutureWarning: Pass the following variable as a keyword arg: x. From version 0.12, the only valid positional argument will be `data`, and passing other arguments without an explicit keyword will result in an error or misinterpretation.\n",
      "  warnings.warn(\n"
     ]
    },
    {
     "data": {
      "image/png": "[encoded data removed]",
      "text/plain": [
       "<Figure size 864x576 with 1 Axes>"
      ]
     },
     "metadata": {
      "needs_background": "light"
     },
     "output_type": "display_data"
    }
   ],
   "source": [
    "plt.figure(figsize=(12,8))\n",
    "sns.countplot(building['position'], hue=building['damage'])\n",
    "plt.show()"
   ]
  },
  {
   "cell_type": "markdown",
   "metadata": {},
   "source": [
    "Bangunan pada daerah di data ini paling banyak berada di Not attached yaitu bangunan yang berdiri sendiri atau tidak menempel kepada bangunan lain"
   ]
  },
  {
   "cell_type": "markdown",
   "metadata": {},
   "source": [
    "## __PLAN CONFIGURATION__"
   ]
  },
  {
   "cell_type": "code",
   "execution_count": 72,
   "metadata": {},
   "outputs": [
    {
     "data": {
      "text/plain": [
       "Rectangular                        727908\n",
       "Square                              17483\n",
       "L-shape                             10046\n",
       "T-shape                               966\n",
       "Multi-projected                       929\n",
       "Others                                514\n",
       "U-shape                               445\n",
       "E-shape                               140\n",
       "Building with Central Courtyard        90\n",
       "H-shape                                80\n",
       "Name: plan_configuration, dtype: int64"
      ]
     },
     "execution_count": 72,
     "metadata": {},
     "output_type": "execute_result"
    }
   ],
   "source": [
    "building['plan_configuration'].value_counts()"
   ]
  },
  {
   "cell_type": "code",
   "execution_count": 73,
   "metadata": {},
   "outputs": [],
   "source": [
    "plan = pd.DataFrame(building['plan_configuration'].value_counts())"
   ]
  },
  {
   "cell_type": "code",
   "execution_count": 74,
   "metadata": {},
   "outputs": [
    {
     "data": {
      "text/plain": [
       "Rectangular                        0.959540\n",
       "Square                             0.023046\n",
       "L-shape                            0.013243\n",
       "T-shape                            0.001273\n",
       "Multi-projected                    0.001225\n",
       "Others                             0.000678\n",
       "U-shape                            0.000587\n",
       "E-shape                            0.000185\n",
       "Building with Central Courtyard    0.000119\n",
       "H-shape                            0.000105\n",
       "Name: plan_configuration, dtype: float64"
      ]
     },
     "execution_count": 74,
     "metadata": {},
     "output_type": "execute_result"
    }
   ],
   "source": [
    "building['plan_configuration'].value_counts(normalize=True)"
   ]
  },
  {
   "cell_type": "code",
   "execution_count": 75,
   "metadata": {},
   "outputs": [
    {
     "name": "stderr",
     "output_type": "stream",
     "text": [
      "D:\\anaconda3\\lib\\site-packages\\seaborn\\_decorators.py:36: FutureWarning: Pass the following variable as a keyword arg: x. From version 0.12, the only valid positional argument will be `data`, and passing other arguments without an explicit keyword will result in an error or misinterpretation.\n",
      "  warnings.warn(\n"
     ]
    },
    {
     "data": {
      "image/png": "[encoded data removed]",
      "text/plain": [
       "<Figure size 432x288 with 1 Axes>"
      ]
     },
     "metadata": {
      "needs_background": "light"
     },
     "output_type": "display_data"
    }
   ],
   "source": [
    "sns.countplot(building['plan_configuration'])\n",
    "plt.xticks(rotation=90)\n",
    "plt.show()"
   ]
  },
  {
   "cell_type": "code",
   "execution_count": 76,
   "metadata": {},
   "outputs": [
    {
     "name": "stderr",
     "output_type": "stream",
     "text": [
      "D:\\anaconda3\\lib\\site-packages\\seaborn\\_decorators.py:36: FutureWarning: Pass the following variable as a keyword arg: x. From version 0.12, the only valid positional argument will be `data`, and passing other arguments without an explicit keyword will result in an error or misinterpretation.\n",
      "  warnings.warn(\n"
     ]
    },
    {
     "data": {
      "image/png": "[encoded data removed]",
      "text/plain": [
       "<Figure size 864x576 with 1 Axes>"
      ]
     },
     "metadata": {
      "needs_background": "light"
     },
     "output_type": "display_data"
    }
   ],
   "source": [
    "plt.figure(figsize=(12,8))\n",
    "sns.countplot(building['plan_configuration'], hue=building['damage'])\n",
    "plt.xticks(rotation=90)\n",
    "plt.show()"
   ]
  },
  {
   "cell_type": "markdown",
   "metadata": {},
   "source": [
    "Layout bangunan rectangular adalah layout yang paling banyak digunakan, yaitu 95%. Bisa jadi layout ini adalah layout standard yang digunakan di Nepal, dan paling banyak juga mengalami kerusakan"
   ]
  },
  {
   "cell_type": "markdown",
   "metadata": {},
   "source": [
    "## __CONDITION POST EARTHQUAKE__"
   ]
  },
  {
   "cell_type": "code",
   "execution_count": 77,
   "metadata": {},
   "outputs": [
    {
     "data": {
      "text/plain": [
       "Damaged-Not used                           207083\n",
       "Damaged-Rubble unclear                     125048\n",
       "Damaged-Used in risk                       123253\n",
       "Damaged-Repaired and used                  107272\n",
       "Damaged-Rubble clear                       101706\n",
       "Not damaged                                 60879\n",
       "Damaged-Rubble Clear-New building built     32979\n",
       "Covered by landslide                          381\n",
       "Name: condition_post_eq, dtype: int64"
      ]
     },
     "execution_count": 77,
     "metadata": {},
     "output_type": "execute_result"
    }
   ],
   "source": [
    "building['condition_post_eq'].value_counts()"
   ]
  },
  {
   "cell_type": "code",
   "execution_count": 78,
   "metadata": {},
   "outputs": [
    {
     "name": "stderr",
     "output_type": "stream",
     "text": [
      "D:\\anaconda3\\lib\\site-packages\\seaborn\\_decorators.py:36: FutureWarning: Pass the following variable as a keyword arg: x. From version 0.12, the only valid positional argument will be `data`, and passing other arguments without an explicit keyword will result in an error or misinterpretation.\n",
      "  warnings.warn(\n"
     ]
    },
    {
     "data": {
      "image/png": "[encoded data removed]",
      "text/plain": [
       "<Figure size 432x288 with 1 Axes>"
      ]
     },
     "metadata": {
      "needs_background": "light"
     },
     "output_type": "display_data"
    }
   ],
   "source": [
    "sns.countplot(building['condition_post_eq'])\n",
    "plt.xticks(rotation=90)\n",
    "plt.show()"
   ]
  },
  {
   "cell_type": "markdown",
   "metadata": {},
   "source": [
    "Dari data diatas, kebanyakan bangunan yang rusak tidak digunakan lagi, dan ada yang dipakai dengan kerusakan yang tidak diperbaiki, tentunya akan ada resiko yang didapat"
   ]
  },
  {
   "cell_type": "code",
   "execution_count": 79,
   "metadata": {},
   "outputs": [
    {
     "name": "stderr",
     "output_type": "stream",
     "text": [
      "D:\\anaconda3\\lib\\site-packages\\seaborn\\_decorators.py:36: FutureWarning: Pass the following variable as a keyword arg: x. From version 0.12, the only valid positional argument will be `data`, and passing other arguments without an explicit keyword will result in an error or misinterpretation.\n",
      "  warnings.warn(\n"
     ]
    },
    {
     "data": {
      "image/png": "[encoded data removed]",
      "text/plain": [
       "<Figure size 432x288 with 1 Axes>"
      ]
     },
     "metadata": {
      "needs_background": "light"
     },
     "output_type": "display_data"
    }
   ],
   "source": [
    "sns.countplot(building['condition_post_eq'], hue=building['damage'])\n",
    "plt.xticks(rotation=90)\n",
    "plt.show()"
   ]
  },
  {
   "cell_type": "markdown",
   "metadata": {},
   "source": [
    "Pasca gempa bangunan-bangunan yang mengalami kerusakan level low risk banyak yang masih digunakan tetapi beresiko karena belum diperbaiki. Ada juga yang sudah di perbaiki dan digunakan lagi. Ada yang tidak digunakan sama sekali dan ada juga yang tidak rusak.\n",
    "Pasca gempa bangunan-bangunan yang mengalami kerusakan level high damage ada yang tertutup tanah, tapi kebanyakan sudah tidak digunakan karena memang sudah tidak bisa digunakan."
   ]
  },
  {
   "cell_type": "markdown",
   "metadata": {},
   "source": [
    "## __TECHNICAL SOLUTION PROPOSED__"
   ]
  },
  {
   "cell_type": "code",
   "execution_count": 80,
   "metadata": {},
   "outputs": [
    {
     "data": {
      "text/plain": [
       "Reconstruction    468053\n",
       "Major repair      128802\n",
       "Minor repair      110151\n",
       "No need            51595\n",
       "Name: technical_solution_proposed, dtype: int64"
      ]
     },
     "execution_count": 80,
     "metadata": {},
     "output_type": "execute_result"
    }
   ],
   "source": [
    "building['technical_solution_proposed'].value_counts()"
   ]
  },
  {
   "cell_type": "code",
   "execution_count": 81,
   "metadata": {},
   "outputs": [],
   "source": [
    "tec = pd.DataFrame(building['technical_solution_proposed'].value_counts())"
   ]
  },
  {
   "cell_type": "code",
   "execution_count": 82,
   "metadata": {},
   "outputs": [
    {
     "name": "stderr",
     "output_type": "stream",
     "text": [
      "D:\\anaconda3\\lib\\site-packages\\seaborn\\_decorators.py:36: FutureWarning: Pass the following variable as a keyword arg: x. From version 0.12, the only valid positional argument will be `data`, and passing other arguments without an explicit keyword will result in an error or misinterpretation.\n",
      "  warnings.warn(\n"
     ]
    },
    {
     "data": {
      "image/png": "[encoded data removed]",
      "text/plain": [
       "<Figure size 432x288 with 1 Axes>"
      ]
     },
     "metadata": {
      "needs_background": "light"
     },
     "output_type": "display_data"
    }
   ],
   "source": [
    "sns.countplot(building['technical_solution_proposed'])\n",
    "plt.xticks(rotation=90)\n",
    "plt.show()"
   ]
  },
  {
   "cell_type": "code",
   "execution_count": 83,
   "metadata": {},
   "outputs": [
    {
     "data": {
      "image/png": "[encoded data removed]",
      "text/plain": [
       "<Figure size 720x360 with 1 Axes>"
      ]
     },
     "metadata": {},
     "output_type": "display_data"
    }
   ],
   "source": [
    "plt.figure(figsize=(10,5))\n",
    "plt.title('Presentase Technical Solution')\n",
    "plt.pie(tec['technical_solution_proposed'], labels=list(tec.index),\n",
    "        autopct='%.2f%%')\n",
    "plt.show()"
   ]
  },
  {
   "cell_type": "markdown",
   "metadata": {},
   "source": [
    "Pada data tersebut, kebanyakan bangunan yang terkena dampak merupakan bangunan yang butuh untuk di rekonstruksi lagi, yaitu sebanyak 61.7%, dan ada bangunan yang tidak butuh di beri tindak lanjut sebanyak 6.8%"
   ]
  },
  {
   "cell_type": "code",
   "execution_count": 84,
   "metadata": {},
   "outputs": [
    {
     "name": "stderr",
     "output_type": "stream",
     "text": [
      "D:\\anaconda3\\lib\\site-packages\\seaborn\\_decorators.py:36: FutureWarning: Pass the following variable as a keyword arg: x. From version 0.12, the only valid positional argument will be `data`, and passing other arguments without an explicit keyword will result in an error or misinterpretation.\n",
      "  warnings.warn(\n"
     ]
    },
    {
     "data": {
      "image/png": "[encoded data removed]",
      "text/plain": [
       "<Figure size 432x288 with 1 Axes>"
      ]
     },
     "metadata": {
      "needs_background": "light"
     },
     "output_type": "display_data"
    }
   ],
   "source": [
    "sns.countplot(building['technical_solution_proposed'], hue=building['damage'])\n",
    "plt.xticks(rotation=90)\n",
    "plt.show()"
   ]
  },
  {
   "cell_type": "markdown",
   "metadata": {},
   "source": [
    "Dari data tersebut, kerusakan dengan high damage memang membutuhkan rekonstruksti mengingat kerusakan yang dialaminya, untuk low damage ada yang membutuhkan major repair, namun tidak harus sampai rekonstruksi, dan minor repair bahkan ada yang tidak membutuhkan perbaikan"
   ]
  },
  {
   "cell_type": "markdown",
   "metadata": {},
   "source": [
    "Bangunan yang memiliki low damage memiliki ciri2 seperti: Menggunakan ground floor berjenis RC dan Timber, menggunakan atap berjenis RCC/RB/RBC, menggunakan pondasi berjenis Bamboo/Timber, Cement-Stone/Brick, dan RC,berposisi Attached 2-side dan Attached 3-side yaitu menempel pada 2 bangunan atau 3 bangunan.\n",
    "Sedangkan yang meiliki high damage adalah: Menggunakan pondasi berjenis Mud Mortar-Stone/Brick, menggunakan ground floor berjenis mud dan brick/stone, menggunakan atap berjenis Bamboo/Timber-Heavy roof dan Bamboo/Timber-Light roof dan berposisi Not attached dan Attached 1-side yaitu berdiri sendiri atau menempel pada satu bangunan lain.\n"
   ]
  }
 ],
 "metadata": {
  "kernelspec": {
   "display_name": "Python 3",
   "language": "python",
   "name": "python3"
  },
  "language_info": {
   "codemirror_mode": {
    "name": "ipython",
    "version": 3
   },
   "file_extension": ".py",
   "mimetype": "text/x-python",
   "name": "python",
   "nbconvert_exporter": "python",
   "pygments_lexer": "ipython3",
   "version": "3.8.3"
  }
 },
 "nbformat": 4,
 "nbformat_minor": 4
}
